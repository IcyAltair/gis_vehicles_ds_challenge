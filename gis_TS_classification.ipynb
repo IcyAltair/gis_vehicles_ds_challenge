{
 "cells": [
  {
   "cell_type": "code",
   "execution_count": 1,
   "metadata": {},
   "outputs": [
    {
     "data": {
      "text/plain": [
       "'/home/xoxai/vehicle_dataset_public'"
      ]
     },
     "execution_count": 1,
     "metadata": {},
     "output_type": "execute_result"
    }
   ],
   "source": [
    "pwd"
   ]
  },
  {
   "cell_type": "code",
   "execution_count": 5,
   "metadata": {},
   "outputs": [
    {
     "name": "stdout",
     "output_type": "stream",
     "text": [
      "-rw-r--r--  1 xoxai users  115178 окт  5 12:28 vehicle19_fuelLevel_public.csv\r\n",
      "-rw-r--r--  1 xoxai users  137894 окт  5 12:28 vehicle19_ingection_public.csv\r\n",
      "-rw-r--r--  1 xoxai users    1315 окт  5 12:29 vehicle19_refueling2_public.csv\r\n",
      "-rw-r--r--  1 xoxai users  164495 окт  5 12:29 vehicle19_speedAndHeight_public.csv\r\n",
      "-rw-r--r--  1 xoxai users  163542 окт  5 12:29 vehicle19_tachometer_public.csv\r\n",
      "-rw-r--r--  1 xoxai users  527136 окт  5 12:20 vehicle1_fuelLevel_public.csv\r\n",
      "-rw-r--r--  1 xoxai users 2148219 окт  5 12:20 vehicle1_ingection_public.csv\r\n",
      "-rw-r--r--  1 xoxai users    5895 окт  5 12:21 vehicle1_refueling2_public.csv\r\n",
      "-rw-r--r--  1 xoxai users 2639781 окт  5 12:21 vehicle1_speedAndHeight_public.csv\r\n",
      "-rw-r--r--  1 xoxai users 2390163 окт  5 12:22 vehicle1_tachometer_public.csv\r\n"
     ]
    }
   ],
   "source": [
    "ls -la | grep -i 'vehicle1'"
   ]
  },
  {
   "cell_type": "code",
   "execution_count": 3,
   "metadata": {},
   "outputs": [],
   "source": [
    "import pandas as pd\n",
    "# 1 vehicle: \n",
    "# -- fuelLevel (T), ingection (T), refueling2 (T), speedAndHeight (T), tachometer (T)"
   ]
  },
  {
   "cell_type": "code",
   "execution_count": 11,
   "metadata": {},
   "outputs": [
    {
     "data": {
      "text/html": [
       "<div>\n",
       "<style scoped>\n",
       "    .dataframe tbody tr th:only-of-type {\n",
       "        vertical-align: middle;\n",
       "    }\n",
       "\n",
       "    .dataframe tbody tr th {\n",
       "        vertical-align: top;\n",
       "    }\n",
       "\n",
       "    .dataframe thead th {\n",
       "        text-align: right;\n",
       "    }\n",
       "</style>\n",
       "<table border=\"1\" class=\"dataframe\">\n",
       "  <thead>\n",
       "    <tr style=\"text-align: right;\">\n",
       "      <th></th>\n",
       "      <th>DTIME</th>\n",
       "      <th>BEVALUE</th>\n",
       "    </tr>\n",
       "  </thead>\n",
       "  <tbody>\n",
       "    <tr>\n",
       "      <td>0</td>\n",
       "      <td>2020-01-08 21:16:02</td>\n",
       "      <td>0</td>\n",
       "    </tr>\n",
       "    <tr>\n",
       "      <td>1</td>\n",
       "      <td>2020-01-08 21:17:04</td>\n",
       "      <td>0</td>\n",
       "    </tr>\n",
       "    <tr>\n",
       "      <td>2</td>\n",
       "      <td>2020-01-08 21:18:04</td>\n",
       "      <td>0</td>\n",
       "    </tr>\n",
       "    <tr>\n",
       "      <td>3</td>\n",
       "      <td>2020-01-09 10:05:26</td>\n",
       "      <td>49,7</td>\n",
       "    </tr>\n",
       "    <tr>\n",
       "      <td>4</td>\n",
       "      <td>2020-01-09 10:06:27</td>\n",
       "      <td>49,9</td>\n",
       "    </tr>\n",
       "    <tr>\n",
       "      <td>...</td>\n",
       "      <td>...</td>\n",
       "      <td>...</td>\n",
       "    </tr>\n",
       "    <tr>\n",
       "      <td>19027</td>\n",
       "      <td>2020-06-27 00:48:05</td>\n",
       "      <td>54</td>\n",
       "    </tr>\n",
       "    <tr>\n",
       "      <td>19028</td>\n",
       "      <td>2020-06-27 00:49:05</td>\n",
       "      <td>54,2</td>\n",
       "    </tr>\n",
       "    <tr>\n",
       "      <td>19029</td>\n",
       "      <td>2020-06-27 01:15:14</td>\n",
       "      <td>54</td>\n",
       "    </tr>\n",
       "    <tr>\n",
       "      <td>19030</td>\n",
       "      <td>2020-06-27 01:16:14</td>\n",
       "      <td>54,2</td>\n",
       "    </tr>\n",
       "    <tr>\n",
       "      <td>19031</td>\n",
       "      <td>2020-06-27 01:17:14</td>\n",
       "      <td>54,4</td>\n",
       "    </tr>\n",
       "  </tbody>\n",
       "</table>\n",
       "<p>19032 rows × 2 columns</p>\n",
       "</div>"
      ],
      "text/plain": [
       "                     DTIME BEVALUE\n",
       "0      2020-01-08 21:16:02       0\n",
       "1      2020-01-08 21:17:04       0\n",
       "2      2020-01-08 21:18:04       0\n",
       "3      2020-01-09 10:05:26    49,7\n",
       "4      2020-01-09 10:06:27    49,9\n",
       "...                    ...     ...\n",
       "19027  2020-06-27 00:48:05      54\n",
       "19028  2020-06-27 00:49:05    54,2\n",
       "19029  2020-06-27 01:15:14      54\n",
       "19030  2020-06-27 01:16:14    54,2\n",
       "19031  2020-06-27 01:17:14    54,4\n",
       "\n",
       "[19032 rows x 2 columns]"
      ]
     },
     "execution_count": 11,
     "metadata": {},
     "output_type": "execute_result"
    }
   ],
   "source": [
    "# данные по зажиганию (бинарный признак)\n",
    "pd.read_csv('./vehicle1_fuelLevel_public.csv', sep=';')"
   ]
  },
  {
   "cell_type": "code",
   "execution_count": 8,
   "metadata": {},
   "outputs": [
    {
     "data": {
      "text/html": [
       "<div>\n",
       "<style scoped>\n",
       "    .dataframe tbody tr th:only-of-type {\n",
       "        vertical-align: middle;\n",
       "    }\n",
       "\n",
       "    .dataframe tbody tr th {\n",
       "        vertical-align: top;\n",
       "    }\n",
       "\n",
       "    .dataframe thead th {\n",
       "        text-align: right;\n",
       "    }\n",
       "</style>\n",
       "<table border=\"1\" class=\"dataframe\">\n",
       "  <thead>\n",
       "    <tr style=\"text-align: right;\">\n",
       "      <th></th>\n",
       "      <th>TSID</th>\n",
       "      <th>STARTDATE</th>\n",
       "      <th>ENDDATE</th>\n",
       "      <th>STARTLEVEL</th>\n",
       "      <th>ENDLEVEL</th>\n",
       "    </tr>\n",
       "  </thead>\n",
       "  <tbody>\n",
       "    <tr>\n",
       "      <td>0</td>\n",
       "      <td>1</td>\n",
       "      <td>2020-01-16 11:02:40</td>\n",
       "      <td>2020-01-16 13:20:40</td>\n",
       "      <td>46,7</td>\n",
       "      <td>38,4</td>\n",
       "    </tr>\n",
       "    <tr>\n",
       "      <td>1</td>\n",
       "      <td>1</td>\n",
       "      <td>2020-01-16 13:20:40</td>\n",
       "      <td>2020-01-16 13:25:46</td>\n",
       "      <td>38,4</td>\n",
       "      <td>56,7</td>\n",
       "    </tr>\n",
       "    <tr>\n",
       "      <td>2</td>\n",
       "      <td>1</td>\n",
       "      <td>2020-01-17 09:05:49</td>\n",
       "      <td>2020-01-17 12:14:10</td>\n",
       "      <td>56,3</td>\n",
       "      <td>51</td>\n",
       "    </tr>\n",
       "    <tr>\n",
       "      <td>3</td>\n",
       "      <td>1</td>\n",
       "      <td>2020-01-17 14:45:48</td>\n",
       "      <td>2020-01-17 16:12:27</td>\n",
       "      <td>51</td>\n",
       "      <td>43,9</td>\n",
       "    </tr>\n",
       "    <tr>\n",
       "      <td>4</td>\n",
       "      <td>1</td>\n",
       "      <td>2020-01-20 09:44:03</td>\n",
       "      <td>2020-01-20 12:44:07</td>\n",
       "      <td>43,9</td>\n",
       "      <td>23,5</td>\n",
       "    </tr>\n",
       "    <tr>\n",
       "      <td>...</td>\n",
       "      <td>...</td>\n",
       "      <td>...</td>\n",
       "      <td>...</td>\n",
       "      <td>...</td>\n",
       "      <td>...</td>\n",
       "    </tr>\n",
       "    <tr>\n",
       "      <td>98</td>\n",
       "      <td>1</td>\n",
       "      <td>2020-06-26 17:13:03</td>\n",
       "      <td>2020-06-26 18:57:03</td>\n",
       "      <td>49,3</td>\n",
       "      <td>39,2</td>\n",
       "    </tr>\n",
       "    <tr>\n",
       "      <td>99</td>\n",
       "      <td>1</td>\n",
       "      <td>2020-06-26 18:57:03</td>\n",
       "      <td>2020-06-26 19:04:00</td>\n",
       "      <td>39,2</td>\n",
       "      <td>59,7</td>\n",
       "    </tr>\n",
       "    <tr>\n",
       "      <td>100</td>\n",
       "      <td>1</td>\n",
       "      <td>2020-06-26 19:04:00</td>\n",
       "      <td>2020-06-26 21:20:41</td>\n",
       "      <td>59,7</td>\n",
       "      <td>32,2</td>\n",
       "    </tr>\n",
       "    <tr>\n",
       "      <td>101</td>\n",
       "      <td>1</td>\n",
       "      <td>2020-06-26 22:00:39</td>\n",
       "      <td>2020-06-27 00:11:16</td>\n",
       "      <td>32,2</td>\n",
       "      <td>7,3</td>\n",
       "    </tr>\n",
       "    <tr>\n",
       "      <td>102</td>\n",
       "      <td>1</td>\n",
       "      <td>2020-06-27 00:11:16</td>\n",
       "      <td>2020-06-27 00:22:37</td>\n",
       "      <td>7,3</td>\n",
       "      <td>57</td>\n",
       "    </tr>\n",
       "  </tbody>\n",
       "</table>\n",
       "<p>103 rows × 5 columns</p>\n",
       "</div>"
      ],
      "text/plain": [
       "     TSID            STARTDATE              ENDDATE STARTLEVEL ENDLEVEL\n",
       "0       1  2020-01-16 11:02:40  2020-01-16 13:20:40       46,7     38,4\n",
       "1       1  2020-01-16 13:20:40  2020-01-16 13:25:46       38,4     56,7\n",
       "2       1  2020-01-17 09:05:49  2020-01-17 12:14:10       56,3       51\n",
       "3       1  2020-01-17 14:45:48  2020-01-17 16:12:27         51     43,9\n",
       "4       1  2020-01-20 09:44:03  2020-01-20 12:44:07       43,9     23,5\n",
       "..    ...                  ...                  ...        ...      ...\n",
       "98      1  2020-06-26 17:13:03  2020-06-26 18:57:03       49,3     39,2\n",
       "99      1  2020-06-26 18:57:03  2020-06-26 19:04:00       39,2     59,7\n",
       "100     1  2020-06-26 19:04:00  2020-06-26 21:20:41       59,7     32,2\n",
       "101     1  2020-06-26 22:00:39  2020-06-27 00:11:16       32,2      7,3\n",
       "102     1  2020-06-27 00:11:16  2020-06-27 00:22:37        7,3       57\n",
       "\n",
       "[103 rows x 5 columns]"
      ]
     },
     "execution_count": 8,
     "metadata": {},
     "output_type": "execute_result"
    }
   ],
   "source": [
    "# данные по зажиганию (бинарный признак)\n",
    "pd.read_csv('./vehicle1_refueling2_public.csv', sep=';')"
   ]
  },
  {
   "cell_type": "code",
   "execution_count": 9,
   "metadata": {},
   "outputs": [
    {
     "name": "stdout",
     "output_type": "stream",
     "text": [
      "Набор данных vehicle dataset состоит из следующих csv-файлов:\r",
      "\r\n",
      "\r",
      "\r\n",
      "1) vehicleTSID_fuelLevel.csv –  уровень топлива по данным измерений бортового оборудования транспортного средства (ТС)\r",
      "\r\n",
      "\t1. Метка времени измерения\r",
      "\r\n",
      "\t2. Уровень топлива, л.\r",
      "\r\n",
      "\r",
      "\r\n",
      "2) vehicleTSID_ingection.csv – состояние замка зажигания:\r",
      "\r\n",
      "\t1. Метка времени измерения\r",
      "\r\n",
      "\t2. Признак (1 – включен, 0 -выключен).\r",
      "\r\n",
      "\r",
      "\r\n",
      "3) vehicleTSID_refueling2.csv – данные о событиях заправки/подозрения на слив топлива:\r",
      "\r\n",
      "\t1. Идентификатор ТС (TSID)\r",
      "\r\n",
      "\t2. Метка времени начала события заправки/подозрения на слив топлива\r",
      "\r\n",
      "\t3. Метка времени окончания события заправки/подозрения на слив топлива\r",
      "\r\n",
      "\t4. Уровень топлива на момент начала события, л\r",
      "\r\n",
      "\t5. Уровень топлива на момент окончания события, л.\r",
      "\r\n",
      "\r",
      "\r\n",
      "4) vehicleTSID_speedAndHeight.csv – телематические данные о скорости движения и высоты над уровнем моря ТС:\r",
      "\r\n",
      "\t1. Метка времени измерения\r",
      "\r\n",
      "\t2. Скорость, км/ч\r",
      "\r\n",
      "\t3. Высота, м.\r",
      "\r\n",
      "\r",
      "\r\n",
      "5) vehicleTSID_tachometer.csv – показания тахометра:\r",
      "\r\n",
      "\t1. Метка времени измерения\r",
      "\r\n",
      "\t2. Скорость вращения, оборот/мин.\r",
      "\r\n",
      "\r",
      "\r\n",
      "В названиях файлов TSID означает идентификатор ТС."
     ]
    }
   ],
   "source": [
    "cat readme.txt"
   ]
  },
  {
   "cell_type": "code",
   "execution_count": 10,
   "metadata": {},
   "outputs": [],
   "source": [
    "# Скорость, ключ зажигания (бинарный признак), высота над уровнем моря и скорость передвижения\n",
    "# , скорость вращения двигателя (об/мин), "
   ]
  },
  {
   "cell_type": "code",
   "execution_count": 47,
   "metadata": {},
   "outputs": [],
   "source": [
    "import os\n",
    "import pandas as pd"
   ]
  },
  {
   "cell_type": "code",
   "execution_count": 10,
   "metadata": {},
   "outputs": [],
   "source": [
    "# get all files with vehicle word in name\n",
    "filenames = [filename for filename in os.listdir() if filename.find('vehicle') != -1]"
   ]
  },
  {
   "cell_type": "code",
   "execution_count": 42,
   "metadata": {},
   "outputs": [],
   "source": [
    "def get_unique_vehicles_sensors(filenames):\n",
    "    vehicles, sensors = set(), set()\n",
    "    for filename in filenames:\n",
    "        vehicle_name, sensor_type, _ = filename.split('_')\n",
    "        vehicles.add(vehicle_name)\n",
    "        sensors.add(sensor_type)\n",
    "    return list(vehicles), list(sensors)"
   ]
  },
  {
   "cell_type": "code",
   "execution_count": 43,
   "metadata": {},
   "outputs": [],
   "source": [
    "vehicles, sensors = get_unique_vehicles_sensors(filenames)"
   ]
  },
  {
   "cell_type": "code",
   "execution_count": 44,
   "metadata": {},
   "outputs": [
    {
     "data": {
      "text/plain": [
       "['vehicle28', 'vehicle5', 'vehicle19', 'vehicle1', 'vehicle3']"
      ]
     },
     "execution_count": 44,
     "metadata": {},
     "output_type": "execute_result"
    }
   ],
   "source": [
    "vehicles"
   ]
  },
  {
   "cell_type": "code",
   "execution_count": 45,
   "metadata": {},
   "outputs": [
    {
     "data": {
      "text/plain": [
       "['ingection', 'refueling2', 'fuelLevel', 'tachometer', 'speedAndHeight']"
      ]
     },
     "execution_count": 45,
     "metadata": {},
     "output_type": "execute_result"
    }
   ],
   "source": [
    "sensors"
   ]
  },
  {
   "cell_type": "code",
   "execution_count": 176,
   "metadata": {},
   "outputs": [],
   "source": [
    "vehicles_data = pd.Series()\n",
    "for vehicle_name in vehicles:\n",
    "    vehicle = pd.Series()\n",
    "    for sensor in sensors:\n",
    "        sensor_df = pd.read_csv('_'.join([vehicle_name, sensor, 'public.csv']), sep=';')\n",
    "        vehicle[sensor] = sensor_df\n",
    "    vehicles_data[vehicle_name] = vehicle"
   ]
  },
  {
   "cell_type": "code",
   "execution_count": 177,
   "metadata": {},
   "outputs": [
    {
     "data": {
      "text/plain": [
       "(['vehicle28', 'vehicle5', 'vehicle19', 'vehicle1', 'vehicle3'],\n",
       " ['ingection', 'refueling2', 'fuelLevel', 'tachometer', 'speedAndHeight'])"
      ]
     },
     "execution_count": 177,
     "metadata": {},
     "output_type": "execute_result"
    }
   ],
   "source": [
    "vehicles, sensors"
   ]
  },
  {
   "cell_type": "code",
   "execution_count": 178,
   "metadata": {},
   "outputs": [],
   "source": [
    "for vehicle in vehicles:\n",
    "    vehicles_data[vehicle].fuelLevel.BEVALUE = vehicles_data[vehicle].fuelLevel.BEVALUE.str.replace(',', '.').astype('float')"
   ]
  },
  {
   "cell_type": "code",
   "execution_count": 179,
   "metadata": {},
   "outputs": [],
   "source": [
    "for vehicle in vehicles:\n",
    "    vehicles_data[vehicle]['max_fuel'] = vehicles_data[vehicle].fuelLevel.BEVALUE.max()"
   ]
  },
  {
   "cell_type": "code",
   "execution_count": 180,
   "metadata": {},
   "outputs": [
    {
     "name": "stdout",
     "output_type": "stream",
     "text": [
      "60.0\n",
      "73.5\n",
      "95.0\n",
      "60.0\n",
      "279.8\n"
     ]
    }
   ],
   "source": [
    "for vehicle in vehicles:\n",
    "    print(vehicles_data[vehicle].max_fuel)"
   ]
  },
  {
   "cell_type": "markdown",
   "metadata": {},
   "source": [
    "Анализ максимального уровня топлива в баках за весь предоставленный период времени может свидетельствовать о том, что vehicle28 и vehicle1 с максимальным объемом в 60 литров с больой вероятностью являются легковыми автомобилями.\n",
    "\n",
    "Таким же является vehicle5 с максимальным объемом в 73,5 литра.\n",
    "\n",
    "Транспортное средство с идентификатором vehicle19 относится к типу (???)\n",
    "\n",
    "vehicle3 -- фура с самым большим из представленных баков, предназначена для транспортировки грузов на дальние расстояния, магистральный тягач типа MAN, 279.8 (280) литров."
   ]
  },
  {
   "cell_type": "code",
   "execution_count": 192,
   "metadata": {},
   "outputs": [
    {
     "ename": "AttributeError",
     "evalue": "Can only use .str accessor with string values!",
     "output_type": "error",
     "traceback": [
      "\u001b[0;31m---------------------------------------------------------------------------\u001b[0m",
      "\u001b[0;31mAttributeError\u001b[0m                            Traceback (most recent call last)",
      "\u001b[0;32m<ipython-input-192-7833adddebdd>\u001b[0m in \u001b[0;36m<module>\u001b[0;34m\u001b[0m\n\u001b[1;32m      1\u001b[0m \u001b[0;32mfor\u001b[0m \u001b[0mvehicle\u001b[0m \u001b[0;32min\u001b[0m \u001b[0mvehicles\u001b[0m\u001b[0;34m:\u001b[0m\u001b[0;34m\u001b[0m\u001b[0;34m\u001b[0m\u001b[0m\n\u001b[1;32m      2\u001b[0m     \u001b[0;31m# vehicles_data[vehicle].speedAndHeight.DTIME = vehicles_data[vehicle].speedAndHeight.DTIME.astype('datetime64')\u001b[0m\u001b[0;34m\u001b[0m\u001b[0;34m\u001b[0m\u001b[0;34m\u001b[0m\u001b[0m\n\u001b[0;32m----> 3\u001b[0;31m     \u001b[0mvehicles_data\u001b[0m\u001b[0;34m[\u001b[0m\u001b[0mvehicle\u001b[0m\u001b[0;34m]\u001b[0m\u001b[0;34m.\u001b[0m\u001b[0mspeedAndHeight\u001b[0m\u001b[0;34m.\u001b[0m\u001b[0mSPEED\u001b[0m \u001b[0;34m=\u001b[0m \u001b[0mvehicles_data\u001b[0m\u001b[0;34m[\u001b[0m\u001b[0mvehicle\u001b[0m\u001b[0;34m]\u001b[0m\u001b[0;34m.\u001b[0m\u001b[0mspeedAndHeight\u001b[0m\u001b[0;34m.\u001b[0m\u001b[0mSPEED\u001b[0m\u001b[0;34m.\u001b[0m\u001b[0mstr\u001b[0m\u001b[0;34m.\u001b[0m\u001b[0mreplace\u001b[0m\u001b[0;34m(\u001b[0m\u001b[0;34m','\u001b[0m\u001b[0;34m,\u001b[0m \u001b[0;34m'.'\u001b[0m\u001b[0;34m)\u001b[0m\u001b[0;34m.\u001b[0m\u001b[0mastype\u001b[0m\u001b[0;34m(\u001b[0m\u001b[0;34m'float'\u001b[0m\u001b[0;34m)\u001b[0m\u001b[0;34m\u001b[0m\u001b[0;34m\u001b[0m\u001b[0m\n\u001b[0m\u001b[1;32m      4\u001b[0m     \u001b[0;31m# vehicles_data[vehicle].speedAndHeight.HEIGHT = vehicles_data[vehicle].speedAndHeight.HEIGHT.str.replace(',', '.').astype('float')\u001b[0m\u001b[0;34m\u001b[0m\u001b[0;34m\u001b[0m\u001b[0;34m\u001b[0m\u001b[0m\n",
      "\u001b[0;32m~/anaconda3/lib/python3.7/site-packages/pandas/core/generic.py\u001b[0m in \u001b[0;36m__getattr__\u001b[0;34m(self, name)\u001b[0m\n\u001b[1;32m   5173\u001b[0m             \u001b[0;32mor\u001b[0m \u001b[0mname\u001b[0m \u001b[0;32min\u001b[0m \u001b[0mself\u001b[0m\u001b[0;34m.\u001b[0m\u001b[0m_accessors\u001b[0m\u001b[0;34m\u001b[0m\u001b[0;34m\u001b[0m\u001b[0m\n\u001b[1;32m   5174\u001b[0m         ):\n\u001b[0;32m-> 5175\u001b[0;31m             \u001b[0;32mreturn\u001b[0m \u001b[0mobject\u001b[0m\u001b[0;34m.\u001b[0m\u001b[0m__getattribute__\u001b[0m\u001b[0;34m(\u001b[0m\u001b[0mself\u001b[0m\u001b[0;34m,\u001b[0m \u001b[0mname\u001b[0m\u001b[0;34m)\u001b[0m\u001b[0;34m\u001b[0m\u001b[0;34m\u001b[0m\u001b[0m\n\u001b[0m\u001b[1;32m   5176\u001b[0m         \u001b[0;32melse\u001b[0m\u001b[0;34m:\u001b[0m\u001b[0;34m\u001b[0m\u001b[0;34m\u001b[0m\u001b[0m\n\u001b[1;32m   5177\u001b[0m             \u001b[0;32mif\u001b[0m \u001b[0mself\u001b[0m\u001b[0;34m.\u001b[0m\u001b[0m_info_axis\u001b[0m\u001b[0;34m.\u001b[0m\u001b[0m_can_hold_identifiers_and_holds_name\u001b[0m\u001b[0;34m(\u001b[0m\u001b[0mname\u001b[0m\u001b[0;34m)\u001b[0m\u001b[0;34m:\u001b[0m\u001b[0;34m\u001b[0m\u001b[0;34m\u001b[0m\u001b[0m\n",
      "\u001b[0;32m~/anaconda3/lib/python3.7/site-packages/pandas/core/accessor.py\u001b[0m in \u001b[0;36m__get__\u001b[0;34m(self, obj, cls)\u001b[0m\n\u001b[1;32m    173\u001b[0m             \u001b[0;31m# we're accessing the attribute of the class, i.e., Dataset.geo\u001b[0m\u001b[0;34m\u001b[0m\u001b[0;34m\u001b[0m\u001b[0;34m\u001b[0m\u001b[0m\n\u001b[1;32m    174\u001b[0m             \u001b[0;32mreturn\u001b[0m \u001b[0mself\u001b[0m\u001b[0;34m.\u001b[0m\u001b[0m_accessor\u001b[0m\u001b[0;34m\u001b[0m\u001b[0;34m\u001b[0m\u001b[0m\n\u001b[0;32m--> 175\u001b[0;31m         \u001b[0maccessor_obj\u001b[0m \u001b[0;34m=\u001b[0m \u001b[0mself\u001b[0m\u001b[0;34m.\u001b[0m\u001b[0m_accessor\u001b[0m\u001b[0;34m(\u001b[0m\u001b[0mobj\u001b[0m\u001b[0;34m)\u001b[0m\u001b[0;34m\u001b[0m\u001b[0;34m\u001b[0m\u001b[0m\n\u001b[0m\u001b[1;32m    176\u001b[0m         \u001b[0;31m# Replace the property with the accessor object. Inspired by:\u001b[0m\u001b[0;34m\u001b[0m\u001b[0;34m\u001b[0m\u001b[0;34m\u001b[0m\u001b[0m\n\u001b[1;32m    177\u001b[0m         \u001b[0;31m# http://www.pydanny.com/cached-property.html\u001b[0m\u001b[0;34m\u001b[0m\u001b[0;34m\u001b[0m\u001b[0;34m\u001b[0m\u001b[0m\n",
      "\u001b[0;32m~/anaconda3/lib/python3.7/site-packages/pandas/core/strings.py\u001b[0m in \u001b[0;36m__init__\u001b[0;34m(self, data)\u001b[0m\n\u001b[1;32m   1915\u001b[0m \u001b[0;34m\u001b[0m\u001b[0m\n\u001b[1;32m   1916\u001b[0m     \u001b[0;32mdef\u001b[0m \u001b[0m__init__\u001b[0m\u001b[0;34m(\u001b[0m\u001b[0mself\u001b[0m\u001b[0;34m,\u001b[0m \u001b[0mdata\u001b[0m\u001b[0;34m)\u001b[0m\u001b[0;34m:\u001b[0m\u001b[0;34m\u001b[0m\u001b[0;34m\u001b[0m\u001b[0m\n\u001b[0;32m-> 1917\u001b[0;31m         \u001b[0mself\u001b[0m\u001b[0;34m.\u001b[0m\u001b[0m_inferred_dtype\u001b[0m \u001b[0;34m=\u001b[0m \u001b[0mself\u001b[0m\u001b[0;34m.\u001b[0m\u001b[0m_validate\u001b[0m\u001b[0;34m(\u001b[0m\u001b[0mdata\u001b[0m\u001b[0;34m)\u001b[0m\u001b[0;34m\u001b[0m\u001b[0;34m\u001b[0m\u001b[0m\n\u001b[0m\u001b[1;32m   1918\u001b[0m         \u001b[0mself\u001b[0m\u001b[0;34m.\u001b[0m\u001b[0m_is_categorical\u001b[0m \u001b[0;34m=\u001b[0m \u001b[0mis_categorical_dtype\u001b[0m\u001b[0;34m(\u001b[0m\u001b[0mdata\u001b[0m\u001b[0;34m)\u001b[0m\u001b[0;34m\u001b[0m\u001b[0;34m\u001b[0m\u001b[0m\n\u001b[1;32m   1919\u001b[0m \u001b[0;34m\u001b[0m\u001b[0m\n",
      "\u001b[0;32m~/anaconda3/lib/python3.7/site-packages/pandas/core/strings.py\u001b[0m in \u001b[0;36m_validate\u001b[0;34m(data)\u001b[0m\n\u001b[1;32m   1965\u001b[0m \u001b[0;34m\u001b[0m\u001b[0m\n\u001b[1;32m   1966\u001b[0m         \u001b[0;32mif\u001b[0m \u001b[0minferred_dtype\u001b[0m \u001b[0;32mnot\u001b[0m \u001b[0;32min\u001b[0m \u001b[0mallowed_types\u001b[0m\u001b[0;34m:\u001b[0m\u001b[0;34m\u001b[0m\u001b[0;34m\u001b[0m\u001b[0m\n\u001b[0;32m-> 1967\u001b[0;31m             \u001b[0;32mraise\u001b[0m \u001b[0mAttributeError\u001b[0m\u001b[0;34m(\u001b[0m\u001b[0;34m\"Can only use .str accessor with string \"\u001b[0m \u001b[0;34m\"values!\"\u001b[0m\u001b[0;34m)\u001b[0m\u001b[0;34m\u001b[0m\u001b[0;34m\u001b[0m\u001b[0m\n\u001b[0m\u001b[1;32m   1968\u001b[0m         \u001b[0;32mreturn\u001b[0m \u001b[0minferred_dtype\u001b[0m\u001b[0;34m\u001b[0m\u001b[0;34m\u001b[0m\u001b[0m\n\u001b[1;32m   1969\u001b[0m \u001b[0;34m\u001b[0m\u001b[0m\n",
      "\u001b[0;31mAttributeError\u001b[0m: Can only use .str accessor with string values!"
     ]
    }
   ],
   "source": [
    "for vehicle in vehicles:\n",
    "    # vehicles_data[vehicle].speedAndHeight.DTIME = vehicles_data[vehicle].speedAndHeight.DTIME.astype('datetime64')\n",
    "    vehicles_data[vehicle].speedAndHeight.SPEED = vehicles_data[vehicle].speedAndHeight.SPEED.str.replace(',', '.').astype('float')\n",
    "    # vehicles_data[vehicle].speedAndHeight.HEIGHT = vehicles_data[vehicle].speedAndHeight.HEIGHT.str.replace(',', '.').astype('float')"
   ]
  },
  {
   "cell_type": "code",
   "execution_count": 217,
   "metadata": {},
   "outputs": [],
   "source": [
    "for vehicle in vehicles:\n",
    "    df = vehicles_data[vehicle].speedAndHeight\n",
    "    vehicles_data[vehicle]['max_height'] = df.HEIGHT.max()\n",
    "    vehicles_data[vehicle]['min_height'] = df.HEIGHT.min()\n",
    "    vehicles_data[vehicle]['avg_height'] = df.HEIGHT.mean()\n",
    "    vehicles_data[vehicle]['height_range'] = df.HEIGHT.max() - df.HEIGHT.min()"
   ]
  },
  {
   "cell_type": "code",
   "execution_count": 210,
   "metadata": {},
   "outputs": [],
   "source": [
    "def show_params(param_name, params):\n",
    "    for vehicle in vehicles:\n",
    "        for param in params:\n",
    "            print(vehicle, ' '.join(params))"
   ]
  },
  {
   "cell_type": "code",
   "execution_count": 212,
   "metadata": {},
   "outputs": [
    {
     "name": "stdout",
     "output_type": "stream",
     "text": [
      "vehicle28 min_height    -2561.8\n",
      "max_height      375.3\n",
      "avg_height    61.5954\n",
      "dtype: object\n",
      "vehicle5 min_height   -3228.2\n",
      "max_height    3258.7\n",
      "avg_height    52.983\n",
      "dtype: object\n",
      "vehicle19 min_height      -46.6\n",
      "max_height     2812.8\n",
      "avg_height    81.3893\n",
      "dtype: object\n",
      "vehicle1 min_height    -1503.6\n",
      "max_height     2193.4\n",
      "avg_height    37.0444\n",
      "dtype: object\n",
      "vehicle3 min_height      -79.7\n",
      "max_height      167.1\n",
      "avg_height    56.7928\n",
      "dtype: object\n"
     ]
    }
   ],
   "source": [
    "show_param(['min_height', 'max_height', 'avg_height'])"
   ]
  },
  {
   "cell_type": "code",
   "execution_count": 213,
   "metadata": {},
   "outputs": [],
   "source": [
    "for vehicle in vehicles:\n",
    "    df = vehicles_data[vehicle].speedAndHeight\n",
    "    vehicles_data[vehicle]['max_speed'] = df.SPEED.max()\n",
    "    vehicles_data[vehicle]['min_speed'] = df.SPEED.min()\n",
    "    vehicles_data[vehicle]['avg_speed'] = df.SPEED.mean()\n",
    "    vehicles_data[vehicle]['speed_range'] = df.SPEED.max() - df.SPEED.min()"
   ]
  },
  {
   "cell_type": "code",
   "execution_count": 219,
   "metadata": {},
   "outputs": [],
   "source": [
    "vehicles_df = pd.DataFrame()\n",
    "for vehicle in vehicles:\n",
    "    vehicles_df[vehicle] = vehicles_data[vehicle][['max_fuel', 'max_height', 'min_height', 'avg_height', 'height_range', 'max_speed', 'min_speed', 'avg_speed', 'speed_range']]"
   ]
  },
  {
   "cell_type": "code",
   "execution_count": 229,
   "metadata": {},
   "outputs": [],
   "source": [
    "vdft = vehicles_df.drop('min_speed').transpose()"
   ]
  },
  {
   "cell_type": "code",
   "execution_count": 237,
   "metadata": {},
   "outputs": [],
   "source": [
    "from matplotlib import pyplot as plt "
   ]
  },
  {
   "cell_type": "code",
   "execution_count": 241,
   "metadata": {},
   "outputs": [],
   "source": [
    "dp = list(vdft[['max_fuel', 'max_speed']].values)"
   ]
  },
  {
   "cell_type": "code",
   "execution_count": 243,
   "metadata": {},
   "outputs": [],
   "source": [
    "X = [el[0] for el in dp]\n",
    "y = [el[1] for el in dp]"
   ]
  },
  {
   "cell_type": "code",
   "execution_count": 252,
   "metadata": {},
   "outputs": [
    {
     "data": {
      "image/png": "[encoded data removed]",
      "text/plain": [
       "<Figure size 432x288 with 1 Axes>"
      ]
     },
     "metadata": {
      "needs_background": "light"
     },
     "output_type": "display_data"
    },
    {
     "data": {
      "text/plain": [
       "<Figure size 864x864 with 0 Axes>"
      ]
     },
     "metadata": {},
     "output_type": "display_data"
    }
   ],
   "source": [
    "plt.scatter(X, y)\n",
    "plt.xlabel('max_fuel')\n",
    "plt.ylabel('max_speed')\n",
    "plt.figure(figsize=(12,12))\n",
    "plt.show()"
   ]
  },
  {
   "cell_type": "code",
   "execution_count": null,
   "metadata": {},
   "outputs": [],
   "source": []
  }
 ],
 "metadata": {
  "kernelspec": {
   "display_name": "Python 3",
   "language": "python",
   "name": "python3"
  },
  "language_info": {
   "codemirror_mode": {
    "name": "ipython",
    "version": 3
   },
   "file_extension": ".py",
   "mimetype": "text/x-python",
   "name": "python",
   "nbconvert_exporter": "python",
   "pygments_lexer": "ipython3",
   "version": "3.7.4"
  }
 },
 "nbformat": 4,
 "nbformat_minor": 2
}
