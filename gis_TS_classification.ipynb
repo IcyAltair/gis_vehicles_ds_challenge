{
 "cells": [
  {
   "cell_type": "code",
   "execution_count": 1,
   "metadata": {},
   "outputs": [],
   "source": [
    "import os\n",
    "os.chdir('./vehicle_dataset_public/')"
   ]
  },
  {
   "cell_type": "code",
   "execution_count": 3,
   "metadata": {},
   "outputs": [],
   "source": [
    "# import library for table-view representation and to operate with data more easy\n",
    "import pandas as pd\n",
    "# input files for vehicle: \n",
    "# fuelLevel (T), ingection (T), refueling2 (T), speedAndHeight (T), tachometer (T)"
   ]
  },
  {
   "cell_type": "code",
   "execution_count": 7,
   "metadata": {},
   "outputs": [
    {
     "data": {
      "text/plain": [
       "DTIME      object\n",
       "BEVALUE    object\n",
       "dtype: object"
      ]
     },
     "execution_count": 7,
     "metadata": {},
     "output_type": "execute_result"
    }
   ],
   "source": [
    "# данные по уровню топлива (непрерывный признак)\n",
    "df_test = pd.read_csv('./vehicle1_fuelLevel_public.csv', sep=';')\n",
    "df_test.dtypes"
   ]
  },
  {
   "cell_type": "code",
   "execution_count": 8,
   "metadata": {},
   "outputs": [
    {
     "data": {
      "text/html": [
       "<div>\n",
       "<style scoped>\n",
       "    .dataframe tbody tr th:only-of-type {\n",
       "        vertical-align: middle;\n",
       "    }\n",
       "\n",
       "    .dataframe tbody tr th {\n",
       "        vertical-align: top;\n",
       "    }\n",
       "\n",
       "    .dataframe thead th {\n",
       "        text-align: right;\n",
       "    }\n",
       "</style>\n",
       "<table border=\"1\" class=\"dataframe\">\n",
       "  <thead>\n",
       "    <tr style=\"text-align: right;\">\n",
       "      <th></th>\n",
       "      <th>TSID</th>\n",
       "      <th>STARTDATE</th>\n",
       "      <th>ENDDATE</th>\n",
       "      <th>STARTLEVEL</th>\n",
       "      <th>ENDLEVEL</th>\n",
       "    </tr>\n",
       "  </thead>\n",
       "  <tbody>\n",
       "    <tr>\n",
       "      <td>0</td>\n",
       "      <td>1</td>\n",
       "      <td>2020-01-16 11:02:40</td>\n",
       "      <td>2020-01-16 13:20:40</td>\n",
       "      <td>46,7</td>\n",
       "      <td>38,4</td>\n",
       "    </tr>\n",
       "    <tr>\n",
       "      <td>1</td>\n",
       "      <td>1</td>\n",
       "      <td>2020-01-16 13:20:40</td>\n",
       "      <td>2020-01-16 13:25:46</td>\n",
       "      <td>38,4</td>\n",
       "      <td>56,7</td>\n",
       "    </tr>\n",
       "    <tr>\n",
       "      <td>2</td>\n",
       "      <td>1</td>\n",
       "      <td>2020-01-17 09:05:49</td>\n",
       "      <td>2020-01-17 12:14:10</td>\n",
       "      <td>56,3</td>\n",
       "      <td>51</td>\n",
       "    </tr>\n",
       "    <tr>\n",
       "      <td>3</td>\n",
       "      <td>1</td>\n",
       "      <td>2020-01-17 14:45:48</td>\n",
       "      <td>2020-01-17 16:12:27</td>\n",
       "      <td>51</td>\n",
       "      <td>43,9</td>\n",
       "    </tr>\n",
       "    <tr>\n",
       "      <td>4</td>\n",
       "      <td>1</td>\n",
       "      <td>2020-01-20 09:44:03</td>\n",
       "      <td>2020-01-20 12:44:07</td>\n",
       "      <td>43,9</td>\n",
       "      <td>23,5</td>\n",
       "    </tr>\n",
       "    <tr>\n",
       "      <td>...</td>\n",
       "      <td>...</td>\n",
       "      <td>...</td>\n",
       "      <td>...</td>\n",
       "      <td>...</td>\n",
       "      <td>...</td>\n",
       "    </tr>\n",
       "    <tr>\n",
       "      <td>98</td>\n",
       "      <td>1</td>\n",
       "      <td>2020-06-26 17:13:03</td>\n",
       "      <td>2020-06-26 18:57:03</td>\n",
       "      <td>49,3</td>\n",
       "      <td>39,2</td>\n",
       "    </tr>\n",
       "    <tr>\n",
       "      <td>99</td>\n",
       "      <td>1</td>\n",
       "      <td>2020-06-26 18:57:03</td>\n",
       "      <td>2020-06-26 19:04:00</td>\n",
       "      <td>39,2</td>\n",
       "      <td>59,7</td>\n",
       "    </tr>\n",
       "    <tr>\n",
       "      <td>100</td>\n",
       "      <td>1</td>\n",
       "      <td>2020-06-26 19:04:00</td>\n",
       "      <td>2020-06-26 21:20:41</td>\n",
       "      <td>59,7</td>\n",
       "      <td>32,2</td>\n",
       "    </tr>\n",
       "    <tr>\n",
       "      <td>101</td>\n",
       "      <td>1</td>\n",
       "      <td>2020-06-26 22:00:39</td>\n",
       "      <td>2020-06-27 00:11:16</td>\n",
       "      <td>32,2</td>\n",
       "      <td>7,3</td>\n",
       "    </tr>\n",
       "    <tr>\n",
       "      <td>102</td>\n",
       "      <td>1</td>\n",
       "      <td>2020-06-27 00:11:16</td>\n",
       "      <td>2020-06-27 00:22:37</td>\n",
       "      <td>7,3</td>\n",
       "      <td>57</td>\n",
       "    </tr>\n",
       "  </tbody>\n",
       "</table>\n",
       "<p>103 rows × 5 columns</p>\n",
       "</div>"
      ],
      "text/plain": [
       "     TSID            STARTDATE              ENDDATE STARTLEVEL ENDLEVEL\n",
       "0       1  2020-01-16 11:02:40  2020-01-16 13:20:40       46,7     38,4\n",
       "1       1  2020-01-16 13:20:40  2020-01-16 13:25:46       38,4     56,7\n",
       "2       1  2020-01-17 09:05:49  2020-01-17 12:14:10       56,3       51\n",
       "3       1  2020-01-17 14:45:48  2020-01-17 16:12:27         51     43,9\n",
       "4       1  2020-01-20 09:44:03  2020-01-20 12:44:07       43,9     23,5\n",
       "..    ...                  ...                  ...        ...      ...\n",
       "98      1  2020-06-26 17:13:03  2020-06-26 18:57:03       49,3     39,2\n",
       "99      1  2020-06-26 18:57:03  2020-06-26 19:04:00       39,2     59,7\n",
       "100     1  2020-06-26 19:04:00  2020-06-26 21:20:41       59,7     32,2\n",
       "101     1  2020-06-26 22:00:39  2020-06-27 00:11:16       32,2      7,3\n",
       "102     1  2020-06-27 00:11:16  2020-06-27 00:22:37        7,3       57\n",
       "\n",
       "[103 rows x 5 columns]"
      ]
     },
     "execution_count": 8,
     "metadata": {},
     "output_type": "execute_result"
    }
   ],
   "source": [
    "# данные по зажиганию (бинарный признак)\n",
    "pd.read_csv('./vehicle1_refueling2_public.csv', sep=';')"
   ]
  },
  {
   "cell_type": "code",
   "execution_count": 10,
   "metadata": {},
   "outputs": [
    {
     "name": "stdout",
     "output_type": "stream",
     "text": [
      "Набор данных vehicle dataset состоит из следующих csv-файлов:\r",
      "\r\n",
      "\r",
      "\r\n",
      "1) vehicleTSID_fuelLevel.csv –  уровень топлива по данным измерений бортового оборудования транспортного средства (ТС)\r",
      "\r\n",
      "\t1. Метка времени измерения\r",
      "\r\n",
      "\t2. Уровень топлива, л.\r",
      "\r\n",
      "\r",
      "\r\n",
      "2) vehicleTSID_ingection.csv – состояние замка зажигания:\r",
      "\r\n",
      "\t1. Метка времени измерения\r",
      "\r\n",
      "\t2. Признак (1 – включен, 0 -выключен).\r",
      "\r\n",
      "\r",
      "\r\n",
      "3) vehicleTSID_refueling2.csv – данные о событиях заправки/подозрения на слив топлива:\r",
      "\r\n",
      "\t1. Идентификатор ТС (TSID)\r",
      "\r\n",
      "\t2. Метка времени начала события заправки/подозрения на слив топлива\r",
      "\r\n",
      "\t3. Метка времени окончания события заправки/подозрения на слив топлива\r",
      "\r\n",
      "\t4. Уровень топлива на момент начала события, л\r",
      "\r\n",
      "\t5. Уровень топлива на момент окончания события, л.\r",
      "\r\n",
      "\r",
      "\r\n",
      "4) vehicleTSID_speedAndHeight.csv – телематические данные о скорости движения и высоты над уровнем моря ТС:\r",
      "\r\n",
      "\t1. Метка времени измерения\r",
      "\r\n",
      "\t2. Скорость, км/ч\r",
      "\r\n",
      "\t3. Высота, м.\r",
      "\r\n",
      "\r",
      "\r\n",
      "5) vehicleTSID_tachometer.csv – показания тахометра:\r",
      "\r\n",
      "\t1. Метка времени измерения\r",
      "\r\n",
      "\t2. Скорость вращения, оборот/мин.\r",
      "\r\n",
      "\r",
      "\r\n",
      "В названиях файлов TSID означает идентификатор ТС."
     ]
    }
   ],
   "source": [
    "! cat ./../readme_from_authors.txt"
   ]
  },
  {
   "cell_type": "code",
   "execution_count": 10,
   "metadata": {},
   "outputs": [],
   "source": [
    "# Скорость, ключ зажигания (бинарный признак), высота над уровнем моря и скорость передвижения\n",
    "# , скорость вращения двигателя (об/мин), "
   ]
  },
  {
   "cell_type": "code",
   "execution_count": 11,
   "metadata": {},
   "outputs": [],
   "source": [
    "import pandas as pd"
   ]
  },
  {
   "cell_type": "code",
   "execution_count": 32,
   "metadata": {},
   "outputs": [],
   "source": [
    "# get all files with vehicle word in name\n",
    "filenames = [filename for filename in os.listdir() if filename.find('vehicle') != -1]"
   ]
  },
  {
   "cell_type": "code",
   "execution_count": 33,
   "metadata": {},
   "outputs": [],
   "source": [
    "def get_unique_vehicles_sensors(filenames):\n",
    "    vehicles, sensors = set(), set()\n",
    "    for filename in filenames:\n",
    "        vehicle_name, sensor_type, _ = filename.split('_')\n",
    "        vehicles.add(vehicle_name)\n",
    "        sensors.add(sensor_type)\n",
    "    return list(vehicles), list(sensors)"
   ]
  },
  {
   "cell_type": "code",
   "execution_count": 34,
   "metadata": {},
   "outputs": [],
   "source": [
    "vehicles, sensors = get_unique_vehicles_sensors(filenames)"
   ]
  },
  {
   "cell_type": "code",
   "execution_count": 86,
   "metadata": {},
   "outputs": [
    {
     "data": {
      "text/plain": [
       "(['vehicle1', 'vehicle19', 'vehicle28', 'vehicle3', 'vehicle5'],\n",
       " ['fuelLevel', 'ingection', 'refueling2', 'speedAndHeight', 'tachometer'])"
      ]
     },
     "execution_count": 86,
     "metadata": {},
     "output_type": "execute_result"
    }
   ],
   "source": [
    "# sort vehicle names and sensor types\n",
    "vehicles.sort()\n",
    "sensors.sort()\n",
    "\n",
    "# show it\n",
    "vehicles, sensors"
   ]
  },
  {
   "cell_type": "code",
   "execution_count": 89,
   "metadata": {},
   "outputs": [],
   "source": [
    "vehicles_data = pd.Series()\n",
    "for vehicle_name in vehicles:\n",
    "    vehicle = pd.Series()\n",
    "    for sensor in sensors:\n",
    "        sensor_df = pd.read_csv('_'.join([vehicle_name, sensor, 'public.csv']), sep=';')\n",
    "        vehicle[sensor] = sensor_df\n",
    "    vehicles_data[vehicle_name] = vehicle"
   ]
  },
  {
   "cell_type": "code",
   "execution_count": 90,
   "metadata": {},
   "outputs": [],
   "source": [
    "def convert_number(num_as_string):\n",
    "    \"\"\"\n",
    "        function converts numbers from string format N,n (replace all commas with dots) \n",
    "        to pandas Series float value format N.n (real number)\n",
    "    \"\"\"\n",
    "\n",
    "    return num_as_string.str.replace(',', '.').astype('float')\n",
    "\n",
    "\n",
    "def convert_date(date_as_string):\n",
    "    \"\"\"\n",
    "        function converts date from string to datetime64 pandas date format\n",
    "    \"\"\"\n",
    "    \n",
    "    return date_as_string.astype('datetime64')\n",
    "\n",
    "\n",
    "# replace commas with dots and change type from object to float64\n",
    "for vehicle in vehicles:\n",
    "    # fuelLevel dataset preproccess\n",
    "    for sensor in sensors:\n",
    "        sensor_data = vehicles_data[vehicle][sensor]\n",
    "        values = sensor_data.columns\n",
    "        for value in values:\n",
    "            # three types: int | float | date\n",
    "            # need to become: int->int str->float (if BEVALUE) and not int64 already\n",
    "            # check correctness using print(vehicle, sensor, sensor_data, value)\n",
    "            if sensor_data[value].dtype == 'object':\n",
    "                date_like_columns = ['DTIME', 'STARTDATE', 'ENDDATE']\n",
    "                if value in date_like_columns:\n",
    "                    sensor_data[value] = convert_date(sensor_data[value])\n",
    "                else:\n",
    "                    sensor_data[value] = convert_number(sensor_data[value])\n",
    "            # if not object do nothing (cause int64 -> (goes to) int64 by default)"
   ]
  },
  {
   "cell_type": "code",
   "execution_count": 91,
   "metadata": {},
   "outputs": [
    {
     "data": {
      "text/plain": [
       "DTIME      datetime64[ns]\n",
       "BEVALUE           float64\n",
       "dtype: object"
      ]
     },
     "execution_count": 91,
     "metadata": {},
     "output_type": "execute_result"
    }
   ],
   "source": [
    "vehicles_data['vehicle1'].fuelLevel.dtypes"
   ]
  },
  {
   "cell_type": "code",
   "execution_count": 92,
   "metadata": {},
   "outputs": [],
   "source": [
    "# generate some new features such as max_fuel\n",
    "for vehicle in vehicles:\n",
    "    # fuel level features\n",
    "    current_vehicle = vehicles_data[vehicle]\n",
    "    df = current_vehicle.fuelLevel\n",
    "    current_vehicle['max_fuel'] = df.BEVALUE.max()\n",
    "    \n",
    "    # height features\n",
    "    df = current_vehicle.speedAndHeight\n",
    "    current_vehicle['max_height'] = df.HEIGHT.max()\n",
    "    current_vehicle['min_height'] = df.HEIGHT.min()\n",
    "    current_vehicle['avg_height'] = df.HEIGHT.mean()\n",
    "    current_vehicle['range_height'] = df.HEIGHT.max() - df.HEIGHT.min()\n",
    "    \n",
    "    # speed features\n",
    "    vehicles_data[vehicle]['max_speed'] = df.SPEED.max()\n",
    "    # vehicles_data[vehicle]['min_speed'] = df.SPEED.min() -- not informative cause min is 0 for all\n",
    "    vehicles_data[vehicle]['avg_speed'] = df.SPEED.mean()\n",
    "    # vehicles_data[vehicle]['range_speed'] = df.SPEED.max() - df.SPEED.min() -- not informative cause max_speed "
   ]
  },
  {
   "cell_type": "markdown",
   "metadata": {},
   "source": [
    "Анализ максимального уровня топлива в баках за весь предоставленный период времени может свидетельствовать о том, что vehicle28 и vehicle1 с максимальным объемом в 60 литров с больой вероятностью являются легковыми автомобилями.\n",
    "\n",
    "Таким же является vehicle5 с максимальным объемом в 73,5 литра.\n",
    "\n",
    "Транспортное средство с идентификатором vehicle19 относится к типу (???)\n",
    "\n",
    "vehicle3 -- фура с самым большим из представленных баков, предназначена для транспортировки грузов на дальние расстояния, магистральный тягач типа MAN, 279.8 (280) литров."
   ]
  },
  {
   "cell_type": "code",
   "execution_count": 104,
   "metadata": {},
   "outputs": [],
   "source": [
    "# make dataframe with new features\n",
    "vehicles_df = pd.DataFrame()\n",
    "for vehicle in vehicles:\n",
    "    # get only features generated by us\n",
    "    generated_features = list(set(vehicles_data[vehicle].index) - set(sensors))\n",
    "    vehicles_df[vehicle] = vehicles_data[vehicle][generated_features]"
   ]
  },
  {
   "cell_type": "code",
   "execution_count": 151,
   "metadata": {},
   "outputs": [
    {
     "data": {
      "text/plain": [
       "0         0.0\n",
       "1         0.0\n",
       "2         0.0\n",
       "3        49.7\n",
       "4        49.9\n",
       "         ... \n",
       "19027    54.0\n",
       "19028    54.2\n",
       "19029    54.0\n",
       "19030    54.2\n",
       "19031    54.4\n",
       "Name: BEVALUE, Length: 19032, dtype: float64"
      ]
     },
     "execution_count": 151,
     "metadata": {},
     "output_type": "execute_result"
    }
   ],
   "source": [
    "vehicles_data['vehicle1'].fuelLevel.BEVALUE"
   ]
  },
  {
   "cell_type": "code",
   "execution_count": 105,
   "metadata": {},
   "outputs": [
    {
     "data": {
      "text/html": [
       "<div>\n",
       "<style scoped>\n",
       "    .dataframe tbody tr th:only-of-type {\n",
       "        vertical-align: middle;\n",
       "    }\n",
       "\n",
       "    .dataframe tbody tr th {\n",
       "        vertical-align: top;\n",
       "    }\n",
       "\n",
       "    .dataframe thead th {\n",
       "        text-align: right;\n",
       "    }\n",
       "</style>\n",
       "<table border=\"1\" class=\"dataframe\">\n",
       "  <thead>\n",
       "    <tr style=\"text-align: right;\">\n",
       "      <th></th>\n",
       "      <th>vehicle1</th>\n",
       "      <th>vehicle19</th>\n",
       "      <th>vehicle28</th>\n",
       "      <th>vehicle3</th>\n",
       "      <th>vehicle5</th>\n",
       "    </tr>\n",
       "  </thead>\n",
       "  <tbody>\n",
       "    <tr>\n",
       "      <td>min_height</td>\n",
       "      <td>-1503.6</td>\n",
       "      <td>-46.6</td>\n",
       "      <td>-2561.8</td>\n",
       "      <td>-79.7</td>\n",
       "      <td>-3228.2</td>\n",
       "    </tr>\n",
       "    <tr>\n",
       "      <td>avg_speed</td>\n",
       "      <td>52.3975</td>\n",
       "      <td>1.98549</td>\n",
       "      <td>42.1614</td>\n",
       "      <td>29.6963</td>\n",
       "      <td>59.0354</td>\n",
       "    </tr>\n",
       "    <tr>\n",
       "      <td>avg_height</td>\n",
       "      <td>37.0444</td>\n",
       "      <td>81.3893</td>\n",
       "      <td>61.5954</td>\n",
       "      <td>56.7928</td>\n",
       "      <td>52.983</td>\n",
       "    </tr>\n",
       "    <tr>\n",
       "      <td>range_height</td>\n",
       "      <td>3697</td>\n",
       "      <td>2859.4</td>\n",
       "      <td>2937.1</td>\n",
       "      <td>246.8</td>\n",
       "      <td>6486.9</td>\n",
       "    </tr>\n",
       "    <tr>\n",
       "      <td>max_height</td>\n",
       "      <td>2193.4</td>\n",
       "      <td>2812.8</td>\n",
       "      <td>375.3</td>\n",
       "      <td>167.1</td>\n",
       "      <td>3258.7</td>\n",
       "    </tr>\n",
       "    <tr>\n",
       "      <td>max_fuel</td>\n",
       "      <td>60</td>\n",
       "      <td>95</td>\n",
       "      <td>60</td>\n",
       "      <td>279.8</td>\n",
       "      <td>73.5</td>\n",
       "    </tr>\n",
       "    <tr>\n",
       "      <td>max_speed</td>\n",
       "      <td>129</td>\n",
       "      <td>57</td>\n",
       "      <td>122</td>\n",
       "      <td>227</td>\n",
       "      <td>132</td>\n",
       "    </tr>\n",
       "  </tbody>\n",
       "</table>\n",
       "</div>"
      ],
      "text/plain": [
       "             vehicle1 vehicle19 vehicle28 vehicle3 vehicle5\n",
       "min_height    -1503.6     -46.6   -2561.8    -79.7  -3228.2\n",
       "avg_speed     52.3975   1.98549   42.1614  29.6963  59.0354\n",
       "avg_height    37.0444   81.3893   61.5954  56.7928   52.983\n",
       "range_height     3697    2859.4    2937.1    246.8   6486.9\n",
       "max_height     2193.4    2812.8     375.3    167.1   3258.7\n",
       "max_fuel           60        95        60    279.8     73.5\n",
       "max_speed         129        57       122      227      132"
      ]
     },
     "execution_count": 105,
     "metadata": {},
     "output_type": "execute_result"
    }
   ],
   "source": [
    "vehicles_df"
   ]
  },
  {
   "cell_type": "code",
   "execution_count": 152,
   "metadata": {},
   "outputs": [
    {
     "data": {
      "text/html": [
       "<div>\n",
       "<style scoped>\n",
       "    .dataframe tbody tr th:only-of-type {\n",
       "        vertical-align: middle;\n",
       "    }\n",
       "\n",
       "    .dataframe tbody tr th {\n",
       "        vertical-align: top;\n",
       "    }\n",
       "\n",
       "    .dataframe thead th {\n",
       "        text-align: right;\n",
       "    }\n",
       "</style>\n",
       "<table border=\"1\" class=\"dataframe\">\n",
       "  <thead>\n",
       "    <tr style=\"text-align: right;\">\n",
       "      <th></th>\n",
       "      <th>min_height</th>\n",
       "      <th>avg_speed</th>\n",
       "      <th>avg_height</th>\n",
       "      <th>range_height</th>\n",
       "      <th>max_height</th>\n",
       "      <th>max_fuel</th>\n",
       "      <th>max_speed</th>\n",
       "    </tr>\n",
       "  </thead>\n",
       "  <tbody>\n",
       "    <tr>\n",
       "      <td>vehicle1</td>\n",
       "      <td>-1503.6</td>\n",
       "      <td>52.3975</td>\n",
       "      <td>37.0444</td>\n",
       "      <td>3697</td>\n",
       "      <td>2193.4</td>\n",
       "      <td>60</td>\n",
       "      <td>129</td>\n",
       "    </tr>\n",
       "    <tr>\n",
       "      <td>vehicle19</td>\n",
       "      <td>-46.6</td>\n",
       "      <td>1.98549</td>\n",
       "      <td>81.3893</td>\n",
       "      <td>2859.4</td>\n",
       "      <td>2812.8</td>\n",
       "      <td>95</td>\n",
       "      <td>57</td>\n",
       "    </tr>\n",
       "    <tr>\n",
       "      <td>vehicle28</td>\n",
       "      <td>-2561.8</td>\n",
       "      <td>42.1614</td>\n",
       "      <td>61.5954</td>\n",
       "      <td>2937.1</td>\n",
       "      <td>375.3</td>\n",
       "      <td>60</td>\n",
       "      <td>122</td>\n",
       "    </tr>\n",
       "    <tr>\n",
       "      <td>vehicle3</td>\n",
       "      <td>-79.7</td>\n",
       "      <td>29.6963</td>\n",
       "      <td>56.7928</td>\n",
       "      <td>246.8</td>\n",
       "      <td>167.1</td>\n",
       "      <td>279.8</td>\n",
       "      <td>227</td>\n",
       "    </tr>\n",
       "    <tr>\n",
       "      <td>vehicle5</td>\n",
       "      <td>-3228.2</td>\n",
       "      <td>59.0354</td>\n",
       "      <td>52.983</td>\n",
       "      <td>6486.9</td>\n",
       "      <td>3258.7</td>\n",
       "      <td>73.5</td>\n",
       "      <td>132</td>\n",
       "    </tr>\n",
       "  </tbody>\n",
       "</table>\n",
       "</div>"
      ],
      "text/plain": [
       "          min_height avg_speed avg_height range_height max_height max_fuel  \\\n",
       "vehicle1     -1503.6   52.3975    37.0444         3697     2193.4       60   \n",
       "vehicle19      -46.6   1.98549    81.3893       2859.4     2812.8       95   \n",
       "vehicle28    -2561.8   42.1614    61.5954       2937.1      375.3       60   \n",
       "vehicle3       -79.7   29.6963    56.7928        246.8      167.1    279.8   \n",
       "vehicle5     -3228.2   59.0354     52.983       6486.9     3258.7     73.5   \n",
       "\n",
       "          max_speed  \n",
       "vehicle1        129  \n",
       "vehicle19        57  \n",
       "vehicle28       122  \n",
       "vehicle3        227  \n",
       "vehicle5        132  "
      ]
     },
     "execution_count": 152,
     "metadata": {},
     "output_type": "execute_result"
    }
   ],
   "source": [
    "vdft = vehicles_df.transpose()\n",
    "vdft"
   ]
  },
  {
   "cell_type": "code",
   "execution_count": 108,
   "metadata": {},
   "outputs": [],
   "source": [
    "from matplotlib import pyplot as plt"
   ]
  },
  {
   "cell_type": "code",
   "execution_count": 156,
   "metadata": {},
   "outputs": [
    {
     "data": {
      "text/plain": [
       "[array([60.0, 52.397460664742574], dtype=object),\n",
       " array([95.0, 1.985494106980961], dtype=object),\n",
       " array([60.0, 42.161399705980195], dtype=object),\n",
       " array([279.8, 29.696296296296296], dtype=object),\n",
       " array([73.5, 59.03544883970601], dtype=object)]"
      ]
     },
     "execution_count": 156,
     "metadata": {},
     "output_type": "execute_result"
    }
   ],
   "source": [
    "dp = list(vdft[['max_fuel', 'avg_speed']].values)\n",
    "dp"
   ]
  },
  {
   "cell_type": "code",
   "execution_count": 157,
   "metadata": {},
   "outputs": [],
   "source": [
    "X = [el[0] for el in dp]\n",
    "y = [el[1] for el in dp]"
   ]
  },
  {
   "cell_type": "code",
   "execution_count": 158,
   "metadata": {},
   "outputs": [
    {
     "data": {
      "image/png": "[encoded data removed]",
      "text/plain": [
       "<Figure size 432x288 with 1 Axes>"
      ]
     },
     "metadata": {
      "needs_background": "light"
     },
     "output_type": "display_data"
    },
    {
     "data": {
      "text/plain": [
       "<Figure size 864x864 with 0 Axes>"
      ]
     },
     "metadata": {},
     "output_type": "display_data"
    }
   ],
   "source": [
    "plt.scatter(X, y)\n",
    "plt.xlabel('max_fuel')\n",
    "plt.ylabel('max_speed')\n",
    "plt.figure(figsize=(12,12))\n",
    "plt.show()"
   ]
  },
  {
   "cell_type": "markdown",
   "metadata": {},
   "source": [
    "Признаки, которые нужно добавить для классификации ТС:\n",
    "* число заправок в час / периодичность заправок / \n",
    "\n",
    "Заправки/сливы мы определили?\n",
    "\n",
    "**Оконные вещи:**\n",
    "* Скачки скорости\n",
    "* Длительность сессии неспешной езды (или что-то типа)\n",
    "* Длительность ускорений (средняя или медианная)\n",
    "* Длительность "
   ]
  },
  {
   "cell_type": "code",
   "execution_count": 159,
   "metadata": {},
   "outputs": [
    {
     "data": {
      "text/plain": [
       "[<matplotlib.lines.Line2D at 0x7f8f8e6f30d0>]"
      ]
     },
     "execution_count": 159,
     "metadata": {},
     "output_type": "execute_result"
    },
    {
     "data": {
      "image/png": "[encoded data removed]",
      "text/plain": [
       "<Figure size 432x288 with 1 Axes>"
      ]
     },
     "metadata": {
      "needs_background": "light"
     },
     "output_type": "display_data"
    }
   ],
   "source": [
    "plt.plot(list(vehicles_data['vehicle1'].tachometer.BEVALUE[:45]))"
   ]
  },
  {
   "cell_type": "code",
   "execution_count": 257,
   "metadata": {},
   "outputs": [],
   "source": [
    "for vehicle in vehicles:\n",
    "    fuel_values = list(vehicles_data[vehicle].fuelLevel.BEVALUE)\n",
    "    \n",
    "    defuel_indexes = []\n",
    "    defuel_amounts = []\n",
    "    fuel_indexes = []\n",
    "    fuel_amounts = []\n",
    "    \n",
    "    DEFUEL_THRESHOLD = 10 # litres in min\n",
    "    FUEL_THRESHOLD = 20 # litres in min\n",
    "    \n",
    "    for i in range(0, len(fuel_values) - 1):\n",
    "        # defuels\n",
    "        if (fuel_values[i] - fuel_values[i+1] > DEFUEL_THRESHOLD):\n",
    "            defuel_indexes.append(i)\n",
    "            # sliv_indexes.append(i+1)\n",
    "            defuel_amounts.append(fuel_values[i])\n",
    "\n",
    "        # fuels\n",
    "        if ((fuel_values[i+1] - fuel_values[i]) > FUEL_THRESHOLD):\n",
    "            fuel_indexes.append(i+1)\n",
    "            fuel_amounts.append(fuel_values[i+1])\n",
    "    \n",
    "    # add this info to vehicle data\n",
    "    current_vehicle = vehicles_data[vehicle]\n",
    "    df = current_vehicle.fuelLevel\n",
    "    current_vehicle['fuel_periods'] = df.DTIME[fuel_indexes]\n",
    "    current_vehicle['defuel_periods'] = df.DTIME[defuel_indexes]\n",
    "    \n",
    "    # add info about sum of fuels / defuels\n",
    "    current_vehicle['sum_fuel'] = sum(fuel_amounts)\n",
    "    current_vehicle['sum_defuel'] = sum(defuel_amounts)"
   ]
  },
  {
   "cell_type": "code",
   "execution_count": 263,
   "metadata": {},
   "outputs": [
    {
     "data": {
      "text/plain": [
       "fuelLevel                            DTIME  BEVALUE\n",
       "0    2020-01...\n",
       "ingection                            DTIME  BEVALUE\n",
       "0    2020-01...\n",
       "refueling2            TSID           STARTDATE             ENDDA...\n",
       "speedAndHeight                       DTIME  SPEED  HEIGHT\n",
       "0    2...\n",
       "tachometer                           DTIME  BEVALUE\n",
       "0    2020-01...\n",
       "max_fuel                                                      279.8\n",
       "max_height                                                    167.1\n",
       "min_height                                                    -79.7\n",
       "avg_height                                                  56.7928\n",
       "range_height                                                  246.8\n",
       "max_speed                                                       227\n",
       "avg_speed                                                   29.6963\n",
       "fuel_periods      1      2020-01-09 08:40:43\n",
       "273    2020-02-10 0...\n",
       "defuel_periods    271    2020-01-09 14:36:57\n",
       "954    2020-02-14 1...\n",
       "sum_fuel                                                     5141.3\n",
       "sum_defuel                                                     3391\n",
       "dtype: object"
      ]
     },
     "execution_count": 263,
     "metadata": {},
     "output_type": "execute_result"
    }
   ],
   "source": [
    "vehicles_data['vehicle3']"
   ]
  },
  {
   "cell_type": "code",
   "execution_count": 200,
   "metadata": {
    "scrolled": true
   },
   "outputs": [
    {
     "data": {
      "text/plain": [
       "[<matplotlib.lines.Line2D at 0x7f8f8a06d9d0>]"
      ]
     },
     "execution_count": 200,
     "metadata": {},
     "output_type": "execute_result"
    },
    {
     "data": {
      "image/png": "[encoded data removed]",
      "text/plain": [
       "<Figure size 432x288 with 1 Axes>"
      ]
     },
     "metadata": {
      "needs_background": "light"
     },
     "output_type": "display_data"
    }
   ],
   "source": [
    "plt.plot(list(vehicles_data['vehicle1'].speedAndHeight.HEIGHT[sliv_indexes]))"
   ]
  },
  {
   "cell_type": "code",
   "execution_count": 239,
   "metadata": {},
   "outputs": [
    {
     "data": {
      "text/plain": [
       "[<matplotlib.lines.Line2D at 0x7f8f8d0e48d0>]"
      ]
     },
     "execution_count": 239,
     "metadata": {},
     "output_type": "execute_result"
    },
    {
     "data": {
      "image/png": "[encoded data removed]",
      "text/plain": [
       "<Figure size 432x288 with 1 Axes>"
      ]
     },
     "metadata": {
      "needs_background": "light"
     },
     "output_type": "display_data"
    }
   ],
   "source": [
    "plt.plot(vehicles_data['vehicle1'].fuelLevel.BEVALUE[fuel_indexes[:50]])"
   ]
  },
  {
   "cell_type": "code",
   "execution_count": 216,
   "metadata": {},
   "outputs": [
    {
     "data": {
      "text/html": [
       "<div>\n",
       "<style scoped>\n",
       "    .dataframe tbody tr th:only-of-type {\n",
       "        vertical-align: middle;\n",
       "    }\n",
       "\n",
       "    .dataframe tbody tr th {\n",
       "        vertical-align: top;\n",
       "    }\n",
       "\n",
       "    .dataframe thead th {\n",
       "        text-align: right;\n",
       "    }\n",
       "</style>\n",
       "<table border=\"1\" class=\"dataframe\">\n",
       "  <thead>\n",
       "    <tr style=\"text-align: right;\">\n",
       "      <th></th>\n",
       "      <th>TSID</th>\n",
       "      <th>STARTDATE</th>\n",
       "      <th>ENDDATE</th>\n",
       "      <th>STARTLEVEL</th>\n",
       "      <th>ENDLEVEL</th>\n",
       "    </tr>\n",
       "  </thead>\n",
       "  <tbody>\n",
       "    <tr>\n",
       "      <td>0</td>\n",
       "      <td>1</td>\n",
       "      <td>2020-01-16 11:02:40</td>\n",
       "      <td>2020-01-16 13:20:40</td>\n",
       "      <td>46.7</td>\n",
       "      <td>38.4</td>\n",
       "    </tr>\n",
       "    <tr>\n",
       "      <td>1</td>\n",
       "      <td>1</td>\n",
       "      <td>2020-01-16 13:20:40</td>\n",
       "      <td>2020-01-16 13:25:46</td>\n",
       "      <td>38.4</td>\n",
       "      <td>56.7</td>\n",
       "    </tr>\n",
       "    <tr>\n",
       "      <td>2</td>\n",
       "      <td>1</td>\n",
       "      <td>2020-01-17 09:05:49</td>\n",
       "      <td>2020-01-17 12:14:10</td>\n",
       "      <td>56.3</td>\n",
       "      <td>51.0</td>\n",
       "    </tr>\n",
       "    <tr>\n",
       "      <td>3</td>\n",
       "      <td>1</td>\n",
       "      <td>2020-01-17 14:45:48</td>\n",
       "      <td>2020-01-17 16:12:27</td>\n",
       "      <td>51.0</td>\n",
       "      <td>43.9</td>\n",
       "    </tr>\n",
       "    <tr>\n",
       "      <td>4</td>\n",
       "      <td>1</td>\n",
       "      <td>2020-01-20 09:44:03</td>\n",
       "      <td>2020-01-20 12:44:07</td>\n",
       "      <td>43.9</td>\n",
       "      <td>23.5</td>\n",
       "    </tr>\n",
       "    <tr>\n",
       "      <td>...</td>\n",
       "      <td>...</td>\n",
       "      <td>...</td>\n",
       "      <td>...</td>\n",
       "      <td>...</td>\n",
       "      <td>...</td>\n",
       "    </tr>\n",
       "    <tr>\n",
       "      <td>98</td>\n",
       "      <td>1</td>\n",
       "      <td>2020-06-26 17:13:03</td>\n",
       "      <td>2020-06-26 18:57:03</td>\n",
       "      <td>49.3</td>\n",
       "      <td>39.2</td>\n",
       "    </tr>\n",
       "    <tr>\n",
       "      <td>99</td>\n",
       "      <td>1</td>\n",
       "      <td>2020-06-26 18:57:03</td>\n",
       "      <td>2020-06-26 19:04:00</td>\n",
       "      <td>39.2</td>\n",
       "      <td>59.7</td>\n",
       "    </tr>\n",
       "    <tr>\n",
       "      <td>100</td>\n",
       "      <td>1</td>\n",
       "      <td>2020-06-26 19:04:00</td>\n",
       "      <td>2020-06-26 21:20:41</td>\n",
       "      <td>59.7</td>\n",
       "      <td>32.2</td>\n",
       "    </tr>\n",
       "    <tr>\n",
       "      <td>101</td>\n",
       "      <td>1</td>\n",
       "      <td>2020-06-26 22:00:39</td>\n",
       "      <td>2020-06-27 00:11:16</td>\n",
       "      <td>32.2</td>\n",
       "      <td>7.3</td>\n",
       "    </tr>\n",
       "    <tr>\n",
       "      <td>102</td>\n",
       "      <td>1</td>\n",
       "      <td>2020-06-27 00:11:16</td>\n",
       "      <td>2020-06-27 00:22:37</td>\n",
       "      <td>7.3</td>\n",
       "      <td>57.0</td>\n",
       "    </tr>\n",
       "  </tbody>\n",
       "</table>\n",
       "<p>103 rows × 5 columns</p>\n",
       "</div>"
      ],
      "text/plain": [
       "     TSID           STARTDATE             ENDDATE  STARTLEVEL  ENDLEVEL\n",
       "0       1 2020-01-16 11:02:40 2020-01-16 13:20:40        46.7      38.4\n",
       "1       1 2020-01-16 13:20:40 2020-01-16 13:25:46        38.4      56.7\n",
       "2       1 2020-01-17 09:05:49 2020-01-17 12:14:10        56.3      51.0\n",
       "3       1 2020-01-17 14:45:48 2020-01-17 16:12:27        51.0      43.9\n",
       "4       1 2020-01-20 09:44:03 2020-01-20 12:44:07        43.9      23.5\n",
       "..    ...                 ...                 ...         ...       ...\n",
       "98      1 2020-06-26 17:13:03 2020-06-26 18:57:03        49.3      39.2\n",
       "99      1 2020-06-26 18:57:03 2020-06-26 19:04:00        39.2      59.7\n",
       "100     1 2020-06-26 19:04:00 2020-06-26 21:20:41        59.7      32.2\n",
       "101     1 2020-06-26 22:00:39 2020-06-27 00:11:16        32.2       7.3\n",
       "102     1 2020-06-27 00:11:16 2020-06-27 00:22:37         7.3      57.0\n",
       "\n",
       "[103 rows x 5 columns]"
      ]
     },
     "execution_count": 216,
     "metadata": {},
     "output_type": "execute_result"
    }
   ],
   "source": [
    "vehicles_data['vehicle1'].refueling2"
   ]
  },
  {
   "cell_type": "code",
   "execution_count": 241,
   "metadata": {},
   "outputs": [
    {
     "data": {
      "text/plain": [
       "3       2020-01-09 10:05:26\n",
       "25      2020-01-14 09:34:09\n",
       "30      2020-01-14 09:56:57\n",
       "72      2020-01-14 10:41:03\n",
       "128     2020-01-16 11:02:40\n",
       "                ...        \n",
       "18509   2020-06-25 18:46:18\n",
       "18614   2020-06-26 16:44:29\n",
       "18634   2020-06-26 17:13:03\n",
       "18740   2020-06-26 19:04:00\n",
       "19003   2020-06-27 00:22:37\n",
       "Name: DTIME, Length: 288, dtype: datetime64[ns]"
      ]
     },
     "execution_count": 241,
     "metadata": {},
     "output_type": "execute_result"
    }
   ],
   "source": [
    "vehicles_data['vehicle1'].fuelLevel.DTIME[fuel_indexes]"
   ]
  },
  {
   "cell_type": "code",
   "execution_count": null,
   "metadata": {},
   "outputs": [],
   "source": []
  }
 ],
 "metadata": {
  "kernelspec": {
   "display_name": "Python 3",
   "language": "python",
   "name": "python3"
  },
  "language_info": {
   "codemirror_mode": {
    "name": "ipython",
    "version": 3
   },
   "file_extension": ".py",
   "mimetype": "text/x-python",
   "name": "python",
   "nbconvert_exporter": "python",
   "pygments_lexer": "ipython3",
   "version": "3.7.4"
  }
 },
 "nbformat": 4,
 "nbformat_minor": 2
}
