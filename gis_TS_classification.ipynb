{
 "cells": [
  {
   "cell_type": "markdown",
   "metadata": {},
   "source": [
    "# Конкурс для начинающих Data Scientist от ГИС (ГазИнформСервис)\n",
    "## 1. Исходные данные, постановка задачи, методика решения\n",
    "### 1.1. Формат и типы данных\n",
    "\n",
    "Нам даны данные с бортовых датчиков в зависимости от временной отметки (timestamp) для транспортных средств за период январь-июнь 2020 года, а именно:\n",
    "\n",
    "* Показания **альтиметра** и **спидометра** (`vehicleID_speedAndHeight_public.csv`) _в метрах_ и _километрах в час_ соответственно\n",
    "* Показания **тахометра** (`vehicleID_tachometer_public.csv`) _в оборотах в минуту_\n",
    "* Показания датчика **замка зажигания** (`vehicleID_ingection_public.csv`) (в формате 0/1, где 0 соответствует выключенному состоянию, а 1 -- включённому)\n",
    "* Уровень **топлива** (`vehicleID_fuelLevel_public.csv`) в _литрах_\n",
    "\n",
    "Данные представлены в формате **CSV** (comma-separated-values), а в качестве разделителя используется знак точки с запятой -- `;`.\n",
    "\n",
    "### 1.2. Понимание предметной области\n",
    "\n",
    "Компании используют множество транспортных средств для ведения своей деятельности, для лучшего мониторинга технического состояния транспортного средства, специфики его использования, улучшения бизнес-процессов внутри компании на машины часто устанавливают серию датчиков, а затем команда аналитиков пытается выявить какие-то закономерности или аномалии в них.\n",
    "\n",
    "Одна из частых проблем при эксплуатации автомобиля -- нерациональный расход топлива, который может возникнуть из-за неправильной эксплуатации транспортного средства или из-за прямого вмешательства и механического изменения уровня топлива в нём, что может быть классифицировано как кража.\n",
    "\n",
    "### 1.3. Формулировка задачи\n",
    "\n",
    "В ходе анализа данных с бортовых датчиков предлагается решить следующие задачи:\n",
    "* Выявить заправки и сливы (хищения) топлива\n",
    "* Выявить режим работы техники с наибольшим расходом топлива\n",
    "* Выявить режимы перевозки грузов\n",
    "* Определить стиль вождения\n",
    "* Классифицировать транспортные средства по типам (специальные/грузовые/легковые)\n",
    "\n",
    "### 1.4. Описание методики решения\n"
   ]
  },
  {
   "cell_type": "code",
   "execution_count": 1,
   "metadata": {},
   "outputs": [],
   "source": [
    "import os\n",
    "os.chdir('./vehicle_dataset_public/')"
   ]
  },
  {
   "cell_type": "code",
   "execution_count": 3,
   "metadata": {},
   "outputs": [],
   "source": [
    "# import library for table-view representation and to operate with data more easy\n",
    "import pandas as pd\n",
    "# input files for vehicle: \n",
    "# fuelLevel (T), ingection (T), refueling2 (T), speedAndHeight (T), tachometer (T)"
   ]
  },
  {
   "cell_type": "code",
   "execution_count": 7,
   "metadata": {},
   "outputs": [
    {
     "data": {
      "text/plain": [
       "DTIME      object\n",
       "BEVALUE    object\n",
       "dtype: object"
      ]
     },
     "execution_count": 7,
     "metadata": {},
     "output_type": "execute_result"
    }
   ],
   "source": [
    "# данные по уровню топлива (непрерывный признак)\n",
    "df_test = pd.read_csv('./vehicle1_fuelLevel_public.csv', sep=';')\n",
    "df_test.dtypes"
   ]
  },
  {
   "cell_type": "code",
   "execution_count": 8,
   "metadata": {},
   "outputs": [
    {
     "data": {
      "text/html": [
       "<div>\n",
       "<style scoped>\n",
       "    .dataframe tbody tr th:only-of-type {\n",
       "        vertical-align: middle;\n",
       "    }\n",
       "\n",
       "    .dataframe tbody tr th {\n",
       "        vertical-align: top;\n",
       "    }\n",
       "\n",
       "    .dataframe thead th {\n",
       "        text-align: right;\n",
       "    }\n",
       "</style>\n",
       "<table border=\"1\" class=\"dataframe\">\n",
       "  <thead>\n",
       "    <tr style=\"text-align: right;\">\n",
       "      <th></th>\n",
       "      <th>TSID</th>\n",
       "      <th>STARTDATE</th>\n",
       "      <th>ENDDATE</th>\n",
       "      <th>STARTLEVEL</th>\n",
       "      <th>ENDLEVEL</th>\n",
       "    </tr>\n",
       "  </thead>\n",
       "  <tbody>\n",
       "    <tr>\n",
       "      <td>0</td>\n",
       "      <td>1</td>\n",
       "      <td>2020-01-16 11:02:40</td>\n",
       "      <td>2020-01-16 13:20:40</td>\n",
       "      <td>46,7</td>\n",
       "      <td>38,4</td>\n",
       "    </tr>\n",
       "    <tr>\n",
       "      <td>1</td>\n",
       "      <td>1</td>\n",
       "      <td>2020-01-16 13:20:40</td>\n",
       "      <td>2020-01-16 13:25:46</td>\n",
       "      <td>38,4</td>\n",
       "      <td>56,7</td>\n",
       "    </tr>\n",
       "    <tr>\n",
       "      <td>2</td>\n",
       "      <td>1</td>\n",
       "      <td>2020-01-17 09:05:49</td>\n",
       "      <td>2020-01-17 12:14:10</td>\n",
       "      <td>56,3</td>\n",
       "      <td>51</td>\n",
       "    </tr>\n",
       "    <tr>\n",
       "      <td>3</td>\n",
       "      <td>1</td>\n",
       "      <td>2020-01-17 14:45:48</td>\n",
       "      <td>2020-01-17 16:12:27</td>\n",
       "      <td>51</td>\n",
       "      <td>43,9</td>\n",
       "    </tr>\n",
       "    <tr>\n",
       "      <td>4</td>\n",
       "      <td>1</td>\n",
       "      <td>2020-01-20 09:44:03</td>\n",
       "      <td>2020-01-20 12:44:07</td>\n",
       "      <td>43,9</td>\n",
       "      <td>23,5</td>\n",
       "    </tr>\n",
       "    <tr>\n",
       "      <td>...</td>\n",
       "      <td>...</td>\n",
       "      <td>...</td>\n",
       "      <td>...</td>\n",
       "      <td>...</td>\n",
       "      <td>...</td>\n",
       "    </tr>\n",
       "    <tr>\n",
       "      <td>98</td>\n",
       "      <td>1</td>\n",
       "      <td>2020-06-26 17:13:03</td>\n",
       "      <td>2020-06-26 18:57:03</td>\n",
       "      <td>49,3</td>\n",
       "      <td>39,2</td>\n",
       "    </tr>\n",
       "    <tr>\n",
       "      <td>99</td>\n",
       "      <td>1</td>\n",
       "      <td>2020-06-26 18:57:03</td>\n",
       "      <td>2020-06-26 19:04:00</td>\n",
       "      <td>39,2</td>\n",
       "      <td>59,7</td>\n",
       "    </tr>\n",
       "    <tr>\n",
       "      <td>100</td>\n",
       "      <td>1</td>\n",
       "      <td>2020-06-26 19:04:00</td>\n",
       "      <td>2020-06-26 21:20:41</td>\n",
       "      <td>59,7</td>\n",
       "      <td>32,2</td>\n",
       "    </tr>\n",
       "    <tr>\n",
       "      <td>101</td>\n",
       "      <td>1</td>\n",
       "      <td>2020-06-26 22:00:39</td>\n",
       "      <td>2020-06-27 00:11:16</td>\n",
       "      <td>32,2</td>\n",
       "      <td>7,3</td>\n",
       "    </tr>\n",
       "    <tr>\n",
       "      <td>102</td>\n",
       "      <td>1</td>\n",
       "      <td>2020-06-27 00:11:16</td>\n",
       "      <td>2020-06-27 00:22:37</td>\n",
       "      <td>7,3</td>\n",
       "      <td>57</td>\n",
       "    </tr>\n",
       "  </tbody>\n",
       "</table>\n",
       "<p>103 rows × 5 columns</p>\n",
       "</div>"
      ],
      "text/plain": [
       "     TSID            STARTDATE              ENDDATE STARTLEVEL ENDLEVEL\n",
       "0       1  2020-01-16 11:02:40  2020-01-16 13:20:40       46,7     38,4\n",
       "1       1  2020-01-16 13:20:40  2020-01-16 13:25:46       38,4     56,7\n",
       "2       1  2020-01-17 09:05:49  2020-01-17 12:14:10       56,3       51\n",
       "3       1  2020-01-17 14:45:48  2020-01-17 16:12:27         51     43,9\n",
       "4       1  2020-01-20 09:44:03  2020-01-20 12:44:07       43,9     23,5\n",
       "..    ...                  ...                  ...        ...      ...\n",
       "98      1  2020-06-26 17:13:03  2020-06-26 18:57:03       49,3     39,2\n",
       "99      1  2020-06-26 18:57:03  2020-06-26 19:04:00       39,2     59,7\n",
       "100     1  2020-06-26 19:04:00  2020-06-26 21:20:41       59,7     32,2\n",
       "101     1  2020-06-26 22:00:39  2020-06-27 00:11:16       32,2      7,3\n",
       "102     1  2020-06-27 00:11:16  2020-06-27 00:22:37        7,3       57\n",
       "\n",
       "[103 rows x 5 columns]"
      ]
     },
     "execution_count": 8,
     "metadata": {},
     "output_type": "execute_result"
    }
   ],
   "source": [
    "# данные по зажиганию (бинарный признак)\n",
    "pd.read_csv('./vehicle1_refueling2_public.csv', sep=';')"
   ]
  },
  {
   "cell_type": "code",
   "execution_count": 10,
   "metadata": {},
   "outputs": [
    {
     "name": "stdout",
     "output_type": "stream",
     "text": [
      "Набор данных vehicle dataset состоит из следующих csv-файлов:\r",
      "\r\n",
      "\r",
      "\r\n",
      "1) vehicleTSID_fuelLevel.csv –  уровень топлива по данным измерений бортового оборудования транспортного средства (ТС)\r",
      "\r\n",
      "\t1. Метка времени измерения\r",
      "\r\n",
      "\t2. Уровень топлива, л.\r",
      "\r\n",
      "\r",
      "\r\n",
      "2) vehicleTSID_ingection.csv – состояние замка зажигания:\r",
      "\r\n",
      "\t1. Метка времени измерения\r",
      "\r\n",
      "\t2. Признак (1 – включен, 0 -выключен).\r",
      "\r\n",
      "\r",
      "\r\n",
      "3) vehicleTSID_refueling2.csv – данные о событиях заправки/подозрения на слив топлива:\r",
      "\r\n",
      "\t1. Идентификатор ТС (TSID)\r",
      "\r\n",
      "\t2. Метка времени начала события заправки/подозрения на слив топлива\r",
      "\r\n",
      "\t3. Метка времени окончания события заправки/подозрения на слив топлива\r",
      "\r\n",
      "\t4. Уровень топлива на момент начала события, л\r",
      "\r\n",
      "\t5. Уровень топлива на момент окончания события, л.\r",
      "\r\n",
      "\r",
      "\r\n",
      "4) vehicleTSID_speedAndHeight.csv – телематические данные о скорости движения и высоты над уровнем моря ТС:\r",
      "\r\n",
      "\t1. Метка времени измерения\r",
      "\r\n",
      "\t2. Скорость, км/ч\r",
      "\r\n",
      "\t3. Высота, м.\r",
      "\r\n",
      "\r",
      "\r\n",
      "5) vehicleTSID_tachometer.csv – показания тахометра:\r",
      "\r\n",
      "\t1. Метка времени измерения\r",
      "\r\n",
      "\t2. Скорость вращения, оборот/мин.\r",
      "\r\n",
      "\r",
      "\r\n",
      "В названиях файлов TSID означает идентификатор ТС."
     ]
    }
   ],
   "source": [
    "! cat ./../readme_from_authors.txt"
   ]
  },
  {
   "cell_type": "code",
   "execution_count": 10,
   "metadata": {},
   "outputs": [],
   "source": [
    "# Скорость, ключ зажигания (бинарный признак), высота над уровнем моря и скорость передвижения\n",
    "# , скорость вращения двигателя (об/мин), "
   ]
  },
  {
   "cell_type": "code",
   "execution_count": 11,
   "metadata": {},
   "outputs": [],
   "source": [
    "import pandas as pd"
   ]
  },
  {
   "cell_type": "code",
   "execution_count": 32,
   "metadata": {},
   "outputs": [],
   "source": [
    "# get all files with vehicle word in name\n",
    "filenames = [filename for filename in os.listdir() if filename.find('vehicle') != -1]"
   ]
  },
  {
   "cell_type": "code",
   "execution_count": 33,
   "metadata": {},
   "outputs": [],
   "source": [
    "def get_unique_vehicles_sensors(filenames):\n",
    "    vehicles, sensors = set(), set()\n",
    "    for filename in filenames:\n",
    "        vehicle_name, sensor_type, _ = filename.split('_')\n",
    "        vehicles.add(vehicle_name)\n",
    "        sensors.add(sensor_type)\n",
    "    return list(vehicles), list(sensors)"
   ]
  },
  {
   "cell_type": "code",
   "execution_count": 34,
   "metadata": {},
   "outputs": [],
   "source": [
    "vehicles, sensors = get_unique_vehicles_sensors(filenames)"
   ]
  },
  {
   "cell_type": "code",
   "execution_count": 86,
   "metadata": {},
   "outputs": [
    {
     "data": {
      "text/plain": [
       "(['vehicle1', 'vehicle19', 'vehicle28', 'vehicle3', 'vehicle5'],\n",
       " ['fuelLevel', 'ingection', 'refueling2', 'speedAndHeight', 'tachometer'])"
      ]
     },
     "execution_count": 86,
     "metadata": {},
     "output_type": "execute_result"
    }
   ],
   "source": [
    "# sort vehicle names and sensor types\n",
    "vehicles.sort()\n",
    "sensors.sort()\n",
    "\n",
    "# show it\n",
    "vehicles, sensors"
   ]
  },
  {
   "cell_type": "code",
   "execution_count": 89,
   "metadata": {},
   "outputs": [],
   "source": [
    "vehicles_data = pd.Series()\n",
    "for vehicle_name in vehicles:\n",
    "    vehicle = pd.Series()\n",
    "    for sensor in sensors:\n",
    "        sensor_df = pd.read_csv('_'.join([vehicle_name, sensor, 'public.csv']), sep=';')\n",
    "        vehicle[sensor] = sensor_df\n",
    "    vehicles_data[vehicle_name] = vehicle"
   ]
  },
  {
   "cell_type": "code",
   "execution_count": 90,
   "metadata": {},
   "outputs": [],
   "source": [
    "def convert_number(num_as_string):\n",
    "    \"\"\"\n",
    "        function converts numbers from string format N,n (replace all commas with dots) \n",
    "        to pandas Series float value format N.n (real number)\n",
    "    \"\"\"\n",
    "\n",
    "    return num_as_string.str.replace(',', '.').astype('float')\n",
    "\n",
    "\n",
    "def convert_date(date_as_string):\n",
    "    \"\"\"\n",
    "        function converts date from string to datetime64 pandas date format\n",
    "    \"\"\"\n",
    "    \n",
    "    return date_as_string.astype('datetime64')\n",
    "\n",
    "\n",
    "# replace commas with dots and change type from object to float64\n",
    "for vehicle in vehicles:\n",
    "    # fuelLevel dataset preproccess\n",
    "    for sensor in sensors:\n",
    "        sensor_data = vehicles_data[vehicle][sensor]\n",
    "        values = sensor_data.columns\n",
    "        for value in values:\n",
    "            # three types: int | float | date\n",
    "            # need to become: int->int str->float (if BEVALUE) and not int64 already\n",
    "            # check correctness using print(vehicle, sensor, sensor_data, value)\n",
    "            if sensor_data[value].dtype == 'object':\n",
    "                date_like_columns = ['DTIME', 'STARTDATE', 'ENDDATE']\n",
    "                if value in date_like_columns:\n",
    "                    sensor_data[value] = convert_date(sensor_data[value])\n",
    "                else:\n",
    "                    sensor_data[value] = convert_number(sensor_data[value])\n",
    "            # if not object do nothing (cause int64 -> (goes to) int64 by default)"
   ]
  },
  {
   "cell_type": "code",
   "execution_count": 91,
   "metadata": {},
   "outputs": [
    {
     "data": {
      "text/plain": [
       "DTIME      datetime64[ns]\n",
       "BEVALUE           float64\n",
       "dtype: object"
      ]
     },
     "execution_count": 91,
     "metadata": {},
     "output_type": "execute_result"
    }
   ],
   "source": [
    "vehicles_data['vehicle1'].fuelLevel.dtypes"
   ]
  },
  {
   "cell_type": "code",
   "execution_count": 537,
   "metadata": {},
   "outputs": [],
   "source": [
    "# generate some new features such as max_fuel\n",
    "for vehicle in vehicles:\n",
    "    # fuel level features\n",
    "    current_vehicle = vehicles_data[vehicle]\n",
    "    df = current_vehicle.fuelLevel\n",
    "    current_vehicle['max_fuel'] = df.BEVALUE.max()\n",
    "    \n",
    "    # height features\n",
    "    df = current_vehicle.speedAndHeight\n",
    "    current_vehicle['max_height'] = df.HEIGHT.max()\n",
    "    current_vehicle['min_height'] = df.HEIGHT.min()\n",
    "    current_vehicle['avg_height'] = df.HEIGHT.mean()\n",
    "    current_vehicle['range_height'] = df.HEIGHT.max() - df.HEIGHT.min()\n",
    "    \n",
    "    # speed features\n",
    "    vehicles_data[vehicle]['max_speed'] = df.SPEED.max()\n",
    "    # vehicles_data[vehicle]['min_speed'] = df.SPEED.min() -- not informative cause min is 0 for all\n",
    "    vehicles_data[vehicle]['avg_speed'] = df.SPEED.mean()\n",
    "    # vehicles_data[vehicle]['range_speed'] = df.SPEED.max() - df.SPEED.min() -- not informative cause max_speed\n",
    "    \n",
    "    # tachometer features\n",
    "    df = current_vehicle.tachometer\n",
    "    current_vehicle['avg_rotations'] = df.BEVALUE.mean()\n",
    "    current_vehicle['median_rotations'] = df.BEVALUE.median()"
   ]
  },
  {
   "cell_type": "markdown",
   "metadata": {},
   "source": [
    "Анализ максимального уровня топлива в баках за весь предоставленный период времени может свидетельствовать о том, что vehicle28 и vehicle1 с максимальным объемом в 60 литров с больой вероятностью являются легковыми автомобилями.\n",
    "\n",
    "Таким же является vehicle5 с максимальным объемом в 73,5 литра.\n",
    "\n",
    "Транспортное средство с идентификатором vehicle19 относится к типу (???)\n",
    "\n",
    "vehicle3 -- фура с самым большим из представленных баков, предназначена для транспортировки грузов на дальние расстояния, магистральный тягач типа MAN, 279.8 (280) литров."
   ]
  },
  {
   "cell_type": "code",
   "execution_count": 538,
   "metadata": {},
   "outputs": [],
   "source": [
    "# make dataframe with new features\n",
    "vehicles_df = pd.DataFrame()\n",
    "for vehicle in vehicles:\n",
    "    # get only features generated by us\n",
    "    generated_features = list(set(vehicles_data[vehicle].index) - set(sensors))\n",
    "    vehicles_df[vehicle] = vehicles_data[vehicle][generated_features]"
   ]
  },
  {
   "cell_type": "code",
   "execution_count": 534,
   "metadata": {},
   "outputs": [
    {
     "data": {
      "text/plain": [
       "0         0.0\n",
       "1         0.0\n",
       "2         0.0\n",
       "3        49.7\n",
       "4        49.9\n",
       "         ... \n",
       "19027    54.0\n",
       "19028    54.2\n",
       "19029    54.0\n",
       "19030    54.2\n",
       "19031    54.4\n",
       "Name: BEVALUE, Length: 19032, dtype: float64"
      ]
     },
     "execution_count": 534,
     "metadata": {},
     "output_type": "execute_result"
    }
   ],
   "source": [
    "vehicles_data['vehicle1'].fuelLevel.BEVALUE"
   ]
  },
  {
   "cell_type": "code",
   "execution_count": 539,
   "metadata": {},
   "outputs": [
    {
     "data": {
      "text/html": [
       "<div>\n",
       "<style scoped>\n",
       "    .dataframe tbody tr th:only-of-type {\n",
       "        vertical-align: middle;\n",
       "    }\n",
       "\n",
       "    .dataframe tbody tr th {\n",
       "        vertical-align: top;\n",
       "    }\n",
       "\n",
       "    .dataframe thead th {\n",
       "        text-align: right;\n",
       "    }\n",
       "</style>\n",
       "<table border=\"1\" class=\"dataframe\">\n",
       "  <thead>\n",
       "    <tr style=\"text-align: right;\">\n",
       "      <th></th>\n",
       "      <th>vehicle1</th>\n",
       "      <th>vehicle19</th>\n",
       "      <th>vehicle28</th>\n",
       "      <th>vehicle3</th>\n",
       "      <th>vehicle5</th>\n",
       "    </tr>\n",
       "  </thead>\n",
       "  <tbody>\n",
       "    <tr>\n",
       "      <td>min_height</td>\n",
       "      <td>-1503.6</td>\n",
       "      <td>-46.6</td>\n",
       "      <td>-2561.8</td>\n",
       "      <td>-79.7</td>\n",
       "      <td>-3228.2</td>\n",
       "    </tr>\n",
       "    <tr>\n",
       "      <td>avg_speed</td>\n",
       "      <td>52.3975</td>\n",
       "      <td>1.98549</td>\n",
       "      <td>42.1614</td>\n",
       "      <td>29.6963</td>\n",
       "      <td>59.0354</td>\n",
       "    </tr>\n",
       "    <tr>\n",
       "      <td>avg_height</td>\n",
       "      <td>37.0444</td>\n",
       "      <td>81.3893</td>\n",
       "      <td>61.5954</td>\n",
       "      <td>56.7928</td>\n",
       "      <td>52.983</td>\n",
       "    </tr>\n",
       "    <tr>\n",
       "      <td>range_height</td>\n",
       "      <td>3697</td>\n",
       "      <td>2859.4</td>\n",
       "      <td>2937.1</td>\n",
       "      <td>246.8</td>\n",
       "      <td>6486.9</td>\n",
       "    </tr>\n",
       "    <tr>\n",
       "      <td>sum_fuel</td>\n",
       "      <td>12535.7</td>\n",
       "      <td>985.3</td>\n",
       "      <td>20245.3</td>\n",
       "      <td>5141.3</td>\n",
       "      <td>11151.5</td>\n",
       "    </tr>\n",
       "    <tr>\n",
       "      <td>defuel_periods</td>\n",
       "      <td>4288   2020-02-25 09:19:18\n",
       "Name: DTIME, dtype:...</td>\n",
       "      <td>Series([], Name: DTIME, dtype: datetime64[ns])</td>\n",
       "      <td>232     2020-01-09 16:25:33\n",
       "993     2020-01-14...</td>\n",
       "      <td>Series([], Name: DTIME, dtype: datetime64[ns])</td>\n",
       "      <td>Series([], Name: DTIME, dtype: datetime64[ns])</td>\n",
       "    </tr>\n",
       "    <tr>\n",
       "      <td>median_rotations</td>\n",
       "      <td>2400</td>\n",
       "      <td>1190</td>\n",
       "      <td>2272</td>\n",
       "      <td>1186.5</td>\n",
       "      <td>1968</td>\n",
       "    </tr>\n",
       "    <tr>\n",
       "      <td>sum_defuel</td>\n",
       "      <td>31.7</td>\n",
       "      <td>0</td>\n",
       "      <td>1869.1</td>\n",
       "      <td>0</td>\n",
       "      <td>0</td>\n",
       "    </tr>\n",
       "    <tr>\n",
       "      <td>max_height</td>\n",
       "      <td>2193.4</td>\n",
       "      <td>2812.8</td>\n",
       "      <td>375.3</td>\n",
       "      <td>167.1</td>\n",
       "      <td>3258.7</td>\n",
       "    </tr>\n",
       "    <tr>\n",
       "      <td>avg_rotations</td>\n",
       "      <td>2315.6</td>\n",
       "      <td>1166.82</td>\n",
       "      <td>1914.68</td>\n",
       "      <td>1197.5</td>\n",
       "      <td>1889.08</td>\n",
       "    </tr>\n",
       "    <tr>\n",
       "      <td>fuel_periods</td>\n",
       "      <td>3       2020-01-09 10:05:26\n",
       "25      2020-01-14...</td>\n",
       "      <td>464    2020-01-13 07:22:33\n",
       "2011   2020-03-03 1...</td>\n",
       "      <td>2       2020-01-09 08:19:06\n",
       "5       2020-01-09...</td>\n",
       "      <td>1      2020-01-09 08:40:43\n",
       "273    2020-02-10 0...</td>\n",
       "      <td>19      2020-01-10 09:57:40\n",
       "62      2020-01-10...</td>\n",
       "    </tr>\n",
       "    <tr>\n",
       "      <td>max_fuel</td>\n",
       "      <td>60</td>\n",
       "      <td>95</td>\n",
       "      <td>60</td>\n",
       "      <td>279.8</td>\n",
       "      <td>73.5</td>\n",
       "    </tr>\n",
       "    <tr>\n",
       "      <td>max_speed</td>\n",
       "      <td>129</td>\n",
       "      <td>57</td>\n",
       "      <td>122</td>\n",
       "      <td>227</td>\n",
       "      <td>132</td>\n",
       "    </tr>\n",
       "  </tbody>\n",
       "</table>\n",
       "</div>"
      ],
      "text/plain": [
       "                                                           vehicle1  \\\n",
       "min_height                                                  -1503.6   \n",
       "avg_speed                                                   52.3975   \n",
       "avg_height                                                  37.0444   \n",
       "range_height                                                   3697   \n",
       "sum_fuel                                                    12535.7   \n",
       "defuel_periods    4288   2020-02-25 09:19:18\n",
       "Name: DTIME, dtype:...   \n",
       "median_rotations                                               2400   \n",
       "sum_defuel                                                     31.7   \n",
       "max_height                                                   2193.4   \n",
       "avg_rotations                                                2315.6   \n",
       "fuel_periods      3       2020-01-09 10:05:26\n",
       "25      2020-01-14...   \n",
       "max_fuel                                                         60   \n",
       "max_speed                                                       129   \n",
       "\n",
       "                                                          vehicle19  \\\n",
       "min_height                                                    -46.6   \n",
       "avg_speed                                                   1.98549   \n",
       "avg_height                                                  81.3893   \n",
       "range_height                                                 2859.4   \n",
       "sum_fuel                                                      985.3   \n",
       "defuel_periods       Series([], Name: DTIME, dtype: datetime64[ns])   \n",
       "median_rotations                                               1190   \n",
       "sum_defuel                                                        0   \n",
       "max_height                                                   2812.8   \n",
       "avg_rotations                                               1166.82   \n",
       "fuel_periods      464    2020-01-13 07:22:33\n",
       "2011   2020-03-03 1...   \n",
       "max_fuel                                                         95   \n",
       "max_speed                                                        57   \n",
       "\n",
       "                                                          vehicle28  \\\n",
       "min_height                                                  -2561.8   \n",
       "avg_speed                                                   42.1614   \n",
       "avg_height                                                  61.5954   \n",
       "range_height                                                 2937.1   \n",
       "sum_fuel                                                    20245.3   \n",
       "defuel_periods    232     2020-01-09 16:25:33\n",
       "993     2020-01-14...   \n",
       "median_rotations                                               2272   \n",
       "sum_defuel                                                   1869.1   \n",
       "max_height                                                    375.3   \n",
       "avg_rotations                                               1914.68   \n",
       "fuel_periods      2       2020-01-09 08:19:06\n",
       "5       2020-01-09...   \n",
       "max_fuel                                                         60   \n",
       "max_speed                                                       122   \n",
       "\n",
       "                                                           vehicle3  \\\n",
       "min_height                                                    -79.7   \n",
       "avg_speed                                                   29.6963   \n",
       "avg_height                                                  56.7928   \n",
       "range_height                                                  246.8   \n",
       "sum_fuel                                                     5141.3   \n",
       "defuel_periods       Series([], Name: DTIME, dtype: datetime64[ns])   \n",
       "median_rotations                                             1186.5   \n",
       "sum_defuel                                                        0   \n",
       "max_height                                                    167.1   \n",
       "avg_rotations                                                1197.5   \n",
       "fuel_periods      1      2020-01-09 08:40:43\n",
       "273    2020-02-10 0...   \n",
       "max_fuel                                                      279.8   \n",
       "max_speed                                                       227   \n",
       "\n",
       "                                                           vehicle5  \n",
       "min_height                                                  -3228.2  \n",
       "avg_speed                                                   59.0354  \n",
       "avg_height                                                   52.983  \n",
       "range_height                                                 6486.9  \n",
       "sum_fuel                                                    11151.5  \n",
       "defuel_periods       Series([], Name: DTIME, dtype: datetime64[ns])  \n",
       "median_rotations                                               1968  \n",
       "sum_defuel                                                        0  \n",
       "max_height                                                   3258.7  \n",
       "avg_rotations                                               1889.08  \n",
       "fuel_periods      19      2020-01-10 09:57:40\n",
       "62      2020-01-10...  \n",
       "max_fuel                                                       73.5  \n",
       "max_speed                                                       132  "
      ]
     },
     "execution_count": 539,
     "metadata": {},
     "output_type": "execute_result"
    }
   ],
   "source": [
    "vehicles_df"
   ]
  },
  {
   "cell_type": "code",
   "execution_count": 540,
   "metadata": {},
   "outputs": [
    {
     "data": {
      "text/html": [
       "<div>\n",
       "<style scoped>\n",
       "    .dataframe tbody tr th:only-of-type {\n",
       "        vertical-align: middle;\n",
       "    }\n",
       "\n",
       "    .dataframe tbody tr th {\n",
       "        vertical-align: top;\n",
       "    }\n",
       "\n",
       "    .dataframe thead th {\n",
       "        text-align: right;\n",
       "    }\n",
       "</style>\n",
       "<table border=\"1\" class=\"dataframe\">\n",
       "  <thead>\n",
       "    <tr style=\"text-align: right;\">\n",
       "      <th></th>\n",
       "      <th>min_height</th>\n",
       "      <th>avg_speed</th>\n",
       "      <th>avg_height</th>\n",
       "      <th>range_height</th>\n",
       "      <th>sum_fuel</th>\n",
       "      <th>defuel_periods</th>\n",
       "      <th>median_rotations</th>\n",
       "      <th>sum_defuel</th>\n",
       "      <th>max_height</th>\n",
       "      <th>avg_rotations</th>\n",
       "      <th>fuel_periods</th>\n",
       "      <th>max_fuel</th>\n",
       "      <th>max_speed</th>\n",
       "    </tr>\n",
       "  </thead>\n",
       "  <tbody>\n",
       "    <tr>\n",
       "      <td>vehicle1</td>\n",
       "      <td>-1503.6</td>\n",
       "      <td>52.3975</td>\n",
       "      <td>37.0444</td>\n",
       "      <td>3697</td>\n",
       "      <td>12535.7</td>\n",
       "      <td>4288   2020-02-25 09:19:18\n",
       "Name: DTIME, dtype:...</td>\n",
       "      <td>2400</td>\n",
       "      <td>31.7</td>\n",
       "      <td>2193.4</td>\n",
       "      <td>2315.6</td>\n",
       "      <td>3       2020-01-09 10:05:26\n",
       "25      2020-01-14...</td>\n",
       "      <td>60</td>\n",
       "      <td>129</td>\n",
       "    </tr>\n",
       "    <tr>\n",
       "      <td>vehicle19</td>\n",
       "      <td>-46.6</td>\n",
       "      <td>1.98549</td>\n",
       "      <td>81.3893</td>\n",
       "      <td>2859.4</td>\n",
       "      <td>985.3</td>\n",
       "      <td>Series([], Name: DTIME, dtype: datetime64[ns])</td>\n",
       "      <td>1190</td>\n",
       "      <td>0</td>\n",
       "      <td>2812.8</td>\n",
       "      <td>1166.82</td>\n",
       "      <td>464    2020-01-13 07:22:33\n",
       "2011   2020-03-03 1...</td>\n",
       "      <td>95</td>\n",
       "      <td>57</td>\n",
       "    </tr>\n",
       "    <tr>\n",
       "      <td>vehicle28</td>\n",
       "      <td>-2561.8</td>\n",
       "      <td>42.1614</td>\n",
       "      <td>61.5954</td>\n",
       "      <td>2937.1</td>\n",
       "      <td>20245.3</td>\n",
       "      <td>232     2020-01-09 16:25:33\n",
       "993     2020-01-14...</td>\n",
       "      <td>2272</td>\n",
       "      <td>1869.1</td>\n",
       "      <td>375.3</td>\n",
       "      <td>1914.68</td>\n",
       "      <td>2       2020-01-09 08:19:06\n",
       "5       2020-01-09...</td>\n",
       "      <td>60</td>\n",
       "      <td>122</td>\n",
       "    </tr>\n",
       "    <tr>\n",
       "      <td>vehicle3</td>\n",
       "      <td>-79.7</td>\n",
       "      <td>29.6963</td>\n",
       "      <td>56.7928</td>\n",
       "      <td>246.8</td>\n",
       "      <td>5141.3</td>\n",
       "      <td>Series([], Name: DTIME, dtype: datetime64[ns])</td>\n",
       "      <td>1186.5</td>\n",
       "      <td>0</td>\n",
       "      <td>167.1</td>\n",
       "      <td>1197.5</td>\n",
       "      <td>1      2020-01-09 08:40:43\n",
       "273    2020-02-10 0...</td>\n",
       "      <td>279.8</td>\n",
       "      <td>227</td>\n",
       "    </tr>\n",
       "    <tr>\n",
       "      <td>vehicle5</td>\n",
       "      <td>-3228.2</td>\n",
       "      <td>59.0354</td>\n",
       "      <td>52.983</td>\n",
       "      <td>6486.9</td>\n",
       "      <td>11151.5</td>\n",
       "      <td>Series([], Name: DTIME, dtype: datetime64[ns])</td>\n",
       "      <td>1968</td>\n",
       "      <td>0</td>\n",
       "      <td>3258.7</td>\n",
       "      <td>1889.08</td>\n",
       "      <td>19      2020-01-10 09:57:40\n",
       "62      2020-01-10...</td>\n",
       "      <td>73.5</td>\n",
       "      <td>132</td>\n",
       "    </tr>\n",
       "  </tbody>\n",
       "</table>\n",
       "</div>"
      ],
      "text/plain": [
       "          min_height avg_speed avg_height range_height sum_fuel  \\\n",
       "vehicle1     -1503.6   52.3975    37.0444         3697  12535.7   \n",
       "vehicle19      -46.6   1.98549    81.3893       2859.4    985.3   \n",
       "vehicle28    -2561.8   42.1614    61.5954       2937.1  20245.3   \n",
       "vehicle3       -79.7   29.6963    56.7928        246.8   5141.3   \n",
       "vehicle5     -3228.2   59.0354     52.983       6486.9  11151.5   \n",
       "\n",
       "                                              defuel_periods median_rotations  \\\n",
       "vehicle1   4288   2020-02-25 09:19:18\n",
       "Name: DTIME, dtype:...             2400   \n",
       "vehicle19     Series([], Name: DTIME, dtype: datetime64[ns])             1190   \n",
       "vehicle28  232     2020-01-09 16:25:33\n",
       "993     2020-01-14...             2272   \n",
       "vehicle3      Series([], Name: DTIME, dtype: datetime64[ns])           1186.5   \n",
       "vehicle5      Series([], Name: DTIME, dtype: datetime64[ns])             1968   \n",
       "\n",
       "          sum_defuel max_height avg_rotations  \\\n",
       "vehicle1        31.7     2193.4        2315.6   \n",
       "vehicle19          0     2812.8       1166.82   \n",
       "vehicle28     1869.1      375.3       1914.68   \n",
       "vehicle3           0      167.1        1197.5   \n",
       "vehicle5           0     3258.7       1889.08   \n",
       "\n",
       "                                                fuel_periods max_fuel  \\\n",
       "vehicle1   3       2020-01-09 10:05:26\n",
       "25      2020-01-14...       60   \n",
       "vehicle19  464    2020-01-13 07:22:33\n",
       "2011   2020-03-03 1...       95   \n",
       "vehicle28  2       2020-01-09 08:19:06\n",
       "5       2020-01-09...       60   \n",
       "vehicle3   1      2020-01-09 08:40:43\n",
       "273    2020-02-10 0...    279.8   \n",
       "vehicle5   19      2020-01-10 09:57:40\n",
       "62      2020-01-10...     73.5   \n",
       "\n",
       "          max_speed  \n",
       "vehicle1        129  \n",
       "vehicle19        57  \n",
       "vehicle28       122  \n",
       "vehicle3        227  \n",
       "vehicle5        132  "
      ]
     },
     "execution_count": 540,
     "metadata": {},
     "output_type": "execute_result"
    }
   ],
   "source": [
    "vdft = vehicles_df.transpose()\n",
    "vdft"
   ]
  },
  {
   "cell_type": "code",
   "execution_count": 108,
   "metadata": {},
   "outputs": [],
   "source": [
    "from matplotlib import pyplot as plt"
   ]
  },
  {
   "cell_type": "code",
   "execution_count": 156,
   "metadata": {},
   "outputs": [
    {
     "data": {
      "text/plain": [
       "[array([60.0, 52.397460664742574], dtype=object),\n",
       " array([95.0, 1.985494106980961], dtype=object),\n",
       " array([60.0, 42.161399705980195], dtype=object),\n",
       " array([279.8, 29.696296296296296], dtype=object),\n",
       " array([73.5, 59.03544883970601], dtype=object)]"
      ]
     },
     "execution_count": 156,
     "metadata": {},
     "output_type": "execute_result"
    }
   ],
   "source": [
    "dp = list(vdft[['max_fuel', 'avg_speed']].values)\n",
    "dp"
   ]
  },
  {
   "cell_type": "code",
   "execution_count": 157,
   "metadata": {},
   "outputs": [],
   "source": [
    "X = [el[0] for el in dp]\n",
    "y = [el[1] for el in dp]"
   ]
  },
  {
   "cell_type": "code",
   "execution_count": 393,
   "metadata": {},
   "outputs": [
    {
     "data": {
      "image/png": "[encoded data removed]",
      "text/plain": [
       "<Figure size 432x288 with 1 Axes>"
      ]
     },
     "metadata": {
      "needs_background": "light"
     },
     "output_type": "display_data"
    },
    {
     "data": {
      "text/plain": [
       "<Figure size 864x864 with 0 Axes>"
      ]
     },
     "metadata": {},
     "output_type": "display_data"
    }
   ],
   "source": [
    "plt.scatter(X, y)\n",
    "plt.xlabel('max_fuel')\n",
    "plt.ylabel('avg_speed')\n",
    "plt.figure(figsize=(12,12))\n",
    "plt.show()"
   ]
  },
  {
   "cell_type": "markdown",
   "metadata": {},
   "source": [
    "Признаки, которые нужно добавить для классификации ТС:\n",
    "* число заправок в час / периодичность заправок / \n",
    "\n",
    "Заправки/сливы мы определили?\n",
    "\n",
    "**Оконные вещи:**\n",
    "* Скачки скорости\n",
    "* Длительность сессии неспешной езды (или что-то типа)\n",
    "* Длительность ускорений (средняя или медианная)\n",
    "* Длительность "
   ]
  },
  {
   "cell_type": "code",
   "execution_count": 159,
   "metadata": {},
   "outputs": [
    {
     "data": {
      "text/plain": [
       "[<matplotlib.lines.Line2D at 0x7f8f8e6f30d0>]"
      ]
     },
     "execution_count": 159,
     "metadata": {},
     "output_type": "execute_result"
    },
    {
     "data": {
      "image/png": "[encoded data removed]",
      "text/plain": [
       "<Figure size 432x288 with 1 Axes>"
      ]
     },
     "metadata": {
      "needs_background": "light"
     },
     "output_type": "display_data"
    }
   ],
   "source": [
    "plt.plot(list(vehicles_data['vehicle1'].tachometer.BEVALUE[:45]))"
   ]
  },
  {
   "cell_type": "code",
   "execution_count": 335,
   "metadata": {},
   "outputs": [],
   "source": [
    "for vehicle in vehicles:\n",
    "    fuel_values = list(vehicles_data[vehicle].fuelLevel.BEVALUE)\n",
    "    fuel_times = list(vehicles_data[vehicle].fuelLevel.DTIME)\n",
    "    in_drive_flag = list(vehicles_data[vehicle].ingection.BEVALUE)\n",
    "    \n",
    "    defuel_indexes = []\n",
    "    defuel_amounts = []\n",
    "    fuel_indexes = []\n",
    "    fuel_amounts = []\n",
    "    \n",
    "    DEFUEL_THRESHOLD = 10 # litres\n",
    "    FUEL_THRESHOLD = 20 # litres\n",
    "    \n",
    "    for i in range(0, len(fuel_values) - 1):\n",
    "        # defuels\n",
    "        if (fuel_values[i] - fuel_values[i+1] > DEFUEL_THRESHOLD) and \\\n",
    "            ((fuel_times[i+1] - fuel_times[i]).total_seconds() < 100) and \\\n",
    "            (in_drive_flag[i] == 0):\n",
    "            defuel_indexes.append(i)\n",
    "            defuel_amounts.append(fuel_values[i])\n",
    "\n",
    "        # fuels\n",
    "        if ((fuel_values[i+1] - fuel_values[i]) > FUEL_THRESHOLD):\n",
    "            fuel_indexes.append(i+1)\n",
    "            fuel_amounts.append(fuel_values[i+1])\n",
    "    \n",
    "    # add this info to vehicle data\n",
    "    current_vehicle = vehicles_data[vehicle]\n",
    "    df = current_vehicle.fuelLevel\n",
    "    current_vehicle['fuel_periods'] = df.DTIME[fuel_indexes]\n",
    "    current_vehicle['defuel_periods'] = df.DTIME[defuel_indexes]\n",
    "    \n",
    "    # add info about sum of fuels / defuels\n",
    "    current_vehicle['sum_fuel'] = sum(fuel_amounts)\n",
    "    current_vehicle['sum_defuel'] = sum(defuel_amounts)"
   ]
  },
  {
   "cell_type": "code",
   "execution_count": 343,
   "metadata": {},
   "outputs": [
    {
     "ename": "ValueError",
     "evalue": "Can only compare identically-labeled Series objects",
     "output_type": "error",
     "traceback": [
      "\u001b[0;31m---------------------------------------------------------------------------\u001b[0m",
      "\u001b[0;31mValueError\u001b[0m                                Traceback (most recent call last)",
      "\u001b[0;32m<ipython-input-343-508986c42c00>\u001b[0m in \u001b[0;36m<module>\u001b[0;34m\u001b[0m\n\u001b[0;32m----> 1\u001b[0;31m \u001b[0mvehicles_data\u001b[0m\u001b[0;34m[\u001b[0m\u001b[0;34m'vehicle19'\u001b[0m\u001b[0;34m]\u001b[0m\u001b[0;34m.\u001b[0m\u001b[0mfuelLevel\u001b[0m\u001b[0;34m.\u001b[0m\u001b[0mDTIME\u001b[0m \u001b[0;34m==\u001b[0m \u001b[0mvehicles_data\u001b[0m\u001b[0;34m[\u001b[0m\u001b[0;34m'vehicle19'\u001b[0m\u001b[0;34m]\u001b[0m\u001b[0;34m.\u001b[0m\u001b[0mingection\u001b[0m\u001b[0;34m.\u001b[0m\u001b[0mDTIME\u001b[0m\u001b[0;34m\u001b[0m\u001b[0;34m\u001b[0m\u001b[0m\n\u001b[0m",
      "\u001b[0;32m~/anaconda3/lib/python3.7/site-packages/pandas/core/ops/__init__.py\u001b[0m in \u001b[0;36mwrapper\u001b[0;34m(self, other, axis)\u001b[0m\n\u001b[1;32m   1140\u001b[0m \u001b[0;34m\u001b[0m\u001b[0m\n\u001b[1;32m   1141\u001b[0m         \u001b[0;32melif\u001b[0m \u001b[0misinstance\u001b[0m\u001b[0;34m(\u001b[0m\u001b[0mother\u001b[0m\u001b[0;34m,\u001b[0m \u001b[0mABCSeries\u001b[0m\u001b[0;34m)\u001b[0m \u001b[0;32mand\u001b[0m \u001b[0;32mnot\u001b[0m \u001b[0mself\u001b[0m\u001b[0;34m.\u001b[0m\u001b[0m_indexed_same\u001b[0m\u001b[0;34m(\u001b[0m\u001b[0mother\u001b[0m\u001b[0;34m)\u001b[0m\u001b[0;34m:\u001b[0m\u001b[0;34m\u001b[0m\u001b[0;34m\u001b[0m\u001b[0m\n\u001b[0;32m-> 1142\u001b[0;31m             \u001b[0;32mraise\u001b[0m \u001b[0mValueError\u001b[0m\u001b[0;34m(\u001b[0m\u001b[0;34m\"Can only compare identically-labeled \"\u001b[0m \u001b[0;34m\"Series objects\"\u001b[0m\u001b[0;34m)\u001b[0m\u001b[0;34m\u001b[0m\u001b[0;34m\u001b[0m\u001b[0m\n\u001b[0m\u001b[1;32m   1143\u001b[0m \u001b[0;34m\u001b[0m\u001b[0m\n\u001b[1;32m   1144\u001b[0m         \u001b[0;32melif\u001b[0m \u001b[0mis_categorical_dtype\u001b[0m\u001b[0;34m(\u001b[0m\u001b[0mself\u001b[0m\u001b[0;34m)\u001b[0m\u001b[0;34m:\u001b[0m\u001b[0;34m\u001b[0m\u001b[0;34m\u001b[0m\u001b[0m\n",
      "\u001b[0;31mValueError\u001b[0m: Can only compare identically-labeled Series objects"
     ]
    }
   ],
   "source": [
    "vehicles_data['vehicle19'].fuelLevel.DTIME == vehicles_data['vehicle19'].ingection.DTIME"
   ]
  },
  {
   "cell_type": "code",
   "execution_count": null,
   "metadata": {},
   "outputs": [],
   "source": []
  },
  {
   "cell_type": "code",
   "execution_count": 349,
   "metadata": {},
   "outputs": [],
   "source": [
    "mini_series = vehicles_data['vehicle19'].ingection.DTIME[:vehicles_data['vehicle19'].fuelLevel.shape[0]] == vehicles_data['vehicle19'].fuelLevel.DTIME"
   ]
  },
  {
   "cell_type": "code",
   "execution_count": 358,
   "metadata": {},
   "outputs": [
    {
     "data": {
      "text/plain": [
       "0    2020-01-09 06:54:54\n",
       "1    2020-01-09 06:55:55\n",
       "2    2020-01-09 06:56:55\n",
       "3    2020-01-09 06:57:55\n",
       "4    2020-01-09 06:58:55\n",
       "5    2020-01-09 06:59:55\n",
       "6    2020-01-09 07:00:55\n",
       "7    2020-01-09 07:01:43\n",
       "8    2020-01-09 07:02:07\n",
       "9    2020-01-09 07:02:49\n",
       "10   2020-01-09 07:03:07\n",
       "11   2020-01-09 07:03:54\n",
       "12   2020-01-09 07:04:07\n",
       "13   2020-01-09 07:05:07\n",
       "14   2020-01-09 07:06:07\n",
       "15   2020-01-09 07:07:07\n",
       "16   2020-01-09 07:08:07\n",
       "17   2020-01-09 07:08:19\n",
       "18   2020-01-09 07:08:35\n",
       "19   2020-01-09 07:09:07\n",
       "20   2020-01-09 07:09:23\n",
       "21   2020-01-09 07:10:07\n",
       "22   2020-01-09 07:11:07\n",
       "23   2020-01-09 07:12:07\n",
       "24   2020-01-09 07:12:22\n",
       "25   2020-01-09 07:12:30\n",
       "26   2020-01-09 07:12:47\n",
       "27   2020-01-09 07:12:55\n",
       "28   2020-01-09 07:13:07\n",
       "29   2020-01-09 07:14:07\n",
       "Name: DTIME, dtype: datetime64[ns]"
      ]
     },
     "execution_count": 358,
     "metadata": {},
     "output_type": "execute_result"
    }
   ],
   "source": [
    "vehicles_data['vehicle19'].ingection.DTIME.head(30)"
   ]
  },
  {
   "cell_type": "code",
   "execution_count": 360,
   "metadata": {},
   "outputs": [
    {
     "data": {
      "text/plain": [
       "1"
      ]
     },
     "execution_count": 360,
     "metadata": {},
     "output_type": "execute_result"
    }
   ],
   "source": [
    "vehicles_data['vehicle19'].ingection.DTIME[0].month"
   ]
  },
  {
   "cell_type": "code",
   "execution_count": 277,
   "metadata": {},
   "outputs": [
    {
     "data": {
      "text/plain": [
       "62.0"
      ]
     },
     "execution_count": 277,
     "metadata": {},
     "output_type": "execute_result"
    }
   ],
   "source": [
    "fuel_times_test = list(vehicles_data['vehicle1'].fuelLevel.DTIME)\n",
    "(fuel_times_test[1]-fuel_times_test[0]).total_seconds()"
   ]
  },
  {
   "cell_type": "code",
   "execution_count": 308,
   "metadata": {},
   "outputs": [
    {
     "data": {
      "text/plain": [
       "(525    15.9\n",
       " 526    15.9\n",
       " 527    15.9\n",
       " 528    15.9\n",
       " 529    15.9\n",
       " 530    15.9\n",
       " 531     0.0\n",
       " 532    15.5\n",
       " 533    14.0\n",
       " 534    13.2\n",
       " 535    13.2\n",
       " 536    14.4\n",
       " 537    14.4\n",
       " 538    14.2\n",
       " 539    13.5\n",
       " Name: BEVALUE, dtype: float64, 525   2020-01-17 12:14:53\n",
       " 526   2020-01-17 12:15:53\n",
       " 527   2020-01-17 12:16:53\n",
       " 528   2020-01-17 12:17:53\n",
       " 529   2020-01-17 12:18:53\n",
       " 530   2020-01-17 12:19:53\n",
       " 531   2020-01-17 12:20:53\n",
       " 532   2020-01-17 12:24:21\n",
       " 533   2020-01-17 12:25:21\n",
       " 534   2020-01-17 12:26:21\n",
       " 535   2020-01-17 12:27:21\n",
       " 536   2020-01-17 12:28:21\n",
       " 537   2020-01-17 12:29:21\n",
       " 538   2020-01-17 12:30:21\n",
       " 539   2020-01-17 12:31:21\n",
       " Name: DTIME, dtype: datetime64[ns])"
      ]
     },
     "execution_count": 308,
     "metadata": {},
     "output_type": "execute_result"
    }
   ],
   "source": [
    "vehicles_data['vehicle5'].fuelLevel.BEVALUE[525:540], vehicles_data['vehicle5'].fuelLevel.DTIME[525:540]\n",
    "# vehicles_data['vehicle5'].fuelLevel."
   ]
  },
  {
   "cell_type": "code",
   "execution_count": 310,
   "metadata": {},
   "outputs": [
    {
     "data": {
      "text/plain": [
       "[<matplotlib.lines.Line2D at 0x7f8f9131ae50>]"
      ]
     },
     "execution_count": 310,
     "metadata": {},
     "output_type": "execute_result"
    },
    {
     "data": {
      "image/png": "[encoded data removed]",
      "text/plain": [
       "<Figure size 432x288 with 1 Axes>"
      ]
     },
     "metadata": {
      "needs_background": "light"
     },
     "output_type": "display_data"
    }
   ],
   "source": [
    "plt.plot(vehicles_data['vehicle5'].fuelLevel.BEVALUE[525:540])"
   ]
  },
  {
   "cell_type": "code",
   "execution_count": 312,
   "metadata": {
    "scrolled": true
   },
   "outputs": [
    {
     "data": {
      "text/plain": [
       "[<matplotlib.lines.Line2D at 0x7f8f92109bd0>]"
      ]
     },
     "execution_count": 312,
     "metadata": {},
     "output_type": "execute_result"
    },
    {
     "data": {
      "image/png": "[encoded data removed]",
      "text/plain": [
       "<Figure size 432x288 with 1 Axes>"
      ]
     },
     "metadata": {
      "needs_background": "light"
     },
     "output_type": "display_data"
    }
   ],
   "source": [
    "plt.plot(list(vehicles_data['vehicle5'].ingection.BEVALUE[525:540]))"
   ]
  },
  {
   "cell_type": "code",
   "execution_count": 239,
   "metadata": {},
   "outputs": [
    {
     "data": {
      "text/plain": [
       "[<matplotlib.lines.Line2D at 0x7f8f8d0e48d0>]"
      ]
     },
     "execution_count": 239,
     "metadata": {},
     "output_type": "execute_result"
    },
    {
     "data": {
      "image/png": "[encoded data removed]",
      "text/plain": [
       "<Figure size 432x288 with 1 Axes>"
      ]
     },
     "metadata": {
      "needs_background": "light"
     },
     "output_type": "display_data"
    }
   ],
   "source": [
    "plt.plot(vehicles_data['vehicle1'].fuelLevel.BEVALUE[fuel_indexes[:50]])"
   ]
  },
  {
   "cell_type": "code",
   "execution_count": 272,
   "metadata": {},
   "outputs": [
    {
     "data": {
      "text/plain": [
       "0    2020-01-09 08:17:06\n",
       "1    2020-01-09 08:18:06\n",
       "2    2020-01-09 08:19:06\n",
       "3    2020-01-09 08:20:06\n",
       "4    2020-01-09 10:09:14\n",
       "5    2020-01-09 10:10:14\n",
       "6    2020-01-09 10:11:14\n",
       "7    2020-01-09 10:12:14\n",
       "8    2020-01-09 10:13:36\n",
       "9    2020-01-09 10:14:36\n",
       "10   2020-01-09 10:15:36\n",
       "11   2020-01-09 10:16:36\n",
       "12   2020-01-09 10:17:36\n",
       "13   2020-01-09 10:18:36\n",
       "14   2020-01-09 10:19:36\n",
       "15   2020-01-09 10:20:36\n",
       "16   2020-01-09 10:21:36\n",
       "17   2020-01-09 10:22:36\n",
       "18   2020-01-09 10:23:36\n",
       "19   2020-01-09 10:24:36\n",
       "20   2020-01-09 10:25:36\n",
       "21   2020-01-09 10:26:36\n",
       "22   2020-01-09 10:27:36\n",
       "23   2020-01-09 10:28:36\n",
       "24   2020-01-09 10:29:36\n",
       "25   2020-01-09 10:30:36\n",
       "26   2020-01-09 10:31:36\n",
       "27   2020-01-09 10:32:36\n",
       "28   2020-01-09 10:33:36\n",
       "29   2020-01-09 10:34:36\n",
       "Name: DTIME, dtype: datetime64[ns]"
      ]
     },
     "execution_count": 272,
     "metadata": {},
     "output_type": "execute_result"
    }
   ],
   "source": [
    "vehicles_data['vehicle28'].fuelLevel.DTIME[:30]"
   ]
  },
  {
   "cell_type": "code",
   "execution_count": 271,
   "metadata": {},
   "outputs": [
    {
     "data": {
      "text/plain": [
       "[<matplotlib.lines.Line2D at 0x7f8f8a6dd6d0>]"
      ]
     },
     "execution_count": 271,
     "metadata": {},
     "output_type": "execute_result"
    },
    {
     "data": {
      "image/png": "[encoded data removed]",
      "text/plain": [
       "<Figure size 432x288 with 1 Axes>"
      ]
     },
     "metadata": {
      "needs_background": "light"
     },
     "output_type": "display_data"
    }
   ],
   "source": [
    "plt.plot(vehicles_data['vehicle28'].fuelLevel.BEVALUE[:30])"
   ]
  },
  {
   "cell_type": "code",
   "execution_count": 380,
   "metadata": {},
   "outputs": [],
   "source": [
    "ps1 = vehicles_data['vehicle28'].fuelLevel.DTIME.dt.round('T').unique()"
   ]
  },
  {
   "cell_type": "code",
   "execution_count": 379,
   "metadata": {},
   "outputs": [],
   "source": [
    "ps2 = vehicles_data['vehicle28'].ingection.DTIME.dt.round('T').unique()"
   ]
  },
  {
   "cell_type": "code",
   "execution_count": 391,
   "metadata": {
    "scrolled": true
   },
   "outputs": [
    {
     "data": {
      "text/plain": [
       "0       2020-01-09 08:17:00\n",
       "1       2020-01-09 08:18:00\n",
       "2       2020-01-09 08:19:00\n",
       "3       2020-01-09 08:20:00\n",
       "4       2020-01-09 10:09:00\n",
       "                ...        \n",
       "33192   2020-06-30 19:25:00\n",
       "33193   2020-06-30 19:26:00\n",
       "33194   2020-06-30 19:27:00\n",
       "33195   2020-06-30 19:28:00\n",
       "33196   2020-06-30 19:29:00\n",
       "Length: 33197, dtype: datetime64[ns]"
      ]
     },
     "execution_count": 391,
     "metadata": {},
     "output_type": "execute_result"
    }
   ],
   "source": [
    "pd.Series(ps1)"
   ]
  },
  {
   "cell_type": "code",
   "execution_count": 394,
   "metadata": {},
   "outputs": [
    {
     "data": {
      "text/html": [
       "<div>\n",
       "<style scoped>\n",
       "    .dataframe tbody tr th:only-of-type {\n",
       "        vertical-align: middle;\n",
       "    }\n",
       "\n",
       "    .dataframe tbody tr th {\n",
       "        vertical-align: top;\n",
       "    }\n",
       "\n",
       "    .dataframe thead th {\n",
       "        text-align: right;\n",
       "    }\n",
       "</style>\n",
       "<table border=\"1\" class=\"dataframe\">\n",
       "  <thead>\n",
       "    <tr style=\"text-align: right;\">\n",
       "      <th></th>\n",
       "      <th>min_height</th>\n",
       "      <th>avg_speed</th>\n",
       "      <th>avg_height</th>\n",
       "      <th>range_height</th>\n",
       "      <th>max_height</th>\n",
       "      <th>max_fuel</th>\n",
       "      <th>max_speed</th>\n",
       "    </tr>\n",
       "  </thead>\n",
       "  <tbody>\n",
       "    <tr>\n",
       "      <td>vehicle1</td>\n",
       "      <td>-1503.6</td>\n",
       "      <td>52.3975</td>\n",
       "      <td>37.0444</td>\n",
       "      <td>3697</td>\n",
       "      <td>2193.4</td>\n",
       "      <td>60</td>\n",
       "      <td>129</td>\n",
       "    </tr>\n",
       "    <tr>\n",
       "      <td>vehicle19</td>\n",
       "      <td>-46.6</td>\n",
       "      <td>1.98549</td>\n",
       "      <td>81.3893</td>\n",
       "      <td>2859.4</td>\n",
       "      <td>2812.8</td>\n",
       "      <td>95</td>\n",
       "      <td>57</td>\n",
       "    </tr>\n",
       "    <tr>\n",
       "      <td>vehicle28</td>\n",
       "      <td>-2561.8</td>\n",
       "      <td>42.1614</td>\n",
       "      <td>61.5954</td>\n",
       "      <td>2937.1</td>\n",
       "      <td>375.3</td>\n",
       "      <td>60</td>\n",
       "      <td>122</td>\n",
       "    </tr>\n",
       "    <tr>\n",
       "      <td>vehicle3</td>\n",
       "      <td>-79.7</td>\n",
       "      <td>29.6963</td>\n",
       "      <td>56.7928</td>\n",
       "      <td>246.8</td>\n",
       "      <td>167.1</td>\n",
       "      <td>279.8</td>\n",
       "      <td>227</td>\n",
       "    </tr>\n",
       "    <tr>\n",
       "      <td>vehicle5</td>\n",
       "      <td>-3228.2</td>\n",
       "      <td>59.0354</td>\n",
       "      <td>52.983</td>\n",
       "      <td>6486.9</td>\n",
       "      <td>3258.7</td>\n",
       "      <td>73.5</td>\n",
       "      <td>132</td>\n",
       "    </tr>\n",
       "  </tbody>\n",
       "</table>\n",
       "</div>"
      ],
      "text/plain": [
       "          min_height avg_speed avg_height range_height max_height max_fuel  \\\n",
       "vehicle1     -1503.6   52.3975    37.0444         3697     2193.4       60   \n",
       "vehicle19      -46.6   1.98549    81.3893       2859.4     2812.8       95   \n",
       "vehicle28    -2561.8   42.1614    61.5954       2937.1      375.3       60   \n",
       "vehicle3       -79.7   29.6963    56.7928        246.8      167.1    279.8   \n",
       "vehicle5     -3228.2   59.0354     52.983       6486.9     3258.7     73.5   \n",
       "\n",
       "          max_speed  \n",
       "vehicle1        129  \n",
       "vehicle19        57  \n",
       "vehicle28       122  \n",
       "vehicle3        227  \n",
       "vehicle5        132  "
      ]
     },
     "execution_count": 394,
     "metadata": {},
     "output_type": "execute_result"
    }
   ],
   "source": [
    "# vehicles dataset transposed\n",
    "vdft"
   ]
  },
  {
   "cell_type": "code",
   "execution_count": 408,
   "metadata": {},
   "outputs": [],
   "source": [
    "from sklearn.cluster import KMeans"
   ]
  },
  {
   "cell_type": "code",
   "execution_count": 488,
   "metadata": {},
   "outputs": [],
   "source": [
    "clusterizer = KMeans(n_clusters = 3)\n",
    "clusterizer.fit(vdft[['avg_speed', 'avg_height', 'max_fuel']])\n",
    "X = np.array(vdft.avg_speed)\n",
    "y = np.array(vdft.max_fuel)"
   ]
  },
  {
   "cell_type": "code",
   "execution_count": 489,
   "metadata": {},
   "outputs": [],
   "source": [
    "import numpy as np"
   ]
  },
  {
   "cell_type": "code",
   "execution_count": 490,
   "metadata": {},
   "outputs": [],
   "source": [
    "labels = np.array(clusterizer.labels_)"
   ]
  },
  {
   "cell_type": "code",
   "execution_count": 491,
   "metadata": {},
   "outputs": [
    {
     "data": {
      "text/plain": [
       "<matplotlib.collections.PathCollection at 0x7f8f8a518450>"
      ]
     },
     "execution_count": 491,
     "metadata": {},
     "output_type": "execute_result"
    },
    {
     "data": {
      "image/png": "[encoded data removed]",
      "text/plain": [
       "<Figure size 432x288 with 1 Axes>"
      ]
     },
     "metadata": {
      "needs_background": "light"
     },
     "output_type": "display_data"
    }
   ],
   "source": [
    "plt.scatter(X, y, c=labels, s=150)"
   ]
  },
  {
   "cell_type": "code",
   "execution_count": 531,
   "metadata": {},
   "outputs": [
    {
     "data": {
      "image/png": "[encoded data removed]",
      "text/plain": [
       "<Figure size 720x720 with 1 Axes>"
      ]
     },
     "metadata": {
      "needs_background": "light"
     },
     "output_type": "display_data"
    }
   ],
   "source": [
    "plt.figure(figsize=(10, 10))\n",
    "plt.scatter(X, y, c=labels, s=150)\n",
    "plt.xlabel('Средняя скорость передвижения')\n",
    "plt.ylabel('Максимальная вместимость топливного бака')\n",
    "\n",
    "\n",
    "for point in enumerate(zip(X, y)):\n",
    "    \n",
    "    label = vdft.index[point[0]]\n",
    "    x_ = point[1][0]\n",
    "    y_ = point[1][1]\n",
    "\n",
    "    plt.annotate(label, # this is the text\n",
    "    (x_, y_), # this is the point to label\n",
    "    textcoords=\"offset points\", # how to position the text\n",
    "    xytext=(10, 10), # distance from text to points (x,y)\n",
    "    fontsize=14,\n",
    "    ha='center') # horizontal alignment can be left, right or center\n",
    "plt.show()"
   ]
  },
  {
   "cell_type": "code",
   "execution_count": 505,
   "metadata": {},
   "outputs": [
    {
     "data": {
      "text/plain": [
       "(0, (52.397460664742574, 60.0))"
      ]
     },
     "execution_count": 505,
     "metadata": {},
     "output_type": "execute_result"
    }
   ],
   "source": [
    "next(enumerate(zip(X, y)))"
   ]
  },
  {
   "cell_type": "code",
   "execution_count": 545,
   "metadata": {},
   "outputs": [
    {
     "data": {
      "text/plain": [
       "<matplotlib.collections.PathCollection at 0x7f8f8a77d450>"
      ]
     },
     "execution_count": 545,
     "metadata": {},
     "output_type": "execute_result"
    },
    {
     "data": {
      "image/png": "[encoded data removed]",
      "text/plain": [
       "<Figure size 432x288 with 1 Axes>"
      ]
     },
     "metadata": {
      "needs_background": "light"
     },
     "output_type": "display_data"
    }
   ],
   "source": [
    "X_new = vdft.max_fuel\n",
    "y_new = vdft.median_rotations\n",
    "plt.scatter(X_new, y_new)"
   ]
  },
  {
   "cell_type": "code",
   "execution_count": 544,
   "metadata": {},
   "outputs": [
    {
     "ename": "SyntaxError",
     "evalue": "invalid syntax (<ipython-input-544-64b7bb86d3b3>, line 1)",
     "output_type": "error",
     "traceback": [
      "\u001b[0;36m  File \u001b[0;32m\"<ipython-input-544-64b7bb86d3b3>\"\u001b[0;36m, line \u001b[0;32m1\u001b[0m\n\u001b[0;31m    ...a\u001b[0m\n\u001b[0m       ^\u001b[0m\n\u001b[0;31mSyntaxError\u001b[0m\u001b[0;31m:\u001b[0m invalid syntax\n"
     ]
    }
   ],
   "source": []
  },
  {
   "cell_type": "code",
   "execution_count": null,
   "metadata": {},
   "outputs": [],
   "source": []
  }
 ],
 "metadata": {
  "kernelspec": {
   "display_name": "Python 3",
   "language": "python",
   "name": "python3"
  },
  "language_info": {
   "codemirror_mode": {
    "name": "ipython",
    "version": 3
   },
   "file_extension": ".py",
   "mimetype": "text/x-python",
   "name": "python",
   "nbconvert_exporter": "python",
   "pygments_lexer": "ipython3",
   "version": "3.7.4"
  }
 },
 "nbformat": 4,
 "nbformat_minor": 2
}
