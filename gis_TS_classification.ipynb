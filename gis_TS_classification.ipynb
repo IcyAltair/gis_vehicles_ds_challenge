{
 "cells": [
  {
   "cell_type": "markdown",
   "metadata": {},
   "source": [
    "# Конкурс для начинающих Data Scientist от ГИС (ГазИнформСервис)\n",
    "> Команда One Hot Team\n",
    "## 1. Исходные данные, постановка задачи, методика решения\n",
    "### 1.1. Формат и типы данных\n",
    "\n",
    "Нам даны данные с бортовых датчиков в зависимости от временной отметки (timestamp) для транспортных средств за период январь-июнь 2020 года, а именно:\n",
    "\n",
    "* Показания **альтиметра** и **спидометра** (`vehicleID_speedAndHeight_public.csv`) _в метрах_ и _километрах в час_ соответственно\n",
    "* Показания **тахометра** (`vehicleID_tachometer_public.csv`) _в оборотах в минуту_\n",
    "* Показания датчика **замка зажигания** (`vehicleID_ingection_public.csv`) (в формате 0/1, где 0 соответствует выключенному состоянию, а 1 -- включённому)\n",
    "* Уровень **топлива** (`vehicleID_fuelLevel_public.csv`) в _литрах_\n",
    "\n",
    "Данные представлены в формате **CSV** (comma-separated-values), а в качестве разделителя используется знак точки с запятой -- `;`.\n",
    "\n",
    "### 1.2. Понимание предметной области\n",
    "\n",
    "Компании используют множество транспортных средств для ведения своей деятельности, для лучшего мониторинга технического состояния транспортного средства, специфики его использования, улучшения бизнес-процессов внутри компании на машины часто устанавливают серию датчиков, а затем команда аналитиков пытается выявить какие-то закономерности или аномалии в них.\n",
    "\n",
    "Одна из частых проблем при эксплуатации автомобиля -- нерациональный расход топлива, который может возникнуть из-за неправильной эксплуатации транспортного средства или из-за прямого вмешательства и механического изменения уровня топлива в нём, что может быть классифицировано как кража.\n",
    "\n",
    "### 1.3. Формулировка задачи\n",
    "\n",
    "В ходе анализа данных с бортовых датчиков предлагается решить следующие задачи:\n",
    "* Выявить заправки топлива\n",
    "* Выявить сливы (хищения) топлива\n",
    "* Выявить режим работы техники с наибольшим расходом топлива\n",
    "* Выявить режимы перевозки грузов\n",
    "* Определить стиль вождения\n",
    "* Классифицировать транспортные средства по типам (специальные/грузовые/легковые)\n",
    "\n",
    "### 1.4. Описание методики решения\n",
    "1. В задаче **выявления заправок** можно руководствоваться простым эвристическим подходом: если топливо начинает сильно увеличиваться (заметим, что оно может увеличиваться из-за погрешностей и сбоев в работе датчиков топлива, но несильно) за сравнительно небольшой промежуток времени, то это, вероятно, заправка транспортного средства.\n",
    "2. В задаче **выявления сливов** мы смотрели на несколько характеристик автомобиля: чтобы зажигание было выключено (флаг, отвечающий за зажигание = 0), происходило резкое изменение запаса топлива "
   ]
  },
  {
   "cell_type": "markdown",
   "metadata": {},
   "source": [
    "## 2. Препроцессинг данных, выделение признаков"
   ]
  },
  {
   "cell_type": "code",
   "execution_count": 1,
   "metadata": {},
   "outputs": [],
   "source": [
    "import os\n",
    "# change working directory to the one with data files\n",
    "os.chdir('./vehicle_dataset_public/')"
   ]
  },
  {
   "cell_type": "code",
   "execution_count": 550,
   "metadata": {},
   "outputs": [],
   "source": [
    "# import library for table-view representation and to operate with data more easy\n",
    "import pandas as pd\n",
    "import numpy as np\n",
    "# input files for vehicle: \n",
    "# fuelLevel (T), ingection (T), refueling2 (T), speedAndHeight (T), tachometer (T)"
   ]
  },
  {
   "cell_type": "code",
   "execution_count": 7,
   "metadata": {},
   "outputs": [
    {
     "data": {
      "text/plain": [
       "DTIME      object\n",
       "BEVALUE    object\n",
       "dtype: object"
      ]
     },
     "execution_count": 7,
     "metadata": {},
     "output_type": "execute_result"
    }
   ],
   "source": [
    "# just test open some csv file\n",
    "df_test = pd.read_csv('./vehicle1_fuelLevel_public.csv', sep=';')\n",
    "df_test.dtypes"
   ]
  },
  {
   "cell_type": "code",
   "execution_count": 8,
   "metadata": {},
   "outputs": [
    {
     "data": {
      "text/html": [
       "<div>\n",
       "<style scoped>\n",
       "    .dataframe tbody tr th:only-of-type {\n",
       "        vertical-align: middle;\n",
       "    }\n",
       "\n",
       "    .dataframe tbody tr th {\n",
       "        vertical-align: top;\n",
       "    }\n",
       "\n",
       "    .dataframe thead th {\n",
       "        text-align: right;\n",
       "    }\n",
       "</style>\n",
       "<table border=\"1\" class=\"dataframe\">\n",
       "  <thead>\n",
       "    <tr style=\"text-align: right;\">\n",
       "      <th></th>\n",
       "      <th>TSID</th>\n",
       "      <th>STARTDATE</th>\n",
       "      <th>ENDDATE</th>\n",
       "      <th>STARTLEVEL</th>\n",
       "      <th>ENDLEVEL</th>\n",
       "    </tr>\n",
       "  </thead>\n",
       "  <tbody>\n",
       "    <tr>\n",
       "      <td>0</td>\n",
       "      <td>1</td>\n",
       "      <td>2020-01-16 11:02:40</td>\n",
       "      <td>2020-01-16 13:20:40</td>\n",
       "      <td>46,7</td>\n",
       "      <td>38,4</td>\n",
       "    </tr>\n",
       "    <tr>\n",
       "      <td>1</td>\n",
       "      <td>1</td>\n",
       "      <td>2020-01-16 13:20:40</td>\n",
       "      <td>2020-01-16 13:25:46</td>\n",
       "      <td>38,4</td>\n",
       "      <td>56,7</td>\n",
       "    </tr>\n",
       "    <tr>\n",
       "      <td>2</td>\n",
       "      <td>1</td>\n",
       "      <td>2020-01-17 09:05:49</td>\n",
       "      <td>2020-01-17 12:14:10</td>\n",
       "      <td>56,3</td>\n",
       "      <td>51</td>\n",
       "    </tr>\n",
       "    <tr>\n",
       "      <td>3</td>\n",
       "      <td>1</td>\n",
       "      <td>2020-01-17 14:45:48</td>\n",
       "      <td>2020-01-17 16:12:27</td>\n",
       "      <td>51</td>\n",
       "      <td>43,9</td>\n",
       "    </tr>\n",
       "    <tr>\n",
       "      <td>4</td>\n",
       "      <td>1</td>\n",
       "      <td>2020-01-20 09:44:03</td>\n",
       "      <td>2020-01-20 12:44:07</td>\n",
       "      <td>43,9</td>\n",
       "      <td>23,5</td>\n",
       "    </tr>\n",
       "    <tr>\n",
       "      <td>...</td>\n",
       "      <td>...</td>\n",
       "      <td>...</td>\n",
       "      <td>...</td>\n",
       "      <td>...</td>\n",
       "      <td>...</td>\n",
       "    </tr>\n",
       "    <tr>\n",
       "      <td>98</td>\n",
       "      <td>1</td>\n",
       "      <td>2020-06-26 17:13:03</td>\n",
       "      <td>2020-06-26 18:57:03</td>\n",
       "      <td>49,3</td>\n",
       "      <td>39,2</td>\n",
       "    </tr>\n",
       "    <tr>\n",
       "      <td>99</td>\n",
       "      <td>1</td>\n",
       "      <td>2020-06-26 18:57:03</td>\n",
       "      <td>2020-06-26 19:04:00</td>\n",
       "      <td>39,2</td>\n",
       "      <td>59,7</td>\n",
       "    </tr>\n",
       "    <tr>\n",
       "      <td>100</td>\n",
       "      <td>1</td>\n",
       "      <td>2020-06-26 19:04:00</td>\n",
       "      <td>2020-06-26 21:20:41</td>\n",
       "      <td>59,7</td>\n",
       "      <td>32,2</td>\n",
       "    </tr>\n",
       "    <tr>\n",
       "      <td>101</td>\n",
       "      <td>1</td>\n",
       "      <td>2020-06-26 22:00:39</td>\n",
       "      <td>2020-06-27 00:11:16</td>\n",
       "      <td>32,2</td>\n",
       "      <td>7,3</td>\n",
       "    </tr>\n",
       "    <tr>\n",
       "      <td>102</td>\n",
       "      <td>1</td>\n",
       "      <td>2020-06-27 00:11:16</td>\n",
       "      <td>2020-06-27 00:22:37</td>\n",
       "      <td>7,3</td>\n",
       "      <td>57</td>\n",
       "    </tr>\n",
       "  </tbody>\n",
       "</table>\n",
       "<p>103 rows × 5 columns</p>\n",
       "</div>"
      ],
      "text/plain": [
       "     TSID            STARTDATE              ENDDATE STARTLEVEL ENDLEVEL\n",
       "0       1  2020-01-16 11:02:40  2020-01-16 13:20:40       46,7     38,4\n",
       "1       1  2020-01-16 13:20:40  2020-01-16 13:25:46       38,4     56,7\n",
       "2       1  2020-01-17 09:05:49  2020-01-17 12:14:10       56,3       51\n",
       "3       1  2020-01-17 14:45:48  2020-01-17 16:12:27         51     43,9\n",
       "4       1  2020-01-20 09:44:03  2020-01-20 12:44:07       43,9     23,5\n",
       "..    ...                  ...                  ...        ...      ...\n",
       "98      1  2020-06-26 17:13:03  2020-06-26 18:57:03       49,3     39,2\n",
       "99      1  2020-06-26 18:57:03  2020-06-26 19:04:00       39,2     59,7\n",
       "100     1  2020-06-26 19:04:00  2020-06-26 21:20:41       59,7     32,2\n",
       "101     1  2020-06-26 22:00:39  2020-06-27 00:11:16       32,2      7,3\n",
       "102     1  2020-06-27 00:11:16  2020-06-27 00:22:37        7,3       57\n",
       "\n",
       "[103 rows x 5 columns]"
      ]
     },
     "execution_count": 8,
     "metadata": {},
     "output_type": "execute_result"
    }
   ],
   "source": [
    "# take a look at another one\n",
    "pd.read_csv('./vehicle1_refueling2_public.csv', sep=';')"
   ]
  },
  {
   "cell_type": "code",
   "execution_count": 11,
   "metadata": {},
   "outputs": [],
   "source": [
    "import pandas as pd"
   ]
  },
  {
   "cell_type": "code",
   "execution_count": 32,
   "metadata": {},
   "outputs": [],
   "source": [
    "# get all files with vehicle word in name\n",
    "filenames = [filename for filename in os.listdir() if filename.find('vehicle') != -1]"
   ]
  },
  {
   "cell_type": "code",
   "execution_count": 33,
   "metadata": {},
   "outputs": [],
   "source": [
    "def get_unique_vehicles_sensors(filenames):\n",
    "    \n",
    "    \"\"\"\n",
    "        function get all filenames in folder with 'csv' files\n",
    "        and returns the number of unique vehicles and sensors on it\n",
    "        using filename pattern vehicleID_sensorType_fileType.csv\n",
    "        where is fileType is public in public data\n",
    "    \"\"\"\n",
    "    \n",
    "    vehicles, sensors = set(), set()\n",
    "    for filename in filenames:\n",
    "        vehicle_name, sensor_type, _ = filename.split('_')\n",
    "        vehicles.add(vehicle_name)\n",
    "        sensors.add(sensor_type)\n",
    "    return list(vehicles), list(sensors)"
   ]
  },
  {
   "cell_type": "code",
   "execution_count": 34,
   "metadata": {},
   "outputs": [],
   "source": [
    "vehicles, sensors = get_unique_vehicles_sensors(filenames)"
   ]
  },
  {
   "cell_type": "code",
   "execution_count": 86,
   "metadata": {},
   "outputs": [
    {
     "data": {
      "text/plain": [
       "(['vehicle1', 'vehicle19', 'vehicle28', 'vehicle3', 'vehicle5'],\n",
       " ['fuelLevel', 'ingection', 'refueling2', 'speedAndHeight', 'tachometer'])"
      ]
     },
     "execution_count": 86,
     "metadata": {},
     "output_type": "execute_result"
    }
   ],
   "source": [
    "# sort vehicle names and sensor types\n",
    "vehicles.sort()\n",
    "sensors.sort()\n",
    "\n",
    "# show it\n",
    "vehicles, sensors"
   ]
  },
  {
   "cell_type": "code",
   "execution_count": 89,
   "metadata": {},
   "outputs": [],
   "source": [
    "# let's store all data in pandas Series\n",
    "# it's useful when you want to get values just saying \n",
    "# vehicle_data[vehicle_name].sensorType.sensorValue\n",
    "# (using dot notation)\n",
    "\n",
    "vehicles_data = pd.Series()\n",
    "for vehicle_name in vehicles:\n",
    "    vehicle = pd.Series()\n",
    "    for sensor in sensors:\n",
    "        sensor_df = pd.read_csv('_'.join([vehicle_name, sensor, 'public.csv']), sep=';')\n",
    "        vehicle[sensor] = sensor_df\n",
    "    vehicles_data[vehicle_name] = vehicle"
   ]
  },
  {
   "cell_type": "code",
   "execution_count": 548,
   "metadata": {},
   "outputs": [
    {
     "data": {
      "text/plain": [
       "DTIME      datetime64[ns]\n",
       "BEVALUE           float64\n",
       "dtype: object"
      ]
     },
     "execution_count": 548,
     "metadata": {},
     "output_type": "execute_result"
    }
   ],
   "source": [
    "# check types of variables in this pandas series\n",
    "vehicles_data['vehicle1'].fuelLevel.dtypes\n",
    "\n",
    "# we can see that many of types are just objects\n",
    "# we really need to convert it to the pandas floats and datetime64's"
   ]
  },
  {
   "cell_type": "code",
   "execution_count": 90,
   "metadata": {},
   "outputs": [],
   "source": [
    "# let's define some functions to make our preprocessing task easily\n",
    "# first of all, we can see that in our dataset there is all float numbers\n",
    "# using comma sign (,) as separator instead of traditional one (.) in pandas\n",
    "# according to this, we need to replace all commas in floats and convert it to pandas floats\n",
    "# and with dates we should convert strings to dates using astype function inside our wrapper functions\n",
    "# such as convert_number for numbers and convert_date for dates\n",
    "\n",
    "def convert_number(num_as_string):\n",
    "    \"\"\"\n",
    "        function converts numbers from string format N,n (replace all commas with dots) \n",
    "        to pandas Series float value format N.n (real number)\n",
    "    \"\"\"\n",
    "\n",
    "    return num_as_string.str.replace(',', '.').astype('float')\n",
    "\n",
    "\n",
    "def convert_date(date_as_string):\n",
    "    \"\"\"\n",
    "        function converts date from string to datetime64 pandas date format\n",
    "    \"\"\"\n",
    "    \n",
    "    return date_as_string.astype('datetime64')\n",
    "\n",
    "\n",
    "# replace commas with dots and change type from object to float64\n",
    "for vehicle in vehicles:\n",
    "    # fuelLevel dataset preproccess\n",
    "    for sensor in sensors:\n",
    "        sensor_data = vehicles_data[vehicle][sensor]\n",
    "        values = sensor_data.columns\n",
    "        for value in values:\n",
    "            # three types: int | float | date\n",
    "            # need to become: int->int str->float (if BEVALUE) and not int64 already\n",
    "            # check correctness using print(vehicle, sensor, sensor_data, value)\n",
    "            if sensor_data[value].dtype == 'object':\n",
    "                date_like_columns = ['DTIME', 'STARTDATE', 'ENDDATE']\n",
    "                if value in date_like_columns:\n",
    "                    sensor_data[value] = convert_date(sensor_data[value])\n",
    "                else:\n",
    "                    sensor_data[value] = convert_number(sensor_data[value])\n",
    "            # if type is not object do nothing (cause int64 -> (goes to) int64 by default)"
   ]
  },
  {
   "cell_type": "code",
   "execution_count": 91,
   "metadata": {},
   "outputs": [
    {
     "data": {
      "text/plain": [
       "DTIME      datetime64[ns]\n",
       "BEVALUE           float64\n",
       "dtype: object"
      ]
     },
     "execution_count": 91,
     "metadata": {},
     "output_type": "execute_result"
    }
   ],
   "source": [
    "# let's take a look at dtypes again\n",
    "vehicles_data['vehicle1'].fuelLevel.dtypes"
   ]
  },
  {
   "cell_type": "code",
   "execution_count": 537,
   "metadata": {},
   "outputs": [],
   "source": [
    "# good news, we've got right types in series\n",
    "# so, generate some new basic features such as \n",
    "# max_fuel, avg_speed and so on\n",
    "\n",
    "for vehicle in vehicles:\n",
    "    # fuel level features\n",
    "    current_vehicle = vehicles_data[vehicle]\n",
    "    df = current_vehicle.fuelLevel\n",
    "    current_vehicle['max_fuel'] = df.BEVALUE.max()\n",
    "    \n",
    "    # height features\n",
    "    df = current_vehicle.speedAndHeight\n",
    "    current_vehicle['max_height'] = df.HEIGHT.max()\n",
    "    current_vehicle['min_height'] = df.HEIGHT.min()\n",
    "    current_vehicle['avg_height'] = df.HEIGHT.mean()\n",
    "    current_vehicle['range_height'] = df.HEIGHT.max() - df.HEIGHT.min()\n",
    "    \n",
    "    # speed features\n",
    "    vehicles_data[vehicle]['max_speed'] = df.SPEED.max()\n",
    "    # vehicles_data[vehicle]['min_speed'] = df.SPEED.min() -- not informative cause min is 0 for all\n",
    "    vehicles_data[vehicle]['avg_speed'] = df.SPEED.mean()\n",
    "    # vehicles_data[vehicle]['range_speed'] = df.SPEED.max() - df.SPEED.min() -- not informative cause max_speed\n",
    "    \n",
    "    # tachometer features\n",
    "    df = current_vehicle.tachometer\n",
    "    current_vehicle['avg_rotations'] = df.BEVALUE.mean()\n",
    "    current_vehicle['median_rotations'] = df.BEVALUE.median()"
   ]
  },
  {
   "cell_type": "markdown",
   "metadata": {},
   "source": [
    "## 3. Гипотезы классификации\n",
    "\n",
    "Базовый визуальный анализ значений максимального уровня топлива в баках за весь предоставленный период времени может свидетельствовать о том, что ``vehicle28`` и ``vehicle1`` с максимальным объемом в 60 литров с большой вероятностью являются **легковыми автомобилями**.\n",
    "\n",
    "Таким же является `vehicle5` с максимальным объемом в 73.5 литра.\n",
    "\n",
    "Транспортное средство с идентификатором `vehicle19` относится к типу специальной техники, о чём свидетельствует большая вместимость топливного бака, а также (как мы увидим ниже, рассматриая двумерный разрез в пространстве признаков \"скорость - объем бака\") расположение кластеров на графике.\n",
    "\n",
    "``vehicle3`` -- фура с самым большим из представленных баков, предназначена для транспортировки грузов на дальние расстояния, магистральный тягач типа MAN, 279.8 (280) литров.\n",
    "\n",
    "Разделение (или как ещё говорят при построении деревьев решений -- расщепление) набора данных о транспортных средствах всего лишь по одному этому критерию даёт достаточно большую точность классификации (кластеризации), что очень неплохо, а самое главное -- интуитивно угадываемо и понятно.\n",
    "\n",
    "Давайте двигатья в решении этой задачи далее!"
   ]
  },
  {
   "cell_type": "markdown",
   "metadata": {},
   "source": [
    "## 4. Создание датасета для классификации транспортных средств\n",
    "\n",
    "Поскольку большое число признаков в нашей задаче генерировать особого смысла не имеет (например, потому что существуют такие явные признаки, на основании которых тестовая выборка уже неплохо разделима), то для решения **задачи классификации транспортных средств** мы воспользуемся такими признаками как:\n",
    "* Медианное и среднее значения оборотов длвигателя за весь период наблюдений\n",
    "* Размах (разность между максимальным и минимальным значениями) высот\n",
    "* Максимальная и средняя скорость передвижения транспортного средства\n",
    "* Максимальные значения уровня топлива (что может быть интерпретировано как вместимость бака)\n",
    "и некоторые другие\n",
    "\n",
    "На основании вышеописанных признаков мы составим небольшой датасет, где обучающими примерами выступят представленные транспортные средства (5 штук).\n",
    "\n",
    "Обратим внимание, что здесь же мы проделали подготовительную работу по выделению временных промежутков слива и заправки топлива (`defuel_periods` и `fuel_periods` соответственно) для каждого транспортного средства, а также предполагаемый суммарный расход топлива за весь период наблюдений и предполагаемое расчётное число \"слитых\" литров топлива (`sum_fuel` и `sum_defuel`)."
   ]
  },
  {
   "cell_type": "code",
   "execution_count": 538,
   "metadata": {},
   "outputs": [],
   "source": [
    "# make dataframe with new features\n",
    "vehicles_df = pd.DataFrame()\n",
    "for vehicle in vehicles:\n",
    "    # get only features generated by us\n",
    "    generated_features = list(set(vehicles_data[vehicle].index) - set(sensors))\n",
    "    vehicles_df[vehicle] = vehicles_data[vehicle][generated_features]"
   ]
  },
  {
   "cell_type": "code",
   "execution_count": 539,
   "metadata": {},
   "outputs": [
    {
     "data": {
      "text/html": [
       "<div>\n",
       "<style scoped>\n",
       "    .dataframe tbody tr th:only-of-type {\n",
       "        vertical-align: middle;\n",
       "    }\n",
       "\n",
       "    .dataframe tbody tr th {\n",
       "        vertical-align: top;\n",
       "    }\n",
       "\n",
       "    .dataframe thead th {\n",
       "        text-align: right;\n",
       "    }\n",
       "</style>\n",
       "<table border=\"1\" class=\"dataframe\">\n",
       "  <thead>\n",
       "    <tr style=\"text-align: right;\">\n",
       "      <th></th>\n",
       "      <th>vehicle1</th>\n",
       "      <th>vehicle19</th>\n",
       "      <th>vehicle28</th>\n",
       "      <th>vehicle3</th>\n",
       "      <th>vehicle5</th>\n",
       "    </tr>\n",
       "  </thead>\n",
       "  <tbody>\n",
       "    <tr>\n",
       "      <td>min_height</td>\n",
       "      <td>-1503.6</td>\n",
       "      <td>-46.6</td>\n",
       "      <td>-2561.8</td>\n",
       "      <td>-79.7</td>\n",
       "      <td>-3228.2</td>\n",
       "    </tr>\n",
       "    <tr>\n",
       "      <td>avg_speed</td>\n",
       "      <td>52.3975</td>\n",
       "      <td>1.98549</td>\n",
       "      <td>42.1614</td>\n",
       "      <td>29.6963</td>\n",
       "      <td>59.0354</td>\n",
       "    </tr>\n",
       "    <tr>\n",
       "      <td>avg_height</td>\n",
       "      <td>37.0444</td>\n",
       "      <td>81.3893</td>\n",
       "      <td>61.5954</td>\n",
       "      <td>56.7928</td>\n",
       "      <td>52.983</td>\n",
       "    </tr>\n",
       "    <tr>\n",
       "      <td>range_height</td>\n",
       "      <td>3697</td>\n",
       "      <td>2859.4</td>\n",
       "      <td>2937.1</td>\n",
       "      <td>246.8</td>\n",
       "      <td>6486.9</td>\n",
       "    </tr>\n",
       "    <tr>\n",
       "      <td>sum_fuel</td>\n",
       "      <td>12535.7</td>\n",
       "      <td>985.3</td>\n",
       "      <td>20245.3</td>\n",
       "      <td>5141.3</td>\n",
       "      <td>11151.5</td>\n",
       "    </tr>\n",
       "    <tr>\n",
       "      <td>defuel_periods</td>\n",
       "      <td>4288   2020-02-25 09:19:18\n",
       "Name: DTIME, dtype:...</td>\n",
       "      <td>Series([], Name: DTIME, dtype: datetime64[ns])</td>\n",
       "      <td>232     2020-01-09 16:25:33\n",
       "993     2020-01-14...</td>\n",
       "      <td>Series([], Name: DTIME, dtype: datetime64[ns])</td>\n",
       "      <td>Series([], Name: DTIME, dtype: datetime64[ns])</td>\n",
       "    </tr>\n",
       "    <tr>\n",
       "      <td>median_rotations</td>\n",
       "      <td>2400</td>\n",
       "      <td>1190</td>\n",
       "      <td>2272</td>\n",
       "      <td>1186.5</td>\n",
       "      <td>1968</td>\n",
       "    </tr>\n",
       "    <tr>\n",
       "      <td>sum_defuel</td>\n",
       "      <td>31.7</td>\n",
       "      <td>0</td>\n",
       "      <td>1869.1</td>\n",
       "      <td>0</td>\n",
       "      <td>0</td>\n",
       "    </tr>\n",
       "    <tr>\n",
       "      <td>max_height</td>\n",
       "      <td>2193.4</td>\n",
       "      <td>2812.8</td>\n",
       "      <td>375.3</td>\n",
       "      <td>167.1</td>\n",
       "      <td>3258.7</td>\n",
       "    </tr>\n",
       "    <tr>\n",
       "      <td>avg_rotations</td>\n",
       "      <td>2315.6</td>\n",
       "      <td>1166.82</td>\n",
       "      <td>1914.68</td>\n",
       "      <td>1197.5</td>\n",
       "      <td>1889.08</td>\n",
       "    </tr>\n",
       "    <tr>\n",
       "      <td>fuel_periods</td>\n",
       "      <td>3       2020-01-09 10:05:26\n",
       "25      2020-01-14...</td>\n",
       "      <td>464    2020-01-13 07:22:33\n",
       "2011   2020-03-03 1...</td>\n",
       "      <td>2       2020-01-09 08:19:06\n",
       "5       2020-01-09...</td>\n",
       "      <td>1      2020-01-09 08:40:43\n",
       "273    2020-02-10 0...</td>\n",
       "      <td>19      2020-01-10 09:57:40\n",
       "62      2020-01-10...</td>\n",
       "    </tr>\n",
       "    <tr>\n",
       "      <td>max_fuel</td>\n",
       "      <td>60</td>\n",
       "      <td>95</td>\n",
       "      <td>60</td>\n",
       "      <td>279.8</td>\n",
       "      <td>73.5</td>\n",
       "    </tr>\n",
       "    <tr>\n",
       "      <td>max_speed</td>\n",
       "      <td>129</td>\n",
       "      <td>57</td>\n",
       "      <td>122</td>\n",
       "      <td>227</td>\n",
       "      <td>132</td>\n",
       "    </tr>\n",
       "  </tbody>\n",
       "</table>\n",
       "</div>"
      ],
      "text/plain": [
       "                                                           vehicle1  \\\n",
       "min_height                                                  -1503.6   \n",
       "avg_speed                                                   52.3975   \n",
       "avg_height                                                  37.0444   \n",
       "range_height                                                   3697   \n",
       "sum_fuel                                                    12535.7   \n",
       "defuel_periods    4288   2020-02-25 09:19:18\n",
       "Name: DTIME, dtype:...   \n",
       "median_rotations                                               2400   \n",
       "sum_defuel                                                     31.7   \n",
       "max_height                                                   2193.4   \n",
       "avg_rotations                                                2315.6   \n",
       "fuel_periods      3       2020-01-09 10:05:26\n",
       "25      2020-01-14...   \n",
       "max_fuel                                                         60   \n",
       "max_speed                                                       129   \n",
       "\n",
       "                                                          vehicle19  \\\n",
       "min_height                                                    -46.6   \n",
       "avg_speed                                                   1.98549   \n",
       "avg_height                                                  81.3893   \n",
       "range_height                                                 2859.4   \n",
       "sum_fuel                                                      985.3   \n",
       "defuel_periods       Series([], Name: DTIME, dtype: datetime64[ns])   \n",
       "median_rotations                                               1190   \n",
       "sum_defuel                                                        0   \n",
       "max_height                                                   2812.8   \n",
       "avg_rotations                                               1166.82   \n",
       "fuel_periods      464    2020-01-13 07:22:33\n",
       "2011   2020-03-03 1...   \n",
       "max_fuel                                                         95   \n",
       "max_speed                                                        57   \n",
       "\n",
       "                                                          vehicle28  \\\n",
       "min_height                                                  -2561.8   \n",
       "avg_speed                                                   42.1614   \n",
       "avg_height                                                  61.5954   \n",
       "range_height                                                 2937.1   \n",
       "sum_fuel                                                    20245.3   \n",
       "defuel_periods    232     2020-01-09 16:25:33\n",
       "993     2020-01-14...   \n",
       "median_rotations                                               2272   \n",
       "sum_defuel                                                   1869.1   \n",
       "max_height                                                    375.3   \n",
       "avg_rotations                                               1914.68   \n",
       "fuel_periods      2       2020-01-09 08:19:06\n",
       "5       2020-01-09...   \n",
       "max_fuel                                                         60   \n",
       "max_speed                                                       122   \n",
       "\n",
       "                                                           vehicle3  \\\n",
       "min_height                                                    -79.7   \n",
       "avg_speed                                                   29.6963   \n",
       "avg_height                                                  56.7928   \n",
       "range_height                                                  246.8   \n",
       "sum_fuel                                                     5141.3   \n",
       "defuel_periods       Series([], Name: DTIME, dtype: datetime64[ns])   \n",
       "median_rotations                                             1186.5   \n",
       "sum_defuel                                                        0   \n",
       "max_height                                                    167.1   \n",
       "avg_rotations                                                1197.5   \n",
       "fuel_periods      1      2020-01-09 08:40:43\n",
       "273    2020-02-10 0...   \n",
       "max_fuel                                                      279.8   \n",
       "max_speed                                                       227   \n",
       "\n",
       "                                                           vehicle5  \n",
       "min_height                                                  -3228.2  \n",
       "avg_speed                                                   59.0354  \n",
       "avg_height                                                   52.983  \n",
       "range_height                                                 6486.9  \n",
       "sum_fuel                                                    11151.5  \n",
       "defuel_periods       Series([], Name: DTIME, dtype: datetime64[ns])  \n",
       "median_rotations                                               1968  \n",
       "sum_defuel                                                        0  \n",
       "max_height                                                   3258.7  \n",
       "avg_rotations                                               1889.08  \n",
       "fuel_periods      19      2020-01-10 09:57:40\n",
       "62      2020-01-10...  \n",
       "max_fuel                                                       73.5  \n",
       "max_speed                                                       132  "
      ]
     },
     "execution_count": 539,
     "metadata": {},
     "output_type": "execute_result"
    }
   ],
   "source": [
    "# let's just watch on this new dataframe \n",
    "vehicles_df"
   ]
  },
  {
   "cell_type": "code",
   "execution_count": 540,
   "metadata": {},
   "outputs": [
    {
     "data": {
      "text/html": [
       "<div>\n",
       "<style scoped>\n",
       "    .dataframe tbody tr th:only-of-type {\n",
       "        vertical-align: middle;\n",
       "    }\n",
       "\n",
       "    .dataframe tbody tr th {\n",
       "        vertical-align: top;\n",
       "    }\n",
       "\n",
       "    .dataframe thead th {\n",
       "        text-align: right;\n",
       "    }\n",
       "</style>\n",
       "<table border=\"1\" class=\"dataframe\">\n",
       "  <thead>\n",
       "    <tr style=\"text-align: right;\">\n",
       "      <th></th>\n",
       "      <th>min_height</th>\n",
       "      <th>avg_speed</th>\n",
       "      <th>avg_height</th>\n",
       "      <th>range_height</th>\n",
       "      <th>sum_fuel</th>\n",
       "      <th>defuel_periods</th>\n",
       "      <th>median_rotations</th>\n",
       "      <th>sum_defuel</th>\n",
       "      <th>max_height</th>\n",
       "      <th>avg_rotations</th>\n",
       "      <th>fuel_periods</th>\n",
       "      <th>max_fuel</th>\n",
       "      <th>max_speed</th>\n",
       "    </tr>\n",
       "  </thead>\n",
       "  <tbody>\n",
       "    <tr>\n",
       "      <td>vehicle1</td>\n",
       "      <td>-1503.6</td>\n",
       "      <td>52.3975</td>\n",
       "      <td>37.0444</td>\n",
       "      <td>3697</td>\n",
       "      <td>12535.7</td>\n",
       "      <td>4288   2020-02-25 09:19:18\n",
       "Name: DTIME, dtype:...</td>\n",
       "      <td>2400</td>\n",
       "      <td>31.7</td>\n",
       "      <td>2193.4</td>\n",
       "      <td>2315.6</td>\n",
       "      <td>3       2020-01-09 10:05:26\n",
       "25      2020-01-14...</td>\n",
       "      <td>60</td>\n",
       "      <td>129</td>\n",
       "    </tr>\n",
       "    <tr>\n",
       "      <td>vehicle19</td>\n",
       "      <td>-46.6</td>\n",
       "      <td>1.98549</td>\n",
       "      <td>81.3893</td>\n",
       "      <td>2859.4</td>\n",
       "      <td>985.3</td>\n",
       "      <td>Series([], Name: DTIME, dtype: datetime64[ns])</td>\n",
       "      <td>1190</td>\n",
       "      <td>0</td>\n",
       "      <td>2812.8</td>\n",
       "      <td>1166.82</td>\n",
       "      <td>464    2020-01-13 07:22:33\n",
       "2011   2020-03-03 1...</td>\n",
       "      <td>95</td>\n",
       "      <td>57</td>\n",
       "    </tr>\n",
       "    <tr>\n",
       "      <td>vehicle28</td>\n",
       "      <td>-2561.8</td>\n",
       "      <td>42.1614</td>\n",
       "      <td>61.5954</td>\n",
       "      <td>2937.1</td>\n",
       "      <td>20245.3</td>\n",
       "      <td>232     2020-01-09 16:25:33\n",
       "993     2020-01-14...</td>\n",
       "      <td>2272</td>\n",
       "      <td>1869.1</td>\n",
       "      <td>375.3</td>\n",
       "      <td>1914.68</td>\n",
       "      <td>2       2020-01-09 08:19:06\n",
       "5       2020-01-09...</td>\n",
       "      <td>60</td>\n",
       "      <td>122</td>\n",
       "    </tr>\n",
       "    <tr>\n",
       "      <td>vehicle3</td>\n",
       "      <td>-79.7</td>\n",
       "      <td>29.6963</td>\n",
       "      <td>56.7928</td>\n",
       "      <td>246.8</td>\n",
       "      <td>5141.3</td>\n",
       "      <td>Series([], Name: DTIME, dtype: datetime64[ns])</td>\n",
       "      <td>1186.5</td>\n",
       "      <td>0</td>\n",
       "      <td>167.1</td>\n",
       "      <td>1197.5</td>\n",
       "      <td>1      2020-01-09 08:40:43\n",
       "273    2020-02-10 0...</td>\n",
       "      <td>279.8</td>\n",
       "      <td>227</td>\n",
       "    </tr>\n",
       "    <tr>\n",
       "      <td>vehicle5</td>\n",
       "      <td>-3228.2</td>\n",
       "      <td>59.0354</td>\n",
       "      <td>52.983</td>\n",
       "      <td>6486.9</td>\n",
       "      <td>11151.5</td>\n",
       "      <td>Series([], Name: DTIME, dtype: datetime64[ns])</td>\n",
       "      <td>1968</td>\n",
       "      <td>0</td>\n",
       "      <td>3258.7</td>\n",
       "      <td>1889.08</td>\n",
       "      <td>19      2020-01-10 09:57:40\n",
       "62      2020-01-10...</td>\n",
       "      <td>73.5</td>\n",
       "      <td>132</td>\n",
       "    </tr>\n",
       "  </tbody>\n",
       "</table>\n",
       "</div>"
      ],
      "text/plain": [
       "          min_height avg_speed avg_height range_height sum_fuel  \\\n",
       "vehicle1     -1503.6   52.3975    37.0444         3697  12535.7   \n",
       "vehicle19      -46.6   1.98549    81.3893       2859.4    985.3   \n",
       "vehicle28    -2561.8   42.1614    61.5954       2937.1  20245.3   \n",
       "vehicle3       -79.7   29.6963    56.7928        246.8   5141.3   \n",
       "vehicle5     -3228.2   59.0354     52.983       6486.9  11151.5   \n",
       "\n",
       "                                              defuel_periods median_rotations  \\\n",
       "vehicle1   4288   2020-02-25 09:19:18\n",
       "Name: DTIME, dtype:...             2400   \n",
       "vehicle19     Series([], Name: DTIME, dtype: datetime64[ns])             1190   \n",
       "vehicle28  232     2020-01-09 16:25:33\n",
       "993     2020-01-14...             2272   \n",
       "vehicle3      Series([], Name: DTIME, dtype: datetime64[ns])           1186.5   \n",
       "vehicle5      Series([], Name: DTIME, dtype: datetime64[ns])             1968   \n",
       "\n",
       "          sum_defuel max_height avg_rotations  \\\n",
       "vehicle1        31.7     2193.4        2315.6   \n",
       "vehicle19          0     2812.8       1166.82   \n",
       "vehicle28     1869.1      375.3       1914.68   \n",
       "vehicle3           0      167.1        1197.5   \n",
       "vehicle5           0     3258.7       1889.08   \n",
       "\n",
       "                                                fuel_periods max_fuel  \\\n",
       "vehicle1   3       2020-01-09 10:05:26\n",
       "25      2020-01-14...       60   \n",
       "vehicle19  464    2020-01-13 07:22:33\n",
       "2011   2020-03-03 1...       95   \n",
       "vehicle28  2       2020-01-09 08:19:06\n",
       "5       2020-01-09...       60   \n",
       "vehicle3   1      2020-01-09 08:40:43\n",
       "273    2020-02-10 0...    279.8   \n",
       "vehicle5   19      2020-01-10 09:57:40\n",
       "62      2020-01-10...     73.5   \n",
       "\n",
       "          max_speed  \n",
       "vehicle1        129  \n",
       "vehicle19        57  \n",
       "vehicle28       122  \n",
       "vehicle3        227  \n",
       "vehicle5        132  "
      ]
     },
     "execution_count": 540,
     "metadata": {},
     "output_type": "execute_result"
    }
   ],
   "source": [
    "# let's transpose our vehicles dataset to make it fit\n",
    "# traditional form where rows is objects and columns is features\n",
    "vdft = vehicles_df.transpose()\n",
    "vdft"
   ]
  },
  {
   "cell_type": "code",
   "execution_count": 108,
   "metadata": {},
   "outputs": [],
   "source": [
    "# importing libraries for visualisation (plotting tools)\n",
    "from matplotlib import pyplot as plt"
   ]
  },
  {
   "cell_type": "code",
   "execution_count": 156,
   "metadata": {},
   "outputs": [
    {
     "data": {
      "text/plain": [
       "[array([60.0, 52.397460664742574], dtype=object),\n",
       " array([95.0, 1.985494106980961], dtype=object),\n",
       " array([60.0, 42.161399705980195], dtype=object),\n",
       " array([279.8, 29.696296296296296], dtype=object),\n",
       " array([73.5, 59.03544883970601], dtype=object)]"
      ]
     },
     "execution_count": 156,
     "metadata": {},
     "output_type": "execute_result"
    }
   ],
   "source": [
    "# let's reduce dimensionality (by taking only two of features) \n",
    "# and watch feature space as plane\n",
    "dp = list(vdft[['max_fuel', 'avg_speed']].values)\n",
    "dp"
   ]
  },
  {
   "cell_type": "code",
   "execution_count": 157,
   "metadata": {},
   "outputs": [],
   "source": [
    "# let's call first feature X, the second one y\n",
    "X = [el[0] for el in dp]\n",
    "y = [el[1] for el in dp]"
   ]
  },
  {
   "cell_type": "code",
   "execution_count": 393,
   "metadata": {
    "scrolled": true
   },
   "outputs": [
    {
     "data": {
      "image/png": "[encoded data removed]",
      "text/plain": [
       "<Figure size 432x288 with 1 Axes>"
      ]
     },
     "metadata": {
      "needs_background": "light"
     },
     "output_type": "display_data"
    },
    {
     "data": {
      "text/plain": [
       "<Figure size 864x864 with 0 Axes>"
      ]
     },
     "metadata": {},
     "output_type": "display_data"
    }
   ],
   "source": [
    "# and plot it\n",
    "plt.scatter(X, y)\n",
    "# set label for first feature\n",
    "plt.xlabel('max_fuel')\n",
    "# and also for the second one\n",
    "plt.ylabel('avg_speed')\n",
    "plt.figure(figsize=(12,12))\n",
    "plt.show()\n",
    "# so we can see some kind of clusters, huh?"
   ]
  },
  {
   "cell_type": "code",
   "execution_count": 335,
   "metadata": {},
   "outputs": [],
   "source": [
    "for vehicle in vehicles:\n",
    "    fuel_values = list(vehicles_data[vehicle].fuelLevel.BEVALUE)\n",
    "    fuel_times = list(vehicles_data[vehicle].fuelLevel.DTIME)\n",
    "    in_drive_flag = list(vehicles_data[vehicle].ingection.BEVALUE)\n",
    "    \n",
    "    defuel_indexes = []\n",
    "    defuel_amounts = []\n",
    "    fuel_indexes = []\n",
    "    fuel_amounts = []\n",
    "    \n",
    "    DEFUEL_THRESHOLD = 10 # litres\n",
    "    FUEL_THRESHOLD = 20 # litres\n",
    "    \n",
    "    for i in range(0, len(fuel_values) - 1):\n",
    "        # defuels\n",
    "        if (fuel_values[i] - fuel_values[i+1] > DEFUEL_THRESHOLD) and \\\n",
    "            ((fuel_times[i+1] - fuel_times[i]).total_seconds() < 100) and \\\n",
    "            (in_drive_flag[i] == 0):\n",
    "            defuel_indexes.append(i)\n",
    "            defuel_amounts.append(fuel_values[i])\n",
    "\n",
    "        # fuels\n",
    "        if ((fuel_values[i+1] - fuel_values[i]) > FUEL_THRESHOLD):\n",
    "            fuel_indexes.append(i+1)\n",
    "            fuel_amounts.append(fuel_values[i+1])\n",
    "    \n",
    "    # add this info to vehicle data\n",
    "    current_vehicle = vehicles_data[vehicle]\n",
    "    df = current_vehicle.fuelLevel\n",
    "    current_vehicle['fuel_periods'] = df.DTIME[fuel_indexes]\n",
    "    current_vehicle['defuel_periods'] = df.DTIME[defuel_indexes]\n",
    "    \n",
    "    # add info about sum of fuels / defuels\n",
    "    current_vehicle['sum_fuel'] = sum(fuel_amounts)\n",
    "    current_vehicle['sum_defuel'] = sum(defuel_amounts)"
   ]
  },
  {
   "cell_type": "markdown",
   "metadata": {},
   "source": [
    "## 5. Решение задачи кластеризации методом К средних (K-means)\n",
    "Метод К средних при решении задач кластеризации хорош тем, что он явно позволяет задать необходимое число кластеров для решения задачи кластеризации (мы условились считать, что кластеров в нашей задаче 3: грузовые автомобили, легковые и специального назначения."
   ]
  },
  {
   "cell_type": "code",
   "execution_count": 408,
   "metadata": {},
   "outputs": [],
   "source": [
    "# import clusterizer from library for classic machine learning algorithms implementations\n",
    "from sklearn.cluster import KMeans"
   ]
  },
  {
   "cell_type": "code",
   "execution_count": 488,
   "metadata": {},
   "outputs": [],
   "source": [
    "clusterizer = KMeans(n_clusters = 3)\n",
    "# clusterize by 3 features: average speed, \n",
    "# average height above the sealevel, and maximum fuel level\n",
    "clusterizer.fit(vdft[['avg_speed', 'avg_height', 'max_fuel']])\n",
    "X = np.array(vdft.avg_speed)\n",
    "y = np.array(vdft.max_fuel)"
   ]
  },
  {
   "cell_type": "code",
   "execution_count": 490,
   "metadata": {},
   "outputs": [],
   "source": [
    "labels = np.array(clusterizer.labels_)"
   ]
  },
  {
   "cell_type": "code",
   "execution_count": 491,
   "metadata": {
    "scrolled": true
   },
   "outputs": [
    {
     "data": {
      "text/plain": [
       "<matplotlib.collections.PathCollection at 0x7f8f8a518450>"
      ]
     },
     "execution_count": 491,
     "metadata": {},
     "output_type": "execute_result"
    },
    {
     "data": {
      "image/png": "[encoded data removed]",
      "text/plain": [
       "<Figure size 432x288 with 1 Axes>"
      ]
     },
     "metadata": {
      "needs_background": "light"
     },
     "output_type": "display_data"
    }
   ],
   "source": [
    "plt.scatter(X, y, c=labels, s=150)"
   ]
  },
  {
   "cell_type": "code",
   "execution_count": 531,
   "metadata": {},
   "outputs": [
    {
     "data": {
      "image/png": "[encoded data removed]",
      "text/plain": [
       "<Figure size 720x720 with 1 Axes>"
      ]
     },
     "metadata": {
      "needs_background": "light"
     },
     "output_type": "display_data"
    }
   ],
   "source": [
    "plt.figure(figsize=(10, 10))\n",
    "plt.scatter(X, y, c=labels, s=150)\n",
    "plt.xlabel('Средняя скорость передвижения')\n",
    "plt.ylabel('Максимальная вместимость топливного бака')\n",
    "\n",
    "# let's annotate all points by vehicle name (vehicleID)\n",
    "for point in enumerate(zip(X, y)):\n",
    "    \n",
    "    label = vdft.index[point[0]]\n",
    "    x_ = point[1][0]\n",
    "    y_ = point[1][1]\n",
    "\n",
    "    plt.annotate(label, # this is the text\n",
    "    (x_, y_), # this is the point to label\n",
    "    textcoords=\"offset points\", # how to position the text\n",
    "    xytext=(10, 10), # distance from text to points (x,y)\n",
    "    fontsize=14,\n",
    "    ha='center') # horizontal alignment can be left, right or center\n",
    "plt.show()"
   ]
  },
  {
   "cell_type": "markdown",
   "metadata": {},
   "source": [
    "## 6. Решение задачи классификации сливов/заправок методом KNN"
   ]
  },
  {
   "cell_type": "markdown",
   "metadata": {},
   "source": [
    "KNN -- K Nearest Neighbors, К ближайших соседей. Новый объект относится к тому классу, объекты какого класса преобладают рядом с тем, для которого мы строим предсказание. Имплементация данного метода осуществляется посредством двух файлов, которые лежат в корне репозитория с решением:\n",
    "* ``get_data.py`` -- получаем данные и признаки из них (обработка осуществляется аналогично тому, как мы делаем в этом файле, см. обход файлов, транспортных средств и датчиков выше в этом ноутбуке)\n",
    "* ``knn.py`` -- основной файл, решающий задачу классификации всех периодов времени на сливы и заправки (бинарная классификация). Подробную реализацию метода и подходы к решению данной задачи смотрите именно в этом файле, снабжённым достаточным количеством комментариев для понимания происходящего внутри"
   ]
  },
  {
   "cell_type": "markdown",
   "metadata": {},
   "source": [
    "## 7. Остальные задачи\n",
    "\n",
    "Оставшиеся задачи из перечня для решения мы посчитали логичным выделить в отдельную сущность, отдельный Jupyter-ноутбук, а именно: задача классификации стилей вождения, выявления режимов наибольшего расхода топлива, а также режимов перевозки грузов решены и подробно описаны в файлах `Driving Style Classification.ipynb` и `Anti-Cruising State Search.ipynb`."
   ]
  },
  {
   "cell_type": "code",
   "execution_count": null,
   "metadata": {},
   "outputs": [],
   "source": []
  }
 ],
 "metadata": {
  "kernelspec": {
   "display_name": "Python 3",
   "language": "python",
   "name": "python3"
  },
  "language_info": {
   "codemirror_mode": {
    "name": "ipython",
    "version": 3
   },
   "file_extension": ".py",
   "mimetype": "text/x-python",
   "name": "python",
   "nbconvert_exporter": "python",
   "pygments_lexer": "ipython3",
   "version": "3.7.4"
  }
 },
 "nbformat": 4,
 "nbformat_minor": 2
}
