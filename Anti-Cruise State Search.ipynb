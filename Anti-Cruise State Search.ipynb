{
 "cells": [
  {
   "cell_type": "markdown",
   "metadata": {},
   "source": [
    "# Выявление режима работы техники с наибольшим расходом топлива"
   ]
  },
  {
   "cell_type": "markdown",
   "metadata": {},
   "source": [
    "В рамках этой задачи требуется найти такие показатели работы транспортного средства (ТС), при которых рясход топлива является максимальным."
   ]
  },
  {
   "cell_type": "markdown",
   "metadata": {},
   "source": [
    "## Препроцессинг данных"
   ]
  },
  {
   "cell_type": "markdown",
   "metadata": {},
   "source": [
    "Для определения стиля вождения были выбраны следующие параметры:\n",
    "1. Скорость движения (км/ч) - резкие скачки скорости указывают на резкий, опасный стиль вождения.\n",
    "2. Телематические данные о высоте над уровнем моря (м) - резкие изменения положения транспортного средства в пространстве указывают на непредсказуемый и опасный выбор траектории движения.\n",
    "3. Скорость вращения вала двигателя (обороты/с) - резкие изменения показателя оборотов двигателя указывают на спонтанное переключение передач ТС, что также указывает на неаккуратное вождение.\n",
    "\n",
    "Для начала форматируем данные в удобную для обработки форму."
   ]
  },
  {
   "cell_type": "code",
   "execution_count": 1,
   "metadata": {},
   "outputs": [],
   "source": [
    "import os\n",
    "import pandas as pd"
   ]
  },
  {
   "cell_type": "code",
   "execution_count": 2,
   "metadata": {},
   "outputs": [],
   "source": [
    "# get all files with vehicle word in name\n",
    "filenames = [filename for filename in os.listdir('./vehicle_dataset_public/') if filename.find('vehicle') != -1]"
   ]
  },
  {
   "cell_type": "code",
   "execution_count": 3,
   "metadata": {},
   "outputs": [],
   "source": [
    "def get_unique_vehicles_sensors(filenames):\n",
    "    vehicles, sensors = set(), set()\n",
    "    for filename in filenames:\n",
    "        vehicle_name, sensor_type, _ = filename.split('_')\n",
    "        vehicles.add(vehicle_name)\n",
    "        sensors.add(sensor_type)\n",
    "    return list(vehicles), list(sensors)"
   ]
  },
  {
   "cell_type": "code",
   "execution_count": 4,
   "metadata": {},
   "outputs": [],
   "source": [
    "vehicles, sensors = get_unique_vehicles_sensors(filenames)"
   ]
  },
  {
   "cell_type": "code",
   "execution_count": 5,
   "metadata": {},
   "outputs": [],
   "source": [
    "# sort vehicle names and sensor types\n",
    "vehicles.sort()\n",
    "sensors.sort()"
   ]
  },
  {
   "cell_type": "code",
   "execution_count": 6,
   "metadata": {},
   "outputs": [
    {
     "name": "stderr",
     "output_type": "stream",
     "text": [
      "C:\\Users\\User\\Anaconda3\\lib\\site-packages\\ipykernel_launcher.py:1: DeprecationWarning: The default dtype for empty Series will be 'object' instead of 'float64' in a future version. Specify a dtype explicitly to silence this warning.\n",
      "  \"\"\"Entry point for launching an IPython kernel.\n",
      "C:\\Users\\User\\Anaconda3\\lib\\site-packages\\ipykernel_launcher.py:3: DeprecationWarning: The default dtype for empty Series will be 'object' instead of 'float64' in a future version. Specify a dtype explicitly to silence this warning.\n",
      "  This is separate from the ipykernel package so we can avoid doing imports until\n"
     ]
    }
   ],
   "source": [
    "vehicles_data = pd.Series()\n",
    "for vehicle_name in vehicles:\n",
    "    vehicle = pd.Series()\n",
    "    for sensor in sensors:\n",
    "        sensor_df = pd.read_csv('./vehicle_dataset_public/'+'_'.join([vehicle_name, sensor, 'public.csv']), sep=';')\n",
    "        vehicle[sensor] = sensor_df\n",
    "    vehicles_data[vehicle_name] = vehicle"
   ]
  },
  {
   "cell_type": "markdown",
   "metadata": {},
   "source": [
    "Реализуем функции для приведение типов данных в датасете:"
   ]
  },
  {
   "cell_type": "code",
   "execution_count": 7,
   "metadata": {},
   "outputs": [],
   "source": [
    "def convert_number(num_as_string):\n",
    "    \"\"\"\n",
    "        function converts numbers from string format N,n (replace all commas with dots) \n",
    "        to pandas Series float value format N.n (real number)\n",
    "    \"\"\"\n",
    "\n",
    "    return num_as_string.str.replace(',', '.').astype('float')\n",
    "\n",
    "\n",
    "def convert_date(date_as_string):\n",
    "    \"\"\"\n",
    "        function converts date from string to datetime64 pandas date format\n",
    "    \"\"\"\n",
    "    \n",
    "    return date_as_string.astype('datetime64')\n",
    "\n",
    "\n",
    "# replace commas with dots and change type from object to float64\n",
    "for vehicle in vehicles:\n",
    "    # fuelLevel dataset preproccess\n",
    "    for sensor in sensors:\n",
    "        sensor_data = vehicles_data[vehicle][sensor]\n",
    "        values = sensor_data.columns\n",
    "        for value in values:\n",
    "            # three types: int | float | date\n",
    "            # need to become: int->int str->float (if BEVALUE) and not int64 already\n",
    "            # check correctness using print(vehicle, sensor, sensor_data, value)\n",
    "            if sensor_data[value].dtype == 'object':\n",
    "                date_like_columns = ['DTIME', 'STARTDATE', 'ENDDATE']\n",
    "                if value in date_like_columns:\n",
    "                    sensor_data[value] = convert_date(sensor_data[value])\n",
    "                else:\n",
    "                    sensor_data[value] = convert_number(sensor_data[value])\n",
    "            # if not object do nothing (cause int64 -> (goes to) int64 by default)"
   ]
  },
  {
   "cell_type": "code",
   "execution_count": 8,
   "metadata": {},
   "outputs": [],
   "source": [
    "# make dataframe with new features\n",
    "vehicles_df = pd.DataFrame()\n",
    "for vehicle in vehicles:\n",
    "    # get only features generated by us\n",
    "    generated_features = list(set(vehicles_data[vehicle].index) - set(sensors))\n",
    "    vehicles_df[vehicle] = vehicles_data[vehicle][generated_features]"
   ]
  },
  {
   "cell_type": "code",
   "execution_count": 9,
   "metadata": {},
   "outputs": [],
   "source": [
    "from matplotlib import pyplot as plt "
   ]
  },
  {
   "cell_type": "markdown",
   "metadata": {},
   "source": [
    "Удаляем из набора нереалистичные данные:"
   ]
  },
  {
   "cell_type": "code",
   "execution_count": 10,
   "metadata": {},
   "outputs": [
    {
     "name": "stderr",
     "output_type": "stream",
     "text": [
      "C:\\Users\\User\\Anaconda3\\lib\\site-packages\\pandas\\core\\generic.py:5303: SettingWithCopyWarning: \n",
      "A value is trying to be set on a copy of a slice from a DataFrame.\n",
      "Try using .loc[row_indexer,col_indexer] = value instead\n",
      "\n",
      "See the caveats in the documentation: https://pandas.pydata.org/pandas-docs/stable/user_guide/indexing.html#returning-a-view-versus-a-copy\n",
      "  self[name] = value\n"
     ]
    },
    {
     "data": {
      "text/html": [
       "<div>\n",
       "<style scoped>\n",
       "    .dataframe tbody tr th:only-of-type {\n",
       "        vertical-align: middle;\n",
       "    }\n",
       "\n",
       "    .dataframe tbody tr th {\n",
       "        vertical-align: top;\n",
       "    }\n",
       "\n",
       "    .dataframe thead th {\n",
       "        text-align: right;\n",
       "    }\n",
       "</style>\n",
       "<table border=\"1\" class=\"dataframe\">\n",
       "  <thead>\n",
       "    <tr style=\"text-align: right;\">\n",
       "      <th></th>\n",
       "      <th>DTIME</th>\n",
       "      <th>SPEED</th>\n",
       "      <th>HEIGHT</th>\n",
       "    </tr>\n",
       "  </thead>\n",
       "  <tbody>\n",
       "    <tr>\n",
       "      <th>6041</th>\n",
       "      <td>2020-03-26 08:56:10</td>\n",
       "      <td>0</td>\n",
       "      <td>48.5</td>\n",
       "    </tr>\n",
       "    <tr>\n",
       "      <th>6042</th>\n",
       "      <td>2020-03-26 08:56:25</td>\n",
       "      <td>0</td>\n",
       "      <td>26.9</td>\n",
       "    </tr>\n",
       "  </tbody>\n",
       "</table>\n",
       "</div>"
      ],
      "text/plain": [
       "                   DTIME  SPEED  HEIGHT\n",
       "6041 2020-03-26 08:56:10      0    48.5\n",
       "6042 2020-03-26 08:56:25      0    26.9"
      ]
     },
     "execution_count": 10,
     "metadata": {},
     "output_type": "execute_result"
    }
   ],
   "source": [
    "#delete imposible values from speed seria\n",
    "vehicles_data['vehicle3'].speedAndHeight[6041:6043].SPEED = 0\n",
    "vehicles_data['vehicle3'].speedAndHeight[6041:6043]"
   ]
  },
  {
   "cell_type": "code",
   "execution_count": 11,
   "metadata": {},
   "outputs": [],
   "source": [
    "#round datatime values to minute\n",
    "for vehicle in vehicles:\n",
    "    vehicles_data[vehicle].speedAndHeight.DTIME = vehicles_data[vehicle].speedAndHeight.DTIME.dt.round('T')\n",
    "    vehicles_data[vehicle].tachometer.DTIME = vehicles_data[vehicle].tachometer.DTIME.dt.round('T')"
   ]
  },
  {
   "cell_type": "code",
   "execution_count": 12,
   "metadata": {},
   "outputs": [
    {
     "name": "stderr",
     "output_type": "stream",
     "text": [
      "C:\\Users\\User\\Anaconda3\\lib\\site-packages\\ipykernel_launcher.py:5: SettingWithCopyWarning: \n",
      "A value is trying to be set on a copy of a slice from a DataFrame\n",
      "\n",
      "See the caveats in the documentation: https://pandas.pydata.org/pandas-docs/stable/user_guide/indexing.html#returning-a-view-versus-a-copy\n",
      "  \"\"\"\n"
     ]
    }
   ],
   "source": [
    "#round datatime values to minute\n",
    "for vehicle in vehicles:\n",
    "    for bevalue in range(1, len(vehicles_data[vehicle].fuelLevel.BEVALUE) - 1) :\n",
    "        if (vehicles_data[vehicle].fuelLevel.BEVALUE[bevalue] == 0):\n",
    "            vehicles_data[vehicle].fuelLevel.BEVALUE[bevalue] = (vehicles_data[vehicle].fuelLevel.BEVALUE[bevalue + 1] + vehicles_data[vehicle].fuelLevel.BEVALUE[bevalue - 1])/2\n",
    "        "
   ]
  },
  {
   "cell_type": "code",
   "execution_count": 13,
   "metadata": {},
   "outputs": [
    {
     "data": {
      "text/html": [
       "<div>\n",
       "<style scoped>\n",
       "    .dataframe tbody tr th:only-of-type {\n",
       "        vertical-align: middle;\n",
       "    }\n",
       "\n",
       "    .dataframe tbody tr th {\n",
       "        vertical-align: top;\n",
       "    }\n",
       "\n",
       "    .dataframe thead th {\n",
       "        text-align: right;\n",
       "    }\n",
       "</style>\n",
       "<table border=\"1\" class=\"dataframe\">\n",
       "  <thead>\n",
       "    <tr style=\"text-align: right;\">\n",
       "      <th></th>\n",
       "      <th>DTIME</th>\n",
       "      <th>BEVALUE</th>\n",
       "    </tr>\n",
       "  </thead>\n",
       "  <tbody>\n",
       "    <tr>\n",
       "      <th>50</th>\n",
       "      <td>2020-01-14 10:18:03</td>\n",
       "      <td>48.5</td>\n",
       "    </tr>\n",
       "    <tr>\n",
       "      <th>51</th>\n",
       "      <td>2020-01-14 10:19:03</td>\n",
       "      <td>49.0</td>\n",
       "    </tr>\n",
       "    <tr>\n",
       "      <th>52</th>\n",
       "      <td>2020-01-14 10:20:03</td>\n",
       "      <td>49.6</td>\n",
       "    </tr>\n",
       "    <tr>\n",
       "      <th>53</th>\n",
       "      <td>2020-01-14 10:21:03</td>\n",
       "      <td>49.4</td>\n",
       "    </tr>\n",
       "    <tr>\n",
       "      <th>54</th>\n",
       "      <td>2020-01-14 10:22:03</td>\n",
       "      <td>48.9</td>\n",
       "    </tr>\n",
       "    <tr>\n",
       "      <th>55</th>\n",
       "      <td>2020-01-14 10:23:03</td>\n",
       "      <td>48.5</td>\n",
       "    </tr>\n",
       "    <tr>\n",
       "      <th>56</th>\n",
       "      <td>2020-01-14 10:24:03</td>\n",
       "      <td>48.5</td>\n",
       "    </tr>\n",
       "    <tr>\n",
       "      <th>57</th>\n",
       "      <td>2020-01-14 10:25:03</td>\n",
       "      <td>48.3</td>\n",
       "    </tr>\n",
       "    <tr>\n",
       "      <th>58</th>\n",
       "      <td>2020-01-14 10:26:03</td>\n",
       "      <td>48.3</td>\n",
       "    </tr>\n",
       "    <tr>\n",
       "      <th>59</th>\n",
       "      <td>2020-01-14 10:27:03</td>\n",
       "      <td>48.4</td>\n",
       "    </tr>\n",
       "    <tr>\n",
       "      <th>60</th>\n",
       "      <td>2020-01-14 10:28:03</td>\n",
       "      <td>48.3</td>\n",
       "    </tr>\n",
       "    <tr>\n",
       "      <th>61</th>\n",
       "      <td>2020-01-14 10:29:03</td>\n",
       "      <td>48.3</td>\n",
       "    </tr>\n",
       "    <tr>\n",
       "      <th>62</th>\n",
       "      <td>2020-01-14 10:30:03</td>\n",
       "      <td>48.7</td>\n",
       "    </tr>\n",
       "    <tr>\n",
       "      <th>63</th>\n",
       "      <td>2020-01-14 10:31:03</td>\n",
       "      <td>49.0</td>\n",
       "    </tr>\n",
       "    <tr>\n",
       "      <th>64</th>\n",
       "      <td>2020-01-14 10:32:03</td>\n",
       "      <td>48.8</td>\n",
       "    </tr>\n",
       "    <tr>\n",
       "      <th>65</th>\n",
       "      <td>2020-01-14 10:33:03</td>\n",
       "      <td>49.0</td>\n",
       "    </tr>\n",
       "    <tr>\n",
       "      <th>66</th>\n",
       "      <td>2020-01-14 10:34:03</td>\n",
       "      <td>49.2</td>\n",
       "    </tr>\n",
       "    <tr>\n",
       "      <th>67</th>\n",
       "      <td>2020-01-14 10:35:03</td>\n",
       "      <td>49.3</td>\n",
       "    </tr>\n",
       "    <tr>\n",
       "      <th>68</th>\n",
       "      <td>2020-01-14 10:36:03</td>\n",
       "      <td>49.4</td>\n",
       "    </tr>\n",
       "    <tr>\n",
       "      <th>69</th>\n",
       "      <td>2020-01-14 10:37:03</td>\n",
       "      <td>49.9</td>\n",
       "    </tr>\n",
       "    <tr>\n",
       "      <th>70</th>\n",
       "      <td>2020-01-14 10:38:03</td>\n",
       "      <td>50.9</td>\n",
       "    </tr>\n",
       "    <tr>\n",
       "      <th>71</th>\n",
       "      <td>2020-01-14 10:39:03</td>\n",
       "      <td>51.2</td>\n",
       "    </tr>\n",
       "    <tr>\n",
       "      <th>72</th>\n",
       "      <td>2020-01-14 10:41:03</td>\n",
       "      <td>51.5</td>\n",
       "    </tr>\n",
       "    <tr>\n",
       "      <th>73</th>\n",
       "      <td>2020-01-14 10:56:22</td>\n",
       "      <td>50.8</td>\n",
       "    </tr>\n",
       "    <tr>\n",
       "      <th>74</th>\n",
       "      <td>2020-01-14 11:02:11</td>\n",
       "      <td>50.5</td>\n",
       "    </tr>\n",
       "    <tr>\n",
       "      <th>75</th>\n",
       "      <td>2020-01-14 11:03:11</td>\n",
       "      <td>50.4</td>\n",
       "    </tr>\n",
       "    <tr>\n",
       "      <th>76</th>\n",
       "      <td>2020-01-14 11:04:11</td>\n",
       "      <td>50.4</td>\n",
       "    </tr>\n",
       "    <tr>\n",
       "      <th>77</th>\n",
       "      <td>2020-01-14 11:05:11</td>\n",
       "      <td>50.4</td>\n",
       "    </tr>\n",
       "    <tr>\n",
       "      <th>78</th>\n",
       "      <td>2020-01-14 11:06:11</td>\n",
       "      <td>50.4</td>\n",
       "    </tr>\n",
       "    <tr>\n",
       "      <th>79</th>\n",
       "      <td>2020-01-14 11:07:11</td>\n",
       "      <td>49.8</td>\n",
       "    </tr>\n",
       "    <tr>\n",
       "      <th>80</th>\n",
       "      <td>2020-01-14 11:08:11</td>\n",
       "      <td>49.2</td>\n",
       "    </tr>\n",
       "    <tr>\n",
       "      <th>81</th>\n",
       "      <td>2020-01-14 11:09:11</td>\n",
       "      <td>48.6</td>\n",
       "    </tr>\n",
       "    <tr>\n",
       "      <th>82</th>\n",
       "      <td>2020-01-14 11:10:11</td>\n",
       "      <td>48.3</td>\n",
       "    </tr>\n",
       "    <tr>\n",
       "      <th>83</th>\n",
       "      <td>2020-01-14 11:11:11</td>\n",
       "      <td>48.3</td>\n",
       "    </tr>\n",
       "    <tr>\n",
       "      <th>84</th>\n",
       "      <td>2020-01-14 11:12:11</td>\n",
       "      <td>47.9</td>\n",
       "    </tr>\n",
       "    <tr>\n",
       "      <th>85</th>\n",
       "      <td>2020-01-14 11:13:11</td>\n",
       "      <td>47.3</td>\n",
       "    </tr>\n",
       "    <tr>\n",
       "      <th>86</th>\n",
       "      <td>2020-01-14 11:14:11</td>\n",
       "      <td>47.0</td>\n",
       "    </tr>\n",
       "    <tr>\n",
       "      <th>87</th>\n",
       "      <td>2020-01-14 11:15:11</td>\n",
       "      <td>46.5</td>\n",
       "    </tr>\n",
       "    <tr>\n",
       "      <th>88</th>\n",
       "      <td>2020-01-14 11:16:11</td>\n",
       "      <td>46.3</td>\n",
       "    </tr>\n",
       "    <tr>\n",
       "      <th>89</th>\n",
       "      <td>2020-01-14 11:17:11</td>\n",
       "      <td>46.3</td>\n",
       "    </tr>\n",
       "    <tr>\n",
       "      <th>90</th>\n",
       "      <td>2020-01-14 11:18:11</td>\n",
       "      <td>46.0</td>\n",
       "    </tr>\n",
       "    <tr>\n",
       "      <th>91</th>\n",
       "      <td>2020-01-14 11:19:11</td>\n",
       "      <td>46.3</td>\n",
       "    </tr>\n",
       "    <tr>\n",
       "      <th>92</th>\n",
       "      <td>2020-01-14 11:20:11</td>\n",
       "      <td>46.7</td>\n",
       "    </tr>\n",
       "    <tr>\n",
       "      <th>93</th>\n",
       "      <td>2020-01-14 11:21:11</td>\n",
       "      <td>46.3</td>\n",
       "    </tr>\n",
       "    <tr>\n",
       "      <th>94</th>\n",
       "      <td>2020-01-14 11:22:11</td>\n",
       "      <td>45.8</td>\n",
       "    </tr>\n",
       "    <tr>\n",
       "      <th>95</th>\n",
       "      <td>2020-01-14 11:23:11</td>\n",
       "      <td>45.9</td>\n",
       "    </tr>\n",
       "    <tr>\n",
       "      <th>96</th>\n",
       "      <td>2020-01-14 11:24:11</td>\n",
       "      <td>46.5</td>\n",
       "    </tr>\n",
       "    <tr>\n",
       "      <th>97</th>\n",
       "      <td>2020-01-14 11:25:11</td>\n",
       "      <td>46.9</td>\n",
       "    </tr>\n",
       "    <tr>\n",
       "      <th>98</th>\n",
       "      <td>2020-01-14 11:26:11</td>\n",
       "      <td>46.7</td>\n",
       "    </tr>\n",
       "    <tr>\n",
       "      <th>99</th>\n",
       "      <td>2020-01-14 11:27:11</td>\n",
       "      <td>46.0</td>\n",
       "    </tr>\n",
       "  </tbody>\n",
       "</table>\n",
       "</div>"
      ],
      "text/plain": [
       "                 DTIME  BEVALUE\n",
       "50 2020-01-14 10:18:03     48.5\n",
       "51 2020-01-14 10:19:03     49.0\n",
       "52 2020-01-14 10:20:03     49.6\n",
       "53 2020-01-14 10:21:03     49.4\n",
       "54 2020-01-14 10:22:03     48.9\n",
       "55 2020-01-14 10:23:03     48.5\n",
       "56 2020-01-14 10:24:03     48.5\n",
       "57 2020-01-14 10:25:03     48.3\n",
       "58 2020-01-14 10:26:03     48.3\n",
       "59 2020-01-14 10:27:03     48.4\n",
       "60 2020-01-14 10:28:03     48.3\n",
       "61 2020-01-14 10:29:03     48.3\n",
       "62 2020-01-14 10:30:03     48.7\n",
       "63 2020-01-14 10:31:03     49.0\n",
       "64 2020-01-14 10:32:03     48.8\n",
       "65 2020-01-14 10:33:03     49.0\n",
       "66 2020-01-14 10:34:03     49.2\n",
       "67 2020-01-14 10:35:03     49.3\n",
       "68 2020-01-14 10:36:03     49.4\n",
       "69 2020-01-14 10:37:03     49.9\n",
       "70 2020-01-14 10:38:03     50.9\n",
       "71 2020-01-14 10:39:03     51.2\n",
       "72 2020-01-14 10:41:03     51.5\n",
       "73 2020-01-14 10:56:22     50.8\n",
       "74 2020-01-14 11:02:11     50.5\n",
       "75 2020-01-14 11:03:11     50.4\n",
       "76 2020-01-14 11:04:11     50.4\n",
       "77 2020-01-14 11:05:11     50.4\n",
       "78 2020-01-14 11:06:11     50.4\n",
       "79 2020-01-14 11:07:11     49.8\n",
       "80 2020-01-14 11:08:11     49.2\n",
       "81 2020-01-14 11:09:11     48.6\n",
       "82 2020-01-14 11:10:11     48.3\n",
       "83 2020-01-14 11:11:11     48.3\n",
       "84 2020-01-14 11:12:11     47.9\n",
       "85 2020-01-14 11:13:11     47.3\n",
       "86 2020-01-14 11:14:11     47.0\n",
       "87 2020-01-14 11:15:11     46.5\n",
       "88 2020-01-14 11:16:11     46.3\n",
       "89 2020-01-14 11:17:11     46.3\n",
       "90 2020-01-14 11:18:11     46.0\n",
       "91 2020-01-14 11:19:11     46.3\n",
       "92 2020-01-14 11:20:11     46.7\n",
       "93 2020-01-14 11:21:11     46.3\n",
       "94 2020-01-14 11:22:11     45.8\n",
       "95 2020-01-14 11:23:11     45.9\n",
       "96 2020-01-14 11:24:11     46.5\n",
       "97 2020-01-14 11:25:11     46.9\n",
       "98 2020-01-14 11:26:11     46.7\n",
       "99 2020-01-14 11:27:11     46.0"
      ]
     },
     "execution_count": 13,
     "metadata": {},
     "output_type": "execute_result"
    }
   ],
   "source": [
    "vehicles_data['vehicle1'].fuelLevel[50:100]"
   ]
  },
  {
   "cell_type": "markdown",
   "metadata": {},
   "source": [
    "## Вычисление признаков"
   ]
  },
  {
   "cell_type": "markdown",
   "metadata": {},
   "source": [
    "В последующем анализе с целью определения показателей работы ТС, при которых происходит наибольший расход топлива, будут использоваться такие параметры, как скорость движения ТС, скорость оборотов вала двигателя и непосредственно уровень топлива в баке ТС. \n"
   ]
  },
  {
   "cell_type": "markdown",
   "metadata": {},
   "source": [
    "Для вычисления расхода топлива за некоторый короткий промежуток времени и вычисления соответствующих значений скорости движения и скорости вращения вала двигателя используем метод скользящего окна. В случае с уровнем топлива берем разность значений по краям окна, с случае скорости движения и скорости вращения - среднее значение крайних значений окна. Ширина окна эмпирически была определена равной 2 секундам, шаг окна - 1 секунда."
   ]
  },
  {
   "cell_type": "markdown",
   "metadata": {},
   "source": [
    "Для большей репрезентативности выборки значения по всем ТС поставим в один ряд."
   ]
  },
  {
   "cell_type": "code",
   "execution_count": 174,
   "metadata": {},
   "outputs": [],
   "source": [
    "import numpy as np"
   ]
  },
  {
   "cell_type": "code",
   "execution_count": 175,
   "metadata": {},
   "outputs": [],
   "source": [
    "# sliding window for speed\n",
    "#vehicles_data_fuel_lvl_dif = pd.Series()\n",
    "vehicles_data_fuel_lvl_dif = pd.DataFrame()\n",
    "w_length = 2  # window length (sec)\n",
    "w_step = 1  # window step  (sec)\n",
    " \n",
    "fuel_lvl_dif = []\n",
    "window_speed_mean = []\n",
    "window_tachometer_mean = []\n",
    "    \n",
    "for vehicle in vehicles:\n",
    "    current_vehicle = vehicles_data[vehicle]\n",
    "    \n",
    "    current_fuel_lvl_list = current_vehicle.fuelLevel.BEVALUE\n",
    "    current_speed_list = current_vehicle.speedAndHeight.SPEED\n",
    "    current_tachometer_list = current_vehicle.tachometer.BEVALUE\n",
    "    \n",
    "    w_start = np.arange(0, len(current_fuel_lvl_list) - w_length, w_step) \n",
    "    #vehicles_data_fuel_lvl_dif[vehicle] = pd.DataFrame()\n",
    "\n",
    " \n",
    "    \n",
    "    for n in w_start:\n",
    "        fuel_lvl_dif.append(current_fuel_lvl_list[n + w_length] - current_fuel_lvl_list[n])\n",
    "        window_speed_mean.append((current_speed_list[n + w_length] + current_speed_list[n])/2)\n",
    "        window_tachometer_mean.append((current_tachometer_list[n + w_length] + current_tachometer_list[n])/2)\n",
    "        \n",
    "    \n",
    "vehicles_data_fuel_lvl_dif['fuel_lvl_dif'] = fuel_lvl_dif\n",
    "vehicles_data_fuel_lvl_dif['window_speed_mean'] = window_speed_mean\n",
    "vehicles_data_fuel_lvl_dif['window_tachometer_mean'] = window_tachometer_mean\n",
    "    "
   ]
  },
  {
   "cell_type": "markdown",
   "metadata": {},
   "source": [
    " "
   ]
  },
  {
   "cell_type": "code",
   "execution_count": 176,
   "metadata": {},
   "outputs": [
    {
     "data": {
      "text/html": [
       "<div>\n",
       "<style scoped>\n",
       "    .dataframe tbody tr th:only-of-type {\n",
       "        vertical-align: middle;\n",
       "    }\n",
       "\n",
       "    .dataframe tbody tr th {\n",
       "        vertical-align: top;\n",
       "    }\n",
       "\n",
       "    .dataframe thead th {\n",
       "        text-align: right;\n",
       "    }\n",
       "</style>\n",
       "<table border=\"1\" class=\"dataframe\">\n",
       "  <thead>\n",
       "    <tr style=\"text-align: right;\">\n",
       "      <th></th>\n",
       "      <th>fuel_lvl_dif</th>\n",
       "      <th>window_speed_mean</th>\n",
       "      <th>window_tachometer_mean</th>\n",
       "    </tr>\n",
       "  </thead>\n",
       "  <tbody>\n",
       "    <tr>\n",
       "      <th>290</th>\n",
       "      <td>-42.300</td>\n",
       "      <td>10.5</td>\n",
       "      <td>1200.0</td>\n",
       "    </tr>\n",
       "    <tr>\n",
       "      <th>2530</th>\n",
       "      <td>-42.375</td>\n",
       "      <td>99.5</td>\n",
       "      <td>3600.0</td>\n",
       "    </tr>\n",
       "    <tr>\n",
       "      <th>9653</th>\n",
       "      <td>-44.475</td>\n",
       "      <td>30.5</td>\n",
       "      <td>1840.0</td>\n",
       "    </tr>\n",
       "    <tr>\n",
       "      <th>10655</th>\n",
       "      <td>-42.525</td>\n",
       "      <td>0.0</td>\n",
       "      <td>832.0</td>\n",
       "    </tr>\n",
       "    <tr>\n",
       "      <th>10965</th>\n",
       "      <td>-43.050</td>\n",
       "      <td>28.5</td>\n",
       "      <td>1328.0</td>\n",
       "    </tr>\n",
       "    <tr>\n",
       "      <th>...</th>\n",
       "      <td>...</td>\n",
       "      <td>...</td>\n",
       "      <td>...</td>\n",
       "    </tr>\n",
       "    <tr>\n",
       "      <th>76329</th>\n",
       "      <td>-45.075</td>\n",
       "      <td>94.5</td>\n",
       "      <td>2571.0</td>\n",
       "    </tr>\n",
       "    <tr>\n",
       "      <th>76387</th>\n",
       "      <td>-43.125</td>\n",
       "      <td>103.0</td>\n",
       "      <td>2828.0</td>\n",
       "    </tr>\n",
       "    <tr>\n",
       "      <th>76779</th>\n",
       "      <td>-54.750</td>\n",
       "      <td>31.5</td>\n",
       "      <td>1529.5</td>\n",
       "    </tr>\n",
       "    <tr>\n",
       "      <th>77294</th>\n",
       "      <td>-52.875</td>\n",
       "      <td>47.5</td>\n",
       "      <td>2182.5</td>\n",
       "    </tr>\n",
       "    <tr>\n",
       "      <th>78268</th>\n",
       "      <td>-43.800</td>\n",
       "      <td>87.5</td>\n",
       "      <td>2393.5</td>\n",
       "    </tr>\n",
       "  </tbody>\n",
       "</table>\n",
       "<p>96 rows × 3 columns</p>\n",
       "</div>"
      ],
      "text/plain": [
       "       fuel_lvl_dif  window_speed_mean  window_tachometer_mean\n",
       "290         -42.300               10.5                  1200.0\n",
       "2530        -42.375               99.5                  3600.0\n",
       "9653        -44.475               30.5                  1840.0\n",
       "10655       -42.525                0.0                   832.0\n",
       "10965       -43.050               28.5                  1328.0\n",
       "...             ...                ...                     ...\n",
       "76329       -45.075               94.5                  2571.0\n",
       "76387       -43.125              103.0                  2828.0\n",
       "76779       -54.750               31.5                  1529.5\n",
       "77294       -52.875               47.5                  2182.5\n",
       "78268       -43.800               87.5                  2393.5\n",
       "\n",
       "[96 rows x 3 columns]"
      ]
     },
     "execution_count": 176,
     "metadata": {},
     "output_type": "execute_result"
    }
   ],
   "source": [
    "vehicles_data_fuel_lvl_dif[vehicles_data_fuel_lvl_dif['fuel_lvl_dif'] <-40]"
   ]
  },
  {
   "cell_type": "markdown",
   "metadata": {},
   "source": [
    "Вычислим 0.005-квантиль, чтоб найти максимальные возможные значения расхода топлива в промежуток времени, равный 2 секундам."
   ]
  },
  {
   "cell_type": "code",
   "execution_count": 177,
   "metadata": {},
   "outputs": [
    {
     "data": {
      "text/plain": [
       "-28.199999999999996"
      ]
     },
     "execution_count": 177,
     "metadata": {},
     "output_type": "execute_result"
    }
   ],
   "source": [
    "max_fuel_lost = np.quantile(vehicles_data_fuel_lvl_dif['fuel_lvl_dif'], 0.005)\n",
    "max_fuel_lost"
   ]
  },
  {
   "cell_type": "code",
   "execution_count": 217,
   "metadata": {},
   "outputs": [],
   "source": [
    "vehicles_data_max_fuel_lost = vehicles_data_fuel_lvl_dif[vehicles_data_fuel_lvl_dif['fuel_lvl_dif'] <-28]"
   ]
  },
  {
   "cell_type": "code",
   "execution_count": 178,
   "metadata": {},
   "outputs": [],
   "source": [
    "import seaborn as sns"
   ]
  },
  {
   "cell_type": "code",
   "execution_count": 218,
   "metadata": {},
   "outputs": [
    {
     "data": {
      "text/plain": [
       "<seaborn.axisgrid.PairGrid at 0x13b223e1bc8>"
      ]
     },
     "execution_count": 218,
     "metadata": {},
     "output_type": "execute_result"
    },
    {
     "data": {
      "image/png": "[encoded data removed]",
      "text/plain": [
       "<Figure size 540x540 with 12 Axes>"
      ]
     },
     "metadata": {
      "needs_background": "light"
     },
     "output_type": "display_data"
    }
   ],
   "source": [
    "%config InlineBackend.figure_format = 'png' # формат изображений PNG, для сокращения времени отрисовки графиков       \n",
    "sns.pairplot(vehicles_data_max_fuel_lost)"
   ]
  },
  {
   "cell_type": "code",
   "execution_count": 219,
   "metadata": {},
   "outputs": [
    {
     "name": "stdout",
     "output_type": "stream",
     "text": [
      "                        fuel_lvl_dif  window_speed_mean  \\\n",
      "fuel_lvl_dif                1.000000          -0.020815   \n",
      "window_speed_mean          -0.020815           1.000000   \n",
      "window_tachometer_mean      0.020344           0.871469   \n",
      "\n",
      "                        window_tachometer_mean  \n",
      "fuel_lvl_dif                          0.020344  \n",
      "window_speed_mean                     0.871469  \n",
      "window_tachometer_mean                1.000000  \n"
     ]
    }
   ],
   "source": [
    "corrdf = vehicles_data_max_fuel_lost.corr(method='pearson') # method= {‘pearson’, ‘kendall’, ‘spearman’} или функция\n",
    "print (corrdf)"
   ]
  },
  {
   "cell_type": "markdown",
   "metadata": {},
   "source": [
    " "
   ]
  },
  {
   "cell_type": "markdown",
   "metadata": {},
   "source": [
    "По графику можно сделать вывод, что значения скорости движения и скорости оборотов двигателя при высоких затратах топлива коррелируют с коэффициентом корреляции, равным 0.87. "
   ]
  },
  {
   "cell_type": "markdown",
   "metadata": {},
   "source": [
    "Для определения режима работы ТС, при котором расход топлива максимален, находим зависимость между скоростью движения ТС и скоростью оборотов двигателя с помощью метода линейной регрессии."
   ]
  },
  {
   "cell_type": "code",
   "execution_count": 213,
   "metadata": {},
   "outputs": [],
   "source": [
    "from sklearn.linear_model import LinearRegression\n",
    "from sklearn.model_selection import train_test_split\n",
    "from sklearn.metrics import mean_squared_error, r2_score, mean_absolute_error"
   ]
  },
  {
   "cell_type": "code",
   "execution_count": 205,
   "metadata": {},
   "outputs": [],
   "source": [
    "window_speed_mean = vehicles_data_max_fuel_lost['window_speed_mean']\n",
    "window_tachometer_mean = vehicles_data_max_fuel_lost['window_tachometer_mean']"
   ]
  },
  {
   "cell_type": "markdown",
   "metadata": {},
   "source": [
    " "
   ]
  },
  {
   "cell_type": "markdown",
   "metadata": {},
   "source": [
    "В этом случае не принципиально, какой параметр будет являться независимой величиной, а какой зависимой, так как цель найти их соотношение."
   ]
  },
  {
   "cell_type": "code",
   "execution_count": 206,
   "metadata": {},
   "outputs": [
    {
     "data": {
      "text/plain": [
       "((300,), (100,), (300,), (100,))"
      ]
     },
     "execution_count": 206,
     "metadata": {},
     "output_type": "execute_result"
    }
   ],
   "source": [
    "Xtrn, Xtest, Ytrn, Ytest = train_test_split(window_speed_mean, window_tachometer_mean, test_size=0.25)\n",
    "Xtrn.shape, Xtest.shape, Ytrn.shape, Ytest.shape"
   ]
  },
  {
   "cell_type": "code",
   "execution_count": 207,
   "metadata": {},
   "outputs": [],
   "source": [
    "Xtrn = Xtrn.values.reshape(-1, 1)\n",
    "Xtest = Xtest.values.reshape(-1, 1)\n",
    "Ytrn = Ytrn.values.reshape(-1, 1)\n",
    "Ytest = Ytest.values.reshape(-1, 1)"
   ]
  },
  {
   "cell_type": "code",
   "execution_count": 209,
   "metadata": {},
   "outputs": [],
   "source": [
    "lr = LinearRegression()\n",
    "lr.fit(Xtrn, Ytrn)\n",
    "y_pred  = lr.predict(Xtest)"
   ]
  },
  {
   "cell_type": "code",
   "execution_count": 211,
   "metadata": {},
   "outputs": [
    {
     "data": {
      "text/plain": [
       "<Figure size 432x288 with 0 Axes>"
      ]
     },
     "metadata": {},
     "output_type": "display_data"
    },
    {
     "data": {
      "image/png": "[encoded data removed]",
      "text/plain": [
       "<Figure size 432x288 with 1 Axes>"
      ]
     },
     "metadata": {
      "needs_background": "light"
     },
     "output_type": "display_data"
    }
   ],
   "source": [
    "plt.figure()\n",
    "fig, ax = plt.subplots()\n",
    "ax.scatter(Xtrn, Ytrn, label=u'Тренировочный') \n",
    "ax.scatter(Xtest, Ytest, label=u'Проверочный') \n",
    "ax.scatter(Xtest, y_pred, color='purple', label=\"y_pred (x) = x * {:.0f} + {:.0f}\".format(lr.coef_[0][0], lr.intercept_[0]))\n",
    "ax.legend(loc=\"best\")\n",
    "ax.set_xlabel('Средняя скорость движения')\n",
    "ax.set_ylabel('Средняя скорость оборотов двигателя')\n",
    "\n",
    "plt.show()"
   ]
  },
  {
   "cell_type": "code",
   "execution_count": 215,
   "metadata": {},
   "outputs": [
    {
     "name": "stdout",
     "output_type": "stream",
     "text": [
      "y_pred (x) = x * 25 + 868\n",
      "\n",
      "MAE Mean absolute error: 336\n",
      "MSE Mean squared error: 201906\n",
      "RMSE Root Mean Squared Error: 449\n",
      "R2 of Linear Regression (1 is perfect): 0.812\n"
     ]
    }
   ],
   "source": [
    "print (\"MAE Mean absolute error: {:.0f}\".format( mean_absolute_error(Ytest, y_pred)))\n",
    "print (\"MSE Mean squared error: {:.0f}\".format( mean_squared_error(Ytest, y_pred)))\n",
    "print (\"RMSE Root Mean Squared Error: {:.0f}\".format(np.sqrt( mean_squared_error(Ytest, y_pred) )))\n",
    "print (\"R2 of Linear Regression (1 is perfect): {:.3f}\".format( r2_score(Ytest, y_pred)))"
   ]
  },
  {
   "cell_type": "markdown",
   "metadata": {},
   "source": [
    "С помощью линейной регрессии было получено следующее соотношение:\n"
   ]
  },
  {
   "cell_type": "markdown",
   "metadata": {},
   "source": [
    "*tachometer_value = speed * 25 + 868,*"
   ]
  },
  {
   "cell_type": "markdown",
   "metadata": {},
   "source": [
    "где speed - скорость движения ТС, tachometer_value - скорость вращения вала двигателя. Параметры, подходящие под это соотношение, являются режимом работы ТС с наибольшим расходом топлива."
   ]
  },
  {
   "cell_type": "code",
   "execution_count": null,
   "metadata": {},
   "outputs": [],
   "source": []
  }
 ],
 "metadata": {
  "kernelspec": {
   "display_name": "Python 3",
   "language": "python",
   "name": "python3"
  },
  "language_info": {
   "codemirror_mode": {
    "name": "ipython",
    "version": 3
   },
   "file_extension": ".py",
   "mimetype": "text/x-python",
   "name": "python",
   "nbconvert_exporter": "python",
   "pygments_lexer": "ipython3",
   "version": "3.7.7"
  }
 },
 "nbformat": 4,
 "nbformat_minor": 4
}
